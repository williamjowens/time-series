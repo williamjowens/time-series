{
  "nbformat": 4,
  "nbformat_minor": 0,
  "metadata": {
    "colab": {
      "provenance": [],
      "toc_visible": true,
      "machine_shape": "hm",
      "gpuType": "T4"
    },
    "kernelspec": {
      "name": "python3",
      "display_name": "Python 3"
    },
    "language_info": {
      "name": "python"
    },
    "accelerator": "GPU"
  },
  "cells": [
    {
      "cell_type": "markdown",
      "source": [
        "# Imports & Setup"
      ],
      "metadata": {
        "id": "HR5xrpFe4bEM"
      }
    },
    {
      "cell_type": "code",
      "source": [
        "import torch\n",
        "import torch.nn as nn\n",
        "import torch.optim as optim\n",
        "from torch.utils.data import Dataset, DataLoader, random_split\n",
        "\n",
        "import pandas as pd\n",
        "import numpy as np\n",
        "import matplotlib.pyplot as plt\n",
        "import seaborn as sns\n",
        "\n",
        "from sklearn.metrics import mean_squared_error, mean_absolute_error\n",
        "from sklearn.preprocessing import MinMaxScaler\n",
        "from statsmodels.api import datasets\n",
        "from statsmodels.tsa.stattools import adfuller\n",
        "\n",
        "from tqdm import tqdm\n",
        "import random\n",
        "import os\n",
        "import math\n",
        "\n",
        "import warnings\n",
        "warnings.filterwarnings('ignore')"
      ],
      "metadata": {
        "id": "JgMMD4l14gxD"
      },
      "execution_count": 1,
      "outputs": []
    },
    {
      "cell_type": "code",
      "source": [
        "def setup_environment(seed=42):\n",
        "    \"\"\"\n",
        "    Sets up the environment by setting random seeds and configuring the device.\n",
        "\n",
        "    Args:\n",
        "        seed (int): Seed value for reproducibility.\n",
        "\n",
        "    Returns:\n",
        "        torch.device: The device to run computations on.\n",
        "    \"\"\"\n",
        "    # Set random seeds for reproducibility\n",
        "    torch.manual_seed(seed)\n",
        "    np.random.seed(seed)\n",
        "    random.seed(seed)\n",
        "    os.environ['PYTHONHASHSEED'] = str(seed)\n",
        "\n",
        "    # Set device\n",
        "    device = torch.device(\"cuda\" if torch.cuda.is_available() else \"cpu\")\n",
        "    print(f\"Using device: {device}\")\n",
        "\n",
        "    return device\n",
        "\n",
        "# Execute environment setup\n",
        "device = setup_environment()"
      ],
      "metadata": {
        "colab": {
          "base_uri": "https://localhost:8080/"
        },
        "id": "9tqw9Ws74yaa",
        "outputId": "4141adf3-a89e-47d6-c8fa-68e9a9ce1028"
      },
      "execution_count": 2,
      "outputs": [
        {
          "output_type": "stream",
          "name": "stdout",
          "text": [
            "Using device: cuda\n"
          ]
        }
      ]
    },
    {
      "cell_type": "markdown",
      "source": [
        "# Data Loading"
      ],
      "metadata": {
        "id": "ti_YFyz641CI"
      }
    },
    {
      "cell_type": "code",
      "source": [
        "# Load sunspots dataset\n",
        "sunspots_data = datasets.sunspots.load_pandas().data\n",
        "\n",
        "# Display preview\n",
        "print(\"Preview of the Sunspots dataset:\")\n",
        "display(sunspots_data.head())"
      ],
      "metadata": {
        "colab": {
          "base_uri": "https://localhost:8080/",
          "height": 224
        },
        "id": "9nZPk3kW49Du",
        "outputId": "25fb7b8a-5066-468b-e6ad-f28322de0a9f"
      },
      "execution_count": 3,
      "outputs": [
        {
          "output_type": "stream",
          "name": "stdout",
          "text": [
            "Preview of the Sunspots dataset:\n"
          ]
        },
        {
          "output_type": "display_data",
          "data": {
            "text/plain": [
              "     YEAR  SUNACTIVITY\n",
              "0  1700.0          5.0\n",
              "1  1701.0         11.0\n",
              "2  1702.0         16.0\n",
              "3  1703.0         23.0\n",
              "4  1704.0         36.0"
            ],
            "text/html": [
              "\n",
              "  <div id=\"df-ba7bb835-f35c-49c6-a14c-ce1d0eddec79\" class=\"colab-df-container\">\n",
              "    <div>\n",
              "<style scoped>\n",
              "    .dataframe tbody tr th:only-of-type {\n",
              "        vertical-align: middle;\n",
              "    }\n",
              "\n",
              "    .dataframe tbody tr th {\n",
              "        vertical-align: top;\n",
              "    }\n",
              "\n",
              "    .dataframe thead th {\n",
              "        text-align: right;\n",
              "    }\n",
              "</style>\n",
              "<table border=\"1\" class=\"dataframe\">\n",
              "  <thead>\n",
              "    <tr style=\"text-align: right;\">\n",
              "      <th></th>\n",
              "      <th>YEAR</th>\n",
              "      <th>SUNACTIVITY</th>\n",
              "    </tr>\n",
              "  </thead>\n",
              "  <tbody>\n",
              "    <tr>\n",
              "      <th>0</th>\n",
              "      <td>1700.0</td>\n",
              "      <td>5.0</td>\n",
              "    </tr>\n",
              "    <tr>\n",
              "      <th>1</th>\n",
              "      <td>1701.0</td>\n",
              "      <td>11.0</td>\n",
              "    </tr>\n",
              "    <tr>\n",
              "      <th>2</th>\n",
              "      <td>1702.0</td>\n",
              "      <td>16.0</td>\n",
              "    </tr>\n",
              "    <tr>\n",
              "      <th>3</th>\n",
              "      <td>1703.0</td>\n",
              "      <td>23.0</td>\n",
              "    </tr>\n",
              "    <tr>\n",
              "      <th>4</th>\n",
              "      <td>1704.0</td>\n",
              "      <td>36.0</td>\n",
              "    </tr>\n",
              "  </tbody>\n",
              "</table>\n",
              "</div>\n",
              "    <div class=\"colab-df-buttons\">\n",
              "\n",
              "  <div class=\"colab-df-container\">\n",
              "    <button class=\"colab-df-convert\" onclick=\"convertToInteractive('df-ba7bb835-f35c-49c6-a14c-ce1d0eddec79')\"\n",
              "            title=\"Convert this dataframe to an interactive table.\"\n",
              "            style=\"display:none;\">\n",
              "\n",
              "  <svg xmlns=\"http://www.w3.org/2000/svg\" height=\"24px\" viewBox=\"0 -960 960 960\">\n",
              "    <path d=\"M120-120v-720h720v720H120Zm60-500h600v-160H180v160Zm220 220h160v-160H400v160Zm0 220h160v-160H400v160ZM180-400h160v-160H180v160Zm440 0h160v-160H620v160ZM180-180h160v-160H180v160Zm440 0h160v-160H620v160Z\"/>\n",
              "  </svg>\n",
              "    </button>\n",
              "\n",
              "  <style>\n",
              "    .colab-df-container {\n",
              "      display:flex;\n",
              "      gap: 12px;\n",
              "    }\n",
              "\n",
              "    .colab-df-convert {\n",
              "      background-color: #E8F0FE;\n",
              "      border: none;\n",
              "      border-radius: 50%;\n",
              "      cursor: pointer;\n",
              "      display: none;\n",
              "      fill: #1967D2;\n",
              "      height: 32px;\n",
              "      padding: 0 0 0 0;\n",
              "      width: 32px;\n",
              "    }\n",
              "\n",
              "    .colab-df-convert:hover {\n",
              "      background-color: #E2EBFA;\n",
              "      box-shadow: 0px 1px 2px rgba(60, 64, 67, 0.3), 0px 1px 3px 1px rgba(60, 64, 67, 0.15);\n",
              "      fill: #174EA6;\n",
              "    }\n",
              "\n",
              "    .colab-df-buttons div {\n",
              "      margin-bottom: 4px;\n",
              "    }\n",
              "\n",
              "    [theme=dark] .colab-df-convert {\n",
              "      background-color: #3B4455;\n",
              "      fill: #D2E3FC;\n",
              "    }\n",
              "\n",
              "    [theme=dark] .colab-df-convert:hover {\n",
              "      background-color: #434B5C;\n",
              "      box-shadow: 0px 1px 3px 1px rgba(0, 0, 0, 0.15);\n",
              "      filter: drop-shadow(0px 1px 2px rgba(0, 0, 0, 0.3));\n",
              "      fill: #FFFFFF;\n",
              "    }\n",
              "  </style>\n",
              "\n",
              "    <script>\n",
              "      const buttonEl =\n",
              "        document.querySelector('#df-ba7bb835-f35c-49c6-a14c-ce1d0eddec79 button.colab-df-convert');\n",
              "      buttonEl.style.display =\n",
              "        google.colab.kernel.accessAllowed ? 'block' : 'none';\n",
              "\n",
              "      async function convertToInteractive(key) {\n",
              "        const element = document.querySelector('#df-ba7bb835-f35c-49c6-a14c-ce1d0eddec79');\n",
              "        const dataTable =\n",
              "          await google.colab.kernel.invokeFunction('convertToInteractive',\n",
              "                                                    [key], {});\n",
              "        if (!dataTable) return;\n",
              "\n",
              "        const docLinkHtml = 'Like what you see? Visit the ' +\n",
              "          '<a target=\"_blank\" href=https://colab.research.google.com/notebooks/data_table.ipynb>data table notebook</a>'\n",
              "          + ' to learn more about interactive tables.';\n",
              "        element.innerHTML = '';\n",
              "        dataTable['output_type'] = 'display_data';\n",
              "        await google.colab.output.renderOutput(dataTable, element);\n",
              "        const docLink = document.createElement('div');\n",
              "        docLink.innerHTML = docLinkHtml;\n",
              "        element.appendChild(docLink);\n",
              "      }\n",
              "    </script>\n",
              "  </div>\n",
              "\n",
              "\n",
              "<div id=\"df-9c960e01-1fd6-4662-b8d3-026c808b82b4\">\n",
              "  <button class=\"colab-df-quickchart\" onclick=\"quickchart('df-9c960e01-1fd6-4662-b8d3-026c808b82b4')\"\n",
              "            title=\"Suggest charts\"\n",
              "            style=\"display:none;\">\n",
              "\n",
              "<svg xmlns=\"http://www.w3.org/2000/svg\" height=\"24px\"viewBox=\"0 0 24 24\"\n",
              "     width=\"24px\">\n",
              "    <g>\n",
              "        <path d=\"M19 3H5c-1.1 0-2 .9-2 2v14c0 1.1.9 2 2 2h14c1.1 0 2-.9 2-2V5c0-1.1-.9-2-2-2zM9 17H7v-7h2v7zm4 0h-2V7h2v10zm4 0h-2v-4h2v4z\"/>\n",
              "    </g>\n",
              "</svg>\n",
              "  </button>\n",
              "\n",
              "<style>\n",
              "  .colab-df-quickchart {\n",
              "      --bg-color: #E8F0FE;\n",
              "      --fill-color: #1967D2;\n",
              "      --hover-bg-color: #E2EBFA;\n",
              "      --hover-fill-color: #174EA6;\n",
              "      --disabled-fill-color: #AAA;\n",
              "      --disabled-bg-color: #DDD;\n",
              "  }\n",
              "\n",
              "  [theme=dark] .colab-df-quickchart {\n",
              "      --bg-color: #3B4455;\n",
              "      --fill-color: #D2E3FC;\n",
              "      --hover-bg-color: #434B5C;\n",
              "      --hover-fill-color: #FFFFFF;\n",
              "      --disabled-bg-color: #3B4455;\n",
              "      --disabled-fill-color: #666;\n",
              "  }\n",
              "\n",
              "  .colab-df-quickchart {\n",
              "    background-color: var(--bg-color);\n",
              "    border: none;\n",
              "    border-radius: 50%;\n",
              "    cursor: pointer;\n",
              "    display: none;\n",
              "    fill: var(--fill-color);\n",
              "    height: 32px;\n",
              "    padding: 0;\n",
              "    width: 32px;\n",
              "  }\n",
              "\n",
              "  .colab-df-quickchart:hover {\n",
              "    background-color: var(--hover-bg-color);\n",
              "    box-shadow: 0 1px 2px rgba(60, 64, 67, 0.3), 0 1px 3px 1px rgba(60, 64, 67, 0.15);\n",
              "    fill: var(--button-hover-fill-color);\n",
              "  }\n",
              "\n",
              "  .colab-df-quickchart-complete:disabled,\n",
              "  .colab-df-quickchart-complete:disabled:hover {\n",
              "    background-color: var(--disabled-bg-color);\n",
              "    fill: var(--disabled-fill-color);\n",
              "    box-shadow: none;\n",
              "  }\n",
              "\n",
              "  .colab-df-spinner {\n",
              "    border: 2px solid var(--fill-color);\n",
              "    border-color: transparent;\n",
              "    border-bottom-color: var(--fill-color);\n",
              "    animation:\n",
              "      spin 1s steps(1) infinite;\n",
              "  }\n",
              "\n",
              "  @keyframes spin {\n",
              "    0% {\n",
              "      border-color: transparent;\n",
              "      border-bottom-color: var(--fill-color);\n",
              "      border-left-color: var(--fill-color);\n",
              "    }\n",
              "    20% {\n",
              "      border-color: transparent;\n",
              "      border-left-color: var(--fill-color);\n",
              "      border-top-color: var(--fill-color);\n",
              "    }\n",
              "    30% {\n",
              "      border-color: transparent;\n",
              "      border-left-color: var(--fill-color);\n",
              "      border-top-color: var(--fill-color);\n",
              "      border-right-color: var(--fill-color);\n",
              "    }\n",
              "    40% {\n",
              "      border-color: transparent;\n",
              "      border-right-color: var(--fill-color);\n",
              "      border-top-color: var(--fill-color);\n",
              "    }\n",
              "    60% {\n",
              "      border-color: transparent;\n",
              "      border-right-color: var(--fill-color);\n",
              "    }\n",
              "    80% {\n",
              "      border-color: transparent;\n",
              "      border-right-color: var(--fill-color);\n",
              "      border-bottom-color: var(--fill-color);\n",
              "    }\n",
              "    90% {\n",
              "      border-color: transparent;\n",
              "      border-bottom-color: var(--fill-color);\n",
              "    }\n",
              "  }\n",
              "</style>\n",
              "\n",
              "  <script>\n",
              "    async function quickchart(key) {\n",
              "      const quickchartButtonEl =\n",
              "        document.querySelector('#' + key + ' button');\n",
              "      quickchartButtonEl.disabled = true;  // To prevent multiple clicks.\n",
              "      quickchartButtonEl.classList.add('colab-df-spinner');\n",
              "      try {\n",
              "        const charts = await google.colab.kernel.invokeFunction(\n",
              "            'suggestCharts', [key], {});\n",
              "      } catch (error) {\n",
              "        console.error('Error during call to suggestCharts:', error);\n",
              "      }\n",
              "      quickchartButtonEl.classList.remove('colab-df-spinner');\n",
              "      quickchartButtonEl.classList.add('colab-df-quickchart-complete');\n",
              "    }\n",
              "    (() => {\n",
              "      let quickchartButtonEl =\n",
              "        document.querySelector('#df-9c960e01-1fd6-4662-b8d3-026c808b82b4 button');\n",
              "      quickchartButtonEl.style.display =\n",
              "        google.colab.kernel.accessAllowed ? 'block' : 'none';\n",
              "    })();\n",
              "  </script>\n",
              "</div>\n",
              "\n",
              "    </div>\n",
              "  </div>\n"
            ],
            "application/vnd.google.colaboratory.intrinsic+json": {
              "type": "dataframe",
              "summary": "{\n  \"name\": \"display(sunspots_data\",\n  \"rows\": 5,\n  \"fields\": [\n    {\n      \"column\": \"YEAR\",\n      \"properties\": {\n        \"dtype\": \"number\",\n        \"std\": 1.5811388300841898,\n        \"min\": 1700.0,\n        \"max\": 1704.0,\n        \"num_unique_values\": 5,\n        \"samples\": [\n          1701.0,\n          1704.0,\n          1702.0\n        ],\n        \"semantic_type\": \"\",\n        \"description\": \"\"\n      }\n    },\n    {\n      \"column\": \"SUNACTIVITY\",\n      \"properties\": {\n        \"dtype\": \"number\",\n        \"std\": 11.945710527214361,\n        \"min\": 5.0,\n        \"max\": 36.0,\n        \"num_unique_values\": 5,\n        \"samples\": [\n          11.0,\n          36.0,\n          16.0\n        ],\n        \"semantic_type\": \"\",\n        \"description\": \"\"\n      }\n    }\n  ]\n}"
            }
          },
          "metadata": {}
        }
      ]
    },
    {
      "cell_type": "code",
      "source": [
        "# Check the columns\n",
        "print(\"Dataset Columns:\", sunspots_data.columns.tolist())"
      ],
      "metadata": {
        "colab": {
          "base_uri": "https://localhost:8080/"
        },
        "id": "iTexKZzv6z6V",
        "outputId": "75d3b13c-f703-477b-c4e6-c13a5ed2ee11"
      },
      "execution_count": 4,
      "outputs": [
        {
          "output_type": "stream",
          "name": "stdout",
          "text": [
            "Dataset Columns: ['YEAR', 'SUNACTIVITY']\n"
          ]
        }
      ]
    },
    {
      "cell_type": "code",
      "source": [
        "# Extract only the 'SUNACTIVITY' column and rename it to 'Sunspots'\n",
        "# Convert 'YEAR' to datetime and set as index\n",
        "sunspots_data['YEAR'] = sunspots_data['YEAR'].astype(int)\n",
        "sunspots_data['Date'] = pd.to_datetime(sunspots_data['YEAR'], format='%Y')\n",
        "sunspots = sunspots_data.set_index('Date')[['SUNACTIVITY']].copy()\n",
        "sunspots.rename(columns={'SUNACTIVITY': 'Sunspots'}, inplace=True)"
      ],
      "metadata": {
        "id": "tYY5RzAp6gyp"
      },
      "execution_count": 5,
      "outputs": []
    },
    {
      "cell_type": "code",
      "source": [
        "# Display after processing\n",
        "print(\"Preview of the processed Sunspots dataset:\")\n",
        "display(sunspots.head())"
      ],
      "metadata": {
        "colab": {
          "base_uri": "https://localhost:8080/",
          "height": 255
        },
        "id": "7s8yimYW64Op",
        "outputId": "eaadee9c-80a1-493d-b275-4d08f124e51f"
      },
      "execution_count": 6,
      "outputs": [
        {
          "output_type": "stream",
          "name": "stdout",
          "text": [
            "Preview of the processed Sunspots dataset:\n"
          ]
        },
        {
          "output_type": "display_data",
          "data": {
            "text/plain": [
              "            Sunspots\n",
              "Date                \n",
              "1700-01-01       5.0\n",
              "1701-01-01      11.0\n",
              "1702-01-01      16.0\n",
              "1703-01-01      23.0\n",
              "1704-01-01      36.0"
            ],
            "text/html": [
              "\n",
              "  <div id=\"df-2d2c2f49-bc45-4bb4-ad74-2579ab1f4822\" class=\"colab-df-container\">\n",
              "    <div>\n",
              "<style scoped>\n",
              "    .dataframe tbody tr th:only-of-type {\n",
              "        vertical-align: middle;\n",
              "    }\n",
              "\n",
              "    .dataframe tbody tr th {\n",
              "        vertical-align: top;\n",
              "    }\n",
              "\n",
              "    .dataframe thead th {\n",
              "        text-align: right;\n",
              "    }\n",
              "</style>\n",
              "<table border=\"1\" class=\"dataframe\">\n",
              "  <thead>\n",
              "    <tr style=\"text-align: right;\">\n",
              "      <th></th>\n",
              "      <th>Sunspots</th>\n",
              "    </tr>\n",
              "    <tr>\n",
              "      <th>Date</th>\n",
              "      <th></th>\n",
              "    </tr>\n",
              "  </thead>\n",
              "  <tbody>\n",
              "    <tr>\n",
              "      <th>1700-01-01</th>\n",
              "      <td>5.0</td>\n",
              "    </tr>\n",
              "    <tr>\n",
              "      <th>1701-01-01</th>\n",
              "      <td>11.0</td>\n",
              "    </tr>\n",
              "    <tr>\n",
              "      <th>1702-01-01</th>\n",
              "      <td>16.0</td>\n",
              "    </tr>\n",
              "    <tr>\n",
              "      <th>1703-01-01</th>\n",
              "      <td>23.0</td>\n",
              "    </tr>\n",
              "    <tr>\n",
              "      <th>1704-01-01</th>\n",
              "      <td>36.0</td>\n",
              "    </tr>\n",
              "  </tbody>\n",
              "</table>\n",
              "</div>\n",
              "    <div class=\"colab-df-buttons\">\n",
              "\n",
              "  <div class=\"colab-df-container\">\n",
              "    <button class=\"colab-df-convert\" onclick=\"convertToInteractive('df-2d2c2f49-bc45-4bb4-ad74-2579ab1f4822')\"\n",
              "            title=\"Convert this dataframe to an interactive table.\"\n",
              "            style=\"display:none;\">\n",
              "\n",
              "  <svg xmlns=\"http://www.w3.org/2000/svg\" height=\"24px\" viewBox=\"0 -960 960 960\">\n",
              "    <path d=\"M120-120v-720h720v720H120Zm60-500h600v-160H180v160Zm220 220h160v-160H400v160Zm0 220h160v-160H400v160ZM180-400h160v-160H180v160Zm440 0h160v-160H620v160ZM180-180h160v-160H180v160Zm440 0h160v-160H620v160Z\"/>\n",
              "  </svg>\n",
              "    </button>\n",
              "\n",
              "  <style>\n",
              "    .colab-df-container {\n",
              "      display:flex;\n",
              "      gap: 12px;\n",
              "    }\n",
              "\n",
              "    .colab-df-convert {\n",
              "      background-color: #E8F0FE;\n",
              "      border: none;\n",
              "      border-radius: 50%;\n",
              "      cursor: pointer;\n",
              "      display: none;\n",
              "      fill: #1967D2;\n",
              "      height: 32px;\n",
              "      padding: 0 0 0 0;\n",
              "      width: 32px;\n",
              "    }\n",
              "\n",
              "    .colab-df-convert:hover {\n",
              "      background-color: #E2EBFA;\n",
              "      box-shadow: 0px 1px 2px rgba(60, 64, 67, 0.3), 0px 1px 3px 1px rgba(60, 64, 67, 0.15);\n",
              "      fill: #174EA6;\n",
              "    }\n",
              "\n",
              "    .colab-df-buttons div {\n",
              "      margin-bottom: 4px;\n",
              "    }\n",
              "\n",
              "    [theme=dark] .colab-df-convert {\n",
              "      background-color: #3B4455;\n",
              "      fill: #D2E3FC;\n",
              "    }\n",
              "\n",
              "    [theme=dark] .colab-df-convert:hover {\n",
              "      background-color: #434B5C;\n",
              "      box-shadow: 0px 1px 3px 1px rgba(0, 0, 0, 0.15);\n",
              "      filter: drop-shadow(0px 1px 2px rgba(0, 0, 0, 0.3));\n",
              "      fill: #FFFFFF;\n",
              "    }\n",
              "  </style>\n",
              "\n",
              "    <script>\n",
              "      const buttonEl =\n",
              "        document.querySelector('#df-2d2c2f49-bc45-4bb4-ad74-2579ab1f4822 button.colab-df-convert');\n",
              "      buttonEl.style.display =\n",
              "        google.colab.kernel.accessAllowed ? 'block' : 'none';\n",
              "\n",
              "      async function convertToInteractive(key) {\n",
              "        const element = document.querySelector('#df-2d2c2f49-bc45-4bb4-ad74-2579ab1f4822');\n",
              "        const dataTable =\n",
              "          await google.colab.kernel.invokeFunction('convertToInteractive',\n",
              "                                                    [key], {});\n",
              "        if (!dataTable) return;\n",
              "\n",
              "        const docLinkHtml = 'Like what you see? Visit the ' +\n",
              "          '<a target=\"_blank\" href=https://colab.research.google.com/notebooks/data_table.ipynb>data table notebook</a>'\n",
              "          + ' to learn more about interactive tables.';\n",
              "        element.innerHTML = '';\n",
              "        dataTable['output_type'] = 'display_data';\n",
              "        await google.colab.output.renderOutput(dataTable, element);\n",
              "        const docLink = document.createElement('div');\n",
              "        docLink.innerHTML = docLinkHtml;\n",
              "        element.appendChild(docLink);\n",
              "      }\n",
              "    </script>\n",
              "  </div>\n",
              "\n",
              "\n",
              "<div id=\"df-bd9ff7ff-adbb-46d0-a21d-f6a36e932e9c\">\n",
              "  <button class=\"colab-df-quickchart\" onclick=\"quickchart('df-bd9ff7ff-adbb-46d0-a21d-f6a36e932e9c')\"\n",
              "            title=\"Suggest charts\"\n",
              "            style=\"display:none;\">\n",
              "\n",
              "<svg xmlns=\"http://www.w3.org/2000/svg\" height=\"24px\"viewBox=\"0 0 24 24\"\n",
              "     width=\"24px\">\n",
              "    <g>\n",
              "        <path d=\"M19 3H5c-1.1 0-2 .9-2 2v14c0 1.1.9 2 2 2h14c1.1 0 2-.9 2-2V5c0-1.1-.9-2-2-2zM9 17H7v-7h2v7zm4 0h-2V7h2v10zm4 0h-2v-4h2v4z\"/>\n",
              "    </g>\n",
              "</svg>\n",
              "  </button>\n",
              "\n",
              "<style>\n",
              "  .colab-df-quickchart {\n",
              "      --bg-color: #E8F0FE;\n",
              "      --fill-color: #1967D2;\n",
              "      --hover-bg-color: #E2EBFA;\n",
              "      --hover-fill-color: #174EA6;\n",
              "      --disabled-fill-color: #AAA;\n",
              "      --disabled-bg-color: #DDD;\n",
              "  }\n",
              "\n",
              "  [theme=dark] .colab-df-quickchart {\n",
              "      --bg-color: #3B4455;\n",
              "      --fill-color: #D2E3FC;\n",
              "      --hover-bg-color: #434B5C;\n",
              "      --hover-fill-color: #FFFFFF;\n",
              "      --disabled-bg-color: #3B4455;\n",
              "      --disabled-fill-color: #666;\n",
              "  }\n",
              "\n",
              "  .colab-df-quickchart {\n",
              "    background-color: var(--bg-color);\n",
              "    border: none;\n",
              "    border-radius: 50%;\n",
              "    cursor: pointer;\n",
              "    display: none;\n",
              "    fill: var(--fill-color);\n",
              "    height: 32px;\n",
              "    padding: 0;\n",
              "    width: 32px;\n",
              "  }\n",
              "\n",
              "  .colab-df-quickchart:hover {\n",
              "    background-color: var(--hover-bg-color);\n",
              "    box-shadow: 0 1px 2px rgba(60, 64, 67, 0.3), 0 1px 3px 1px rgba(60, 64, 67, 0.15);\n",
              "    fill: var(--button-hover-fill-color);\n",
              "  }\n",
              "\n",
              "  .colab-df-quickchart-complete:disabled,\n",
              "  .colab-df-quickchart-complete:disabled:hover {\n",
              "    background-color: var(--disabled-bg-color);\n",
              "    fill: var(--disabled-fill-color);\n",
              "    box-shadow: none;\n",
              "  }\n",
              "\n",
              "  .colab-df-spinner {\n",
              "    border: 2px solid var(--fill-color);\n",
              "    border-color: transparent;\n",
              "    border-bottom-color: var(--fill-color);\n",
              "    animation:\n",
              "      spin 1s steps(1) infinite;\n",
              "  }\n",
              "\n",
              "  @keyframes spin {\n",
              "    0% {\n",
              "      border-color: transparent;\n",
              "      border-bottom-color: var(--fill-color);\n",
              "      border-left-color: var(--fill-color);\n",
              "    }\n",
              "    20% {\n",
              "      border-color: transparent;\n",
              "      border-left-color: var(--fill-color);\n",
              "      border-top-color: var(--fill-color);\n",
              "    }\n",
              "    30% {\n",
              "      border-color: transparent;\n",
              "      border-left-color: var(--fill-color);\n",
              "      border-top-color: var(--fill-color);\n",
              "      border-right-color: var(--fill-color);\n",
              "    }\n",
              "    40% {\n",
              "      border-color: transparent;\n",
              "      border-right-color: var(--fill-color);\n",
              "      border-top-color: var(--fill-color);\n",
              "    }\n",
              "    60% {\n",
              "      border-color: transparent;\n",
              "      border-right-color: var(--fill-color);\n",
              "    }\n",
              "    80% {\n",
              "      border-color: transparent;\n",
              "      border-right-color: var(--fill-color);\n",
              "      border-bottom-color: var(--fill-color);\n",
              "    }\n",
              "    90% {\n",
              "      border-color: transparent;\n",
              "      border-bottom-color: var(--fill-color);\n",
              "    }\n",
              "  }\n",
              "</style>\n",
              "\n",
              "  <script>\n",
              "    async function quickchart(key) {\n",
              "      const quickchartButtonEl =\n",
              "        document.querySelector('#' + key + ' button');\n",
              "      quickchartButtonEl.disabled = true;  // To prevent multiple clicks.\n",
              "      quickchartButtonEl.classList.add('colab-df-spinner');\n",
              "      try {\n",
              "        const charts = await google.colab.kernel.invokeFunction(\n",
              "            'suggestCharts', [key], {});\n",
              "      } catch (error) {\n",
              "        console.error('Error during call to suggestCharts:', error);\n",
              "      }\n",
              "      quickchartButtonEl.classList.remove('colab-df-spinner');\n",
              "      quickchartButtonEl.classList.add('colab-df-quickchart-complete');\n",
              "    }\n",
              "    (() => {\n",
              "      let quickchartButtonEl =\n",
              "        document.querySelector('#df-bd9ff7ff-adbb-46d0-a21d-f6a36e932e9c button');\n",
              "      quickchartButtonEl.style.display =\n",
              "        google.colab.kernel.accessAllowed ? 'block' : 'none';\n",
              "    })();\n",
              "  </script>\n",
              "</div>\n",
              "\n",
              "    </div>\n",
              "  </div>\n"
            ],
            "application/vnd.google.colaboratory.intrinsic+json": {
              "type": "dataframe",
              "summary": "{\n  \"name\": \"display(sunspots\",\n  \"rows\": 5,\n  \"fields\": [\n    {\n      \"column\": \"Date\",\n      \"properties\": {\n        \"dtype\": \"date\",\n        \"min\": \"1700-01-01 00:00:00\",\n        \"max\": \"1704-01-01 00:00:00\",\n        \"num_unique_values\": 5,\n        \"samples\": [\n          \"1701-01-01 00:00:00\",\n          \"1704-01-01 00:00:00\",\n          \"1702-01-01 00:00:00\"\n        ],\n        \"semantic_type\": \"\",\n        \"description\": \"\"\n      }\n    },\n    {\n      \"column\": \"Sunspots\",\n      \"properties\": {\n        \"dtype\": \"number\",\n        \"std\": 11.945710527214361,\n        \"min\": 5.0,\n        \"max\": 36.0,\n        \"num_unique_values\": 5,\n        \"samples\": [\n          11.0,\n          36.0,\n          16.0\n        ],\n        \"semantic_type\": \"\",\n        \"description\": \"\"\n      }\n    }\n  ]\n}"
            }
          },
          "metadata": {}
        }
      ]
    },
    {
      "cell_type": "code",
      "source": [
        "# Plot the sunspots time series\n",
        "plt.figure(figsize=(14, 6))\n",
        "plt.plot(sunspots.index, sunspots['Sunspots'], label='Sunspots')\n",
        "plt.title('Annual Sunspot Activity (1700-1983)')\n",
        "plt.xlabel('Year')\n",
        "plt.ylabel('Number of Sunspots')\n",
        "plt.legend()\n",
        "plt.grid(True)\n",
        "plt.show()"
      ],
      "metadata": {
        "colab": {
          "base_uri": "https://localhost:8080/",
          "height": 496
        },
        "id": "zn2YxbU84_lt",
        "outputId": "7e310668-4e1c-43a0-f502-8e6262a2c729"
      },
      "execution_count": 7,
      "outputs": [
        {
          "output_type": "display_data",
          "data": {
            "text/plain": [
              "<Figure size 1400x600 with 1 Axes>"
            ],
            "image/png": "[encoded data removed]"
          },
          "metadata": {}
        }
      ]
    },
    {
      "cell_type": "code",
      "source": [
        "def check_stationarity(series, significance_level=0.05):\n",
        "    \"\"\"\n",
        "    Performs the Augmented Dickey-Fuller test to check stationarity.\n",
        "\n",
        "    Args:\n",
        "        series (pd.Series): Time series data.\n",
        "        significance_level (float): Significance level for the test.\n",
        "\n",
        "    Returns:\n",
        "        None: Prints the test results.\n",
        "    \"\"\"\n",
        "    result = adfuller(series)\n",
        "    print('ADF Statistic:', result[0])\n",
        "    print('p-value:', result[1])\n",
        "    for key, value in result[4].items():\n",
        "        print(f'Critical Value ({key}): {value}')\n",
        "    if result[1] < significance_level:\n",
        "        print(\"The series is stationary.\")\n",
        "    else:\n",
        "        print(\"The series is non-stationary.\")\n",
        "\n",
        "# Check stationarity\n",
        "print(\"Checking stationarity...\")\n",
        "check_stationarity(sunspots['Sunspots'], significance_level=0.05)"
      ],
      "metadata": {
        "colab": {
          "base_uri": "https://localhost:8080/"
        },
        "id": "dNhnMN-POFm3",
        "outputId": "f68f639d-8d66-422b-8af2-142ea14baf6f"
      },
      "execution_count": 8,
      "outputs": [
        {
          "output_type": "stream",
          "name": "stdout",
          "text": [
            "Checking stationarity...\n",
            "ADF Statistic: -2.8377807249381943\n",
            "p-value: 0.053076421728120673\n",
            "Critical Value (1%): -3.4523371197407404\n",
            "Critical Value (5%): -2.871222860740741\n",
            "Critical Value (10%): -2.571929211111111\n",
            "The series is non-stationary.\n"
          ]
        }
      ]
    },
    {
      "cell_type": "markdown",
      "source": [
        "# Preprocessing"
      ],
      "metadata": {
        "id": "n10_-jdj5EFE"
      }
    },
    {
      "cell_type": "code",
      "source": [
        "# Define split ratios\n",
        "train_ratio = 0.7\n",
        "val_ratio = 0.15\n",
        "test_ratio = 0.15\n",
        "\n",
        "# Calculate split indices\n",
        "n_total = len(sunspots)\n",
        "n_train = int(n_total * train_ratio)\n",
        "n_val = int(n_total * val_ratio)\n",
        "n_test = n_total - n_train - n_val\n",
        "\n",
        "# Split the data\n",
        "train_data = sunspots.iloc[:n_train]\n",
        "val_data = sunspots.iloc[n_train:n_train + n_val]\n",
        "test_data = sunspots.iloc[n_train + n_val:]\n",
        "\n",
        "print(f\"Total samples: {n_total}\")\n",
        "print(f\"Training samples: {len(train_data)}\")\n",
        "print(f\"Validation samples: {len(val_data)}\")\n",
        "print(f\"Test samples: {len(test_data)}\")"
      ],
      "metadata": {
        "colab": {
          "base_uri": "https://localhost:8080/"
        },
        "id": "vLm3c-OiROpb",
        "outputId": "3522c816-7665-4e22-d292-0dbc81f3f48e"
      },
      "execution_count": 9,
      "outputs": [
        {
          "output_type": "stream",
          "name": "stdout",
          "text": [
            "Total samples: 309\n",
            "Training samples: 216\n",
            "Validation samples: 46\n",
            "Test samples: 47\n"
          ]
        }
      ]
    },
    {
      "cell_type": "code",
      "source": [
        "# Add 'Year' as a feature\n",
        "def add_time_features(df):\n",
        "    \"\"\"\n",
        "    Adds time-based features to the dataframe.\n",
        "\n",
        "    Args:\n",
        "        df (pd.DataFrame): Dataframe with datetime index.\n",
        "\n",
        "    Returns:\n",
        "        pd.DataFrame: Dataframe with added time features.\n",
        "    \"\"\"\n",
        "    df = df.copy()\n",
        "    df['Year'] = df.index.year\n",
        "    return df\n",
        "\n",
        "# Apply to all splits\n",
        "train_data = add_time_features(train_data)\n",
        "val_data = add_time_features(val_data)\n",
        "test_data = add_time_features(test_data)\n",
        "\n",
        "# Display the data\n",
        "print(\"Preview of the training data with time feature:\")\n",
        "display(train_data.head())"
      ],
      "metadata": {
        "colab": {
          "base_uri": "https://localhost:8080/",
          "height": 255
        },
        "id": "pbSLFigJROm2",
        "outputId": "ddede339-6c95-4df5-ff75-9f8e16bbcf2a"
      },
      "execution_count": 10,
      "outputs": [
        {
          "output_type": "stream",
          "name": "stdout",
          "text": [
            "Preview of the training data with time feature:\n"
          ]
        },
        {
          "output_type": "display_data",
          "data": {
            "text/plain": [
              "            Sunspots  Year\n",
              "Date                      \n",
              "1700-01-01       5.0  1700\n",
              "1701-01-01      11.0  1701\n",
              "1702-01-01      16.0  1702\n",
              "1703-01-01      23.0  1703\n",
              "1704-01-01      36.0  1704"
            ],
            "text/html": [
              "\n",
              "  <div id=\"df-9e0a3c58-a3c1-43dc-b5b4-a0f47f413c07\" class=\"colab-df-container\">\n",
              "    <div>\n",
              "<style scoped>\n",
              "    .dataframe tbody tr th:only-of-type {\n",
              "        vertical-align: middle;\n",
              "    }\n",
              "\n",
              "    .dataframe tbody tr th {\n",
              "        vertical-align: top;\n",
              "    }\n",
              "\n",
              "    .dataframe thead th {\n",
              "        text-align: right;\n",
              "    }\n",
              "</style>\n",
              "<table border=\"1\" class=\"dataframe\">\n",
              "  <thead>\n",
              "    <tr style=\"text-align: right;\">\n",
              "      <th></th>\n",
              "      <th>Sunspots</th>\n",
              "      <th>Year</th>\n",
              "    </tr>\n",
              "    <tr>\n",
              "      <th>Date</th>\n",
              "      <th></th>\n",
              "      <th></th>\n",
              "    </tr>\n",
              "  </thead>\n",
              "  <tbody>\n",
              "    <tr>\n",
              "      <th>1700-01-01</th>\n",
              "      <td>5.0</td>\n",
              "      <td>1700</td>\n",
              "    </tr>\n",
              "    <tr>\n",
              "      <th>1701-01-01</th>\n",
              "      <td>11.0</td>\n",
              "      <td>1701</td>\n",
              "    </tr>\n",
              "    <tr>\n",
              "      <th>1702-01-01</th>\n",
              "      <td>16.0</td>\n",
              "      <td>1702</td>\n",
              "    </tr>\n",
              "    <tr>\n",
              "      <th>1703-01-01</th>\n",
              "      <td>23.0</td>\n",
              "      <td>1703</td>\n",
              "    </tr>\n",
              "    <tr>\n",
              "      <th>1704-01-01</th>\n",
              "      <td>36.0</td>\n",
              "      <td>1704</td>\n",
              "    </tr>\n",
              "  </tbody>\n",
              "</table>\n",
              "</div>\n",
              "    <div class=\"colab-df-buttons\">\n",
              "\n",
              "  <div class=\"colab-df-container\">\n",
              "    <button class=\"colab-df-convert\" onclick=\"convertToInteractive('df-9e0a3c58-a3c1-43dc-b5b4-a0f47f413c07')\"\n",
              "            title=\"Convert this dataframe to an interactive table.\"\n",
              "            style=\"display:none;\">\n",
              "\n",
              "  <svg xmlns=\"http://www.w3.org/2000/svg\" height=\"24px\" viewBox=\"0 -960 960 960\">\n",
              "    <path d=\"M120-120v-720h720v720H120Zm60-500h600v-160H180v160Zm220 220h160v-160H400v160Zm0 220h160v-160H400v160ZM180-400h160v-160H180v160Zm440 0h160v-160H620v160ZM180-180h160v-160H180v160Zm440 0h160v-160H620v160Z\"/>\n",
              "  </svg>\n",
              "    </button>\n",
              "\n",
              "  <style>\n",
              "    .colab-df-container {\n",
              "      display:flex;\n",
              "      gap: 12px;\n",
              "    }\n",
              "\n",
              "    .colab-df-convert {\n",
              "      background-color: #E8F0FE;\n",
              "      border: none;\n",
              "      border-radius: 50%;\n",
              "      cursor: pointer;\n",
              "      display: none;\n",
              "      fill: #1967D2;\n",
              "      height: 32px;\n",
              "      padding: 0 0 0 0;\n",
              "      width: 32px;\n",
              "    }\n",
              "\n",
              "    .colab-df-convert:hover {\n",
              "      background-color: #E2EBFA;\n",
              "      box-shadow: 0px 1px 2px rgba(60, 64, 67, 0.3), 0px 1px 3px 1px rgba(60, 64, 67, 0.15);\n",
              "      fill: #174EA6;\n",
              "    }\n",
              "\n",
              "    .colab-df-buttons div {\n",
              "      margin-bottom: 4px;\n",
              "    }\n",
              "\n",
              "    [theme=dark] .colab-df-convert {\n",
              "      background-color: #3B4455;\n",
              "      fill: #D2E3FC;\n",
              "    }\n",
              "\n",
              "    [theme=dark] .colab-df-convert:hover {\n",
              "      background-color: #434B5C;\n",
              "      box-shadow: 0px 1px 3px 1px rgba(0, 0, 0, 0.15);\n",
              "      filter: drop-shadow(0px 1px 2px rgba(0, 0, 0, 0.3));\n",
              "      fill: #FFFFFF;\n",
              "    }\n",
              "  </style>\n",
              "\n",
              "    <script>\n",
              "      const buttonEl =\n",
              "        document.querySelector('#df-9e0a3c58-a3c1-43dc-b5b4-a0f47f413c07 button.colab-df-convert');\n",
              "      buttonEl.style.display =\n",
              "        google.colab.kernel.accessAllowed ? 'block' : 'none';\n",
              "\n",
              "      async function convertToInteractive(key) {\n",
              "        const element = document.querySelector('#df-9e0a3c58-a3c1-43dc-b5b4-a0f47f413c07');\n",
              "        const dataTable =\n",
              "          await google.colab.kernel.invokeFunction('convertToInteractive',\n",
              "                                                    [key], {});\n",
              "        if (!dataTable) return;\n",
              "\n",
              "        const docLinkHtml = 'Like what you see? Visit the ' +\n",
              "          '<a target=\"_blank\" href=https://colab.research.google.com/notebooks/data_table.ipynb>data table notebook</a>'\n",
              "          + ' to learn more about interactive tables.';\n",
              "        element.innerHTML = '';\n",
              "        dataTable['output_type'] = 'display_data';\n",
              "        await google.colab.output.renderOutput(dataTable, element);\n",
              "        const docLink = document.createElement('div');\n",
              "        docLink.innerHTML = docLinkHtml;\n",
              "        element.appendChild(docLink);\n",
              "      }\n",
              "    </script>\n",
              "  </div>\n",
              "\n",
              "\n",
              "<div id=\"df-22cfd542-7c74-45bf-b3df-3846bf3f119f\">\n",
              "  <button class=\"colab-df-quickchart\" onclick=\"quickchart('df-22cfd542-7c74-45bf-b3df-3846bf3f119f')\"\n",
              "            title=\"Suggest charts\"\n",
              "            style=\"display:none;\">\n",
              "\n",
              "<svg xmlns=\"http://www.w3.org/2000/svg\" height=\"24px\"viewBox=\"0 0 24 24\"\n",
              "     width=\"24px\">\n",
              "    <g>\n",
              "        <path d=\"M19 3H5c-1.1 0-2 .9-2 2v14c0 1.1.9 2 2 2h14c1.1 0 2-.9 2-2V5c0-1.1-.9-2-2-2zM9 17H7v-7h2v7zm4 0h-2V7h2v10zm4 0h-2v-4h2v4z\"/>\n",
              "    </g>\n",
              "</svg>\n",
              "  </button>\n",
              "\n",
              "<style>\n",
              "  .colab-df-quickchart {\n",
              "      --bg-color: #E8F0FE;\n",
              "      --fill-color: #1967D2;\n",
              "      --hover-bg-color: #E2EBFA;\n",
              "      --hover-fill-color: #174EA6;\n",
              "      --disabled-fill-color: #AAA;\n",
              "      --disabled-bg-color: #DDD;\n",
              "  }\n",
              "\n",
              "  [theme=dark] .colab-df-quickchart {\n",
              "      --bg-color: #3B4455;\n",
              "      --fill-color: #D2E3FC;\n",
              "      --hover-bg-color: #434B5C;\n",
              "      --hover-fill-color: #FFFFFF;\n",
              "      --disabled-bg-color: #3B4455;\n",
              "      --disabled-fill-color: #666;\n",
              "  }\n",
              "\n",
              "  .colab-df-quickchart {\n",
              "    background-color: var(--bg-color);\n",
              "    border: none;\n",
              "    border-radius: 50%;\n",
              "    cursor: pointer;\n",
              "    display: none;\n",
              "    fill: var(--fill-color);\n",
              "    height: 32px;\n",
              "    padding: 0;\n",
              "    width: 32px;\n",
              "  }\n",
              "\n",
              "  .colab-df-quickchart:hover {\n",
              "    background-color: var(--hover-bg-color);\n",
              "    box-shadow: 0 1px 2px rgba(60, 64, 67, 0.3), 0 1px 3px 1px rgba(60, 64, 67, 0.15);\n",
              "    fill: var(--button-hover-fill-color);\n",
              "  }\n",
              "\n",
              "  .colab-df-quickchart-complete:disabled,\n",
              "  .colab-df-quickchart-complete:disabled:hover {\n",
              "    background-color: var(--disabled-bg-color);\n",
              "    fill: var(--disabled-fill-color);\n",
              "    box-shadow: none;\n",
              "  }\n",
              "\n",
              "  .colab-df-spinner {\n",
              "    border: 2px solid var(--fill-color);\n",
              "    border-color: transparent;\n",
              "    border-bottom-color: var(--fill-color);\n",
              "    animation:\n",
              "      spin 1s steps(1) infinite;\n",
              "  }\n",
              "\n",
              "  @keyframes spin {\n",
              "    0% {\n",
              "      border-color: transparent;\n",
              "      border-bottom-color: var(--fill-color);\n",
              "      border-left-color: var(--fill-color);\n",
              "    }\n",
              "    20% {\n",
              "      border-color: transparent;\n",
              "      border-left-color: var(--fill-color);\n",
              "      border-top-color: var(--fill-color);\n",
              "    }\n",
              "    30% {\n",
              "      border-color: transparent;\n",
              "      border-left-color: var(--fill-color);\n",
              "      border-top-color: var(--fill-color);\n",
              "      border-right-color: var(--fill-color);\n",
              "    }\n",
              "    40% {\n",
              "      border-color: transparent;\n",
              "      border-right-color: var(--fill-color);\n",
              "      border-top-color: var(--fill-color);\n",
              "    }\n",
              "    60% {\n",
              "      border-color: transparent;\n",
              "      border-right-color: var(--fill-color);\n",
              "    }\n",
              "    80% {\n",
              "      border-color: transparent;\n",
              "      border-right-color: var(--fill-color);\n",
              "      border-bottom-color: var(--fill-color);\n",
              "    }\n",
              "    90% {\n",
              "      border-color: transparent;\n",
              "      border-bottom-color: var(--fill-color);\n",
              "    }\n",
              "  }\n",
              "</style>\n",
              "\n",
              "  <script>\n",
              "    async function quickchart(key) {\n",
              "      const quickchartButtonEl =\n",
              "        document.querySelector('#' + key + ' button');\n",
              "      quickchartButtonEl.disabled = true;  // To prevent multiple clicks.\n",
              "      quickchartButtonEl.classList.add('colab-df-spinner');\n",
              "      try {\n",
              "        const charts = await google.colab.kernel.invokeFunction(\n",
              "            'suggestCharts', [key], {});\n",
              "      } catch (error) {\n",
              "        console.error('Error during call to suggestCharts:', error);\n",
              "      }\n",
              "      quickchartButtonEl.classList.remove('colab-df-spinner');\n",
              "      quickchartButtonEl.classList.add('colab-df-quickchart-complete');\n",
              "    }\n",
              "    (() => {\n",
              "      let quickchartButtonEl =\n",
              "        document.querySelector('#df-22cfd542-7c74-45bf-b3df-3846bf3f119f button');\n",
              "      quickchartButtonEl.style.display =\n",
              "        google.colab.kernel.accessAllowed ? 'block' : 'none';\n",
              "    })();\n",
              "  </script>\n",
              "</div>\n",
              "\n",
              "    </div>\n",
              "  </div>\n"
            ],
            "application/vnd.google.colaboratory.intrinsic+json": {
              "type": "dataframe",
              "summary": "{\n  \"name\": \"display(train_data\",\n  \"rows\": 5,\n  \"fields\": [\n    {\n      \"column\": \"Date\",\n      \"properties\": {\n        \"dtype\": \"date\",\n        \"min\": \"1700-01-01 00:00:00\",\n        \"max\": \"1704-01-01 00:00:00\",\n        \"num_unique_values\": 5,\n        \"samples\": [\n          \"1701-01-01 00:00:00\",\n          \"1704-01-01 00:00:00\",\n          \"1702-01-01 00:00:00\"\n        ],\n        \"semantic_type\": \"\",\n        \"description\": \"\"\n      }\n    },\n    {\n      \"column\": \"Sunspots\",\n      \"properties\": {\n        \"dtype\": \"number\",\n        \"std\": 11.945710527214361,\n        \"min\": 5.0,\n        \"max\": 36.0,\n        \"num_unique_values\": 5,\n        \"samples\": [\n          11.0,\n          36.0,\n          16.0\n        ],\n        \"semantic_type\": \"\",\n        \"description\": \"\"\n      }\n    },\n    {\n      \"column\": \"Year\",\n      \"properties\": {\n        \"dtype\": \"int32\",\n        \"num_unique_values\": 5,\n        \"samples\": [\n          1701,\n          1704,\n          1702\n        ],\n        \"semantic_type\": \"\",\n        \"description\": \"\"\n      }\n    }\n  ]\n}"
            }
          },
          "metadata": {}
        }
      ]
    },
    {
      "cell_type": "code",
      "source": [
        "# Add cyclical features for 'Year'\n",
        "def add_cyclical_features(df, column='Year', max_value=None):\n",
        "    \"\"\"\n",
        "    Adds cyclical features (sine and cosine) for a specified column.\n",
        "\n",
        "    Args:\n",
        "        df (pd.DataFrame): Dataframe containing the column.\n",
        "        column (str): Column name to transform.\n",
        "        max_value (int): Maximum value of the column for scaling.\n",
        "\n",
        "    Returns:\n",
        "        pd.DataFrame: Dataframe with added cyclical features.\n",
        "    \"\"\"\n",
        "    df = df.copy()\n",
        "    if max_value is None:\n",
        "        max_value = df[column].max()\n",
        "    df[f'{column}_sin'] = np.sin(2 * np.pi * df[column] / max_value)\n",
        "    df[f'{column}_cos'] = np.cos(2 * np.pi * df[column] / max_value)\n",
        "    return df\n",
        "\n",
        "# Apply cyclical transformation\n",
        "train_data = add_cyclical_features(train_data)\n",
        "val_data = add_cyclical_features(val_data)\n",
        "test_data = add_cyclical_features(test_data)\n",
        "\n",
        "# Display the data\n",
        "print(\"Preview of the training data with cyclical features:\")\n",
        "display(train_data.head())"
      ],
      "metadata": {
        "colab": {
          "base_uri": "https://localhost:8080/",
          "height": 255
        },
        "id": "t2wwneVkTVx1",
        "outputId": "42650e06-46c7-42cd-9cb0-87c25a46aed3"
      },
      "execution_count": 11,
      "outputs": [
        {
          "output_type": "stream",
          "name": "stdout",
          "text": [
            "Preview of the training data with cyclical features:\n"
          ]
        },
        {
          "output_type": "display_data",
          "data": {
            "text/plain": [
              "            Sunspots  Year  Year_sin  Year_cos\n",
              "Date                                          \n",
              "1700-01-01       5.0  1700 -0.648356  0.761337\n",
              "1701-01-01      11.0  1701 -0.645854  0.763461\n",
              "1702-01-01      16.0  1702 -0.643346  0.765576\n",
              "1703-01-01      23.0  1703 -0.640831  0.767682\n",
              "1704-01-01      36.0  1704 -0.638308  0.769781"
            ],
            "text/html": [
              "\n",
              "  <div id=\"df-692c2e18-3fe6-4341-8c5a-17319409fb5c\" class=\"colab-df-container\">\n",
              "    <div>\n",
              "<style scoped>\n",
              "    .dataframe tbody tr th:only-of-type {\n",
              "        vertical-align: middle;\n",
              "    }\n",
              "\n",
              "    .dataframe tbody tr th {\n",
              "        vertical-align: top;\n",
              "    }\n",
              "\n",
              "    .dataframe thead th {\n",
              "        text-align: right;\n",
              "    }\n",
              "</style>\n",
              "<table border=\"1\" class=\"dataframe\">\n",
              "  <thead>\n",
              "    <tr style=\"text-align: right;\">\n",
              "      <th></th>\n",
              "      <th>Sunspots</th>\n",
              "      <th>Year</th>\n",
              "      <th>Year_sin</th>\n",
              "      <th>Year_cos</th>\n",
              "    </tr>\n",
              "    <tr>\n",
              "      <th>Date</th>\n",
              "      <th></th>\n",
              "      <th></th>\n",
              "      <th></th>\n",
              "      <th></th>\n",
              "    </tr>\n",
              "  </thead>\n",
              "  <tbody>\n",
              "    <tr>\n",
              "      <th>1700-01-01</th>\n",
              "      <td>5.0</td>\n",
              "      <td>1700</td>\n",
              "      <td>-0.648356</td>\n",
              "      <td>0.761337</td>\n",
              "    </tr>\n",
              "    <tr>\n",
              "      <th>1701-01-01</th>\n",
              "      <td>11.0</td>\n",
              "      <td>1701</td>\n",
              "      <td>-0.645854</td>\n",
              "      <td>0.763461</td>\n",
              "    </tr>\n",
              "    <tr>\n",
              "      <th>1702-01-01</th>\n",
              "      <td>16.0</td>\n",
              "      <td>1702</td>\n",
              "      <td>-0.643346</td>\n",
              "      <td>0.765576</td>\n",
              "    </tr>\n",
              "    <tr>\n",
              "      <th>1703-01-01</th>\n",
              "      <td>23.0</td>\n",
              "      <td>1703</td>\n",
              "      <td>-0.640831</td>\n",
              "      <td>0.767682</td>\n",
              "    </tr>\n",
              "    <tr>\n",
              "      <th>1704-01-01</th>\n",
              "      <td>36.0</td>\n",
              "      <td>1704</td>\n",
              "      <td>-0.638308</td>\n",
              "      <td>0.769781</td>\n",
              "    </tr>\n",
              "  </tbody>\n",
              "</table>\n",
              "</div>\n",
              "    <div class=\"colab-df-buttons\">\n",
              "\n",
              "  <div class=\"colab-df-container\">\n",
              "    <button class=\"colab-df-convert\" onclick=\"convertToInteractive('df-692c2e18-3fe6-4341-8c5a-17319409fb5c')\"\n",
              "            title=\"Convert this dataframe to an interactive table.\"\n",
              "            style=\"display:none;\">\n",
              "\n",
              "  <svg xmlns=\"http://www.w3.org/2000/svg\" height=\"24px\" viewBox=\"0 -960 960 960\">\n",
              "    <path d=\"M120-120v-720h720v720H120Zm60-500h600v-160H180v160Zm220 220h160v-160H400v160Zm0 220h160v-160H400v160ZM180-400h160v-160H180v160Zm440 0h160v-160H620v160ZM180-180h160v-160H180v160Zm440 0h160v-160H620v160Z\"/>\n",
              "  </svg>\n",
              "    </button>\n",
              "\n",
              "  <style>\n",
              "    .colab-df-container {\n",
              "      display:flex;\n",
              "      gap: 12px;\n",
              "    }\n",
              "\n",
              "    .colab-df-convert {\n",
              "      background-color: #E8F0FE;\n",
              "      border: none;\n",
              "      border-radius: 50%;\n",
              "      cursor: pointer;\n",
              "      display: none;\n",
              "      fill: #1967D2;\n",
              "      height: 32px;\n",
              "      padding: 0 0 0 0;\n",
              "      width: 32px;\n",
              "    }\n",
              "\n",
              "    .colab-df-convert:hover {\n",
              "      background-color: #E2EBFA;\n",
              "      box-shadow: 0px 1px 2px rgba(60, 64, 67, 0.3), 0px 1px 3px 1px rgba(60, 64, 67, 0.15);\n",
              "      fill: #174EA6;\n",
              "    }\n",
              "\n",
              "    .colab-df-buttons div {\n",
              "      margin-bottom: 4px;\n",
              "    }\n",
              "\n",
              "    [theme=dark] .colab-df-convert {\n",
              "      background-color: #3B4455;\n",
              "      fill: #D2E3FC;\n",
              "    }\n",
              "\n",
              "    [theme=dark] .colab-df-convert:hover {\n",
              "      background-color: #434B5C;\n",
              "      box-shadow: 0px 1px 3px 1px rgba(0, 0, 0, 0.15);\n",
              "      filter: drop-shadow(0px 1px 2px rgba(0, 0, 0, 0.3));\n",
              "      fill: #FFFFFF;\n",
              "    }\n",
              "  </style>\n",
              "\n",
              "    <script>\n",
              "      const buttonEl =\n",
              "        document.querySelector('#df-692c2e18-3fe6-4341-8c5a-17319409fb5c button.colab-df-convert');\n",
              "      buttonEl.style.display =\n",
              "        google.colab.kernel.accessAllowed ? 'block' : 'none';\n",
              "\n",
              "      async function convertToInteractive(key) {\n",
              "        const element = document.querySelector('#df-692c2e18-3fe6-4341-8c5a-17319409fb5c');\n",
              "        const dataTable =\n",
              "          await google.colab.kernel.invokeFunction('convertToInteractive',\n",
              "                                                    [key], {});\n",
              "        if (!dataTable) return;\n",
              "\n",
              "        const docLinkHtml = 'Like what you see? Visit the ' +\n",
              "          '<a target=\"_blank\" href=https://colab.research.google.com/notebooks/data_table.ipynb>data table notebook</a>'\n",
              "          + ' to learn more about interactive tables.';\n",
              "        element.innerHTML = '';\n",
              "        dataTable['output_type'] = 'display_data';\n",
              "        await google.colab.output.renderOutput(dataTable, element);\n",
              "        const docLink = document.createElement('div');\n",
              "        docLink.innerHTML = docLinkHtml;\n",
              "        element.appendChild(docLink);\n",
              "      }\n",
              "    </script>\n",
              "  </div>\n",
              "\n",
              "\n",
              "<div id=\"df-a6983a49-460b-4459-9769-5090f9444314\">\n",
              "  <button class=\"colab-df-quickchart\" onclick=\"quickchart('df-a6983a49-460b-4459-9769-5090f9444314')\"\n",
              "            title=\"Suggest charts\"\n",
              "            style=\"display:none;\">\n",
              "\n",
              "<svg xmlns=\"http://www.w3.org/2000/svg\" height=\"24px\"viewBox=\"0 0 24 24\"\n",
              "     width=\"24px\">\n",
              "    <g>\n",
              "        <path d=\"M19 3H5c-1.1 0-2 .9-2 2v14c0 1.1.9 2 2 2h14c1.1 0 2-.9 2-2V5c0-1.1-.9-2-2-2zM9 17H7v-7h2v7zm4 0h-2V7h2v10zm4 0h-2v-4h2v4z\"/>\n",
              "    </g>\n",
              "</svg>\n",
              "  </button>\n",
              "\n",
              "<style>\n",
              "  .colab-df-quickchart {\n",
              "      --bg-color: #E8F0FE;\n",
              "      --fill-color: #1967D2;\n",
              "      --hover-bg-color: #E2EBFA;\n",
              "      --hover-fill-color: #174EA6;\n",
              "      --disabled-fill-color: #AAA;\n",
              "      --disabled-bg-color: #DDD;\n",
              "  }\n",
              "\n",
              "  [theme=dark] .colab-df-quickchart {\n",
              "      --bg-color: #3B4455;\n",
              "      --fill-color: #D2E3FC;\n",
              "      --hover-bg-color: #434B5C;\n",
              "      --hover-fill-color: #FFFFFF;\n",
              "      --disabled-bg-color: #3B4455;\n",
              "      --disabled-fill-color: #666;\n",
              "  }\n",
              "\n",
              "  .colab-df-quickchart {\n",
              "    background-color: var(--bg-color);\n",
              "    border: none;\n",
              "    border-radius: 50%;\n",
              "    cursor: pointer;\n",
              "    display: none;\n",
              "    fill: var(--fill-color);\n",
              "    height: 32px;\n",
              "    padding: 0;\n",
              "    width: 32px;\n",
              "  }\n",
              "\n",
              "  .colab-df-quickchart:hover {\n",
              "    background-color: var(--hover-bg-color);\n",
              "    box-shadow: 0 1px 2px rgba(60, 64, 67, 0.3), 0 1px 3px 1px rgba(60, 64, 67, 0.15);\n",
              "    fill: var(--button-hover-fill-color);\n",
              "  }\n",
              "\n",
              "  .colab-df-quickchart-complete:disabled,\n",
              "  .colab-df-quickchart-complete:disabled:hover {\n",
              "    background-color: var(--disabled-bg-color);\n",
              "    fill: var(--disabled-fill-color);\n",
              "    box-shadow: none;\n",
              "  }\n",
              "\n",
              "  .colab-df-spinner {\n",
              "    border: 2px solid var(--fill-color);\n",
              "    border-color: transparent;\n",
              "    border-bottom-color: var(--fill-color);\n",
              "    animation:\n",
              "      spin 1s steps(1) infinite;\n",
              "  }\n",
              "\n",
              "  @keyframes spin {\n",
              "    0% {\n",
              "      border-color: transparent;\n",
              "      border-bottom-color: var(--fill-color);\n",
              "      border-left-color: var(--fill-color);\n",
              "    }\n",
              "    20% {\n",
              "      border-color: transparent;\n",
              "      border-left-color: var(--fill-color);\n",
              "      border-top-color: var(--fill-color);\n",
              "    }\n",
              "    30% {\n",
              "      border-color: transparent;\n",
              "      border-left-color: var(--fill-color);\n",
              "      border-top-color: var(--fill-color);\n",
              "      border-right-color: var(--fill-color);\n",
              "    }\n",
              "    40% {\n",
              "      border-color: transparent;\n",
              "      border-right-color: var(--fill-color);\n",
              "      border-top-color: var(--fill-color);\n",
              "    }\n",
              "    60% {\n",
              "      border-color: transparent;\n",
              "      border-right-color: var(--fill-color);\n",
              "    }\n",
              "    80% {\n",
              "      border-color: transparent;\n",
              "      border-right-color: var(--fill-color);\n",
              "      border-bottom-color: var(--fill-color);\n",
              "    }\n",
              "    90% {\n",
              "      border-color: transparent;\n",
              "      border-bottom-color: var(--fill-color);\n",
              "    }\n",
              "  }\n",
              "</style>\n",
              "\n",
              "  <script>\n",
              "    async function quickchart(key) {\n",
              "      const quickchartButtonEl =\n",
              "        document.querySelector('#' + key + ' button');\n",
              "      quickchartButtonEl.disabled = true;  // To prevent multiple clicks.\n",
              "      quickchartButtonEl.classList.add('colab-df-spinner');\n",
              "      try {\n",
              "        const charts = await google.colab.kernel.invokeFunction(\n",
              "            'suggestCharts', [key], {});\n",
              "      } catch (error) {\n",
              "        console.error('Error during call to suggestCharts:', error);\n",
              "      }\n",
              "      quickchartButtonEl.classList.remove('colab-df-spinner');\n",
              "      quickchartButtonEl.classList.add('colab-df-quickchart-complete');\n",
              "    }\n",
              "    (() => {\n",
              "      let quickchartButtonEl =\n",
              "        document.querySelector('#df-a6983a49-460b-4459-9769-5090f9444314 button');\n",
              "      quickchartButtonEl.style.display =\n",
              "        google.colab.kernel.accessAllowed ? 'block' : 'none';\n",
              "    })();\n",
              "  </script>\n",
              "</div>\n",
              "\n",
              "    </div>\n",
              "  </div>\n"
            ],
            "application/vnd.google.colaboratory.intrinsic+json": {
              "type": "dataframe",
              "summary": "{\n  \"name\": \"display(train_data\",\n  \"rows\": 5,\n  \"fields\": [\n    {\n      \"column\": \"Date\",\n      \"properties\": {\n        \"dtype\": \"date\",\n        \"min\": \"1700-01-01 00:00:00\",\n        \"max\": \"1704-01-01 00:00:00\",\n        \"num_unique_values\": 5,\n        \"samples\": [\n          \"1701-01-01 00:00:00\",\n          \"1704-01-01 00:00:00\",\n          \"1702-01-01 00:00:00\"\n        ],\n        \"semantic_type\": \"\",\n        \"description\": \"\"\n      }\n    },\n    {\n      \"column\": \"Sunspots\",\n      \"properties\": {\n        \"dtype\": \"number\",\n        \"std\": 11.945710527214361,\n        \"min\": 5.0,\n        \"max\": 36.0,\n        \"num_unique_values\": 5,\n        \"samples\": [\n          11.0,\n          36.0,\n          16.0\n        ],\n        \"semantic_type\": \"\",\n        \"description\": \"\"\n      }\n    },\n    {\n      \"column\": \"Year\",\n      \"properties\": {\n        \"dtype\": \"int32\",\n        \"num_unique_values\": 5,\n        \"samples\": [\n          1701,\n          1704,\n          1702\n        ],\n        \"semantic_type\": \"\",\n        \"description\": \"\"\n      }\n    },\n    {\n      \"column\": \"Year_sin\",\n      \"properties\": {\n        \"dtype\": \"number\",\n        \"std\": 0.003971614518554163,\n        \"min\": -0.6483558521504073,\n        \"max\": -0.6383083980402261,\n        \"num_unique_values\": 5,\n        \"samples\": [\n          -0.6458543907206943,\n          -0.6383083980402261,\n          -0.6433459765442928\n        ],\n        \"semantic_type\": \"\",\n        \"description\": \"\"\n      }\n    },\n    {\n      \"column\": \"Year_cos\",\n      \"properties\": {\n        \"dtype\": \"number\",\n        \"std\": 0.003337522428691614,\n        \"min\": 0.7613374343760585,\n        \"max\": 0.7697807408550309,\n        \"num_unique_values\": 5,\n        \"samples\": [\n          0.7634606119419657,\n          0.7697807408550309,\n          0.7655755707076018\n        ],\n        \"semantic_type\": \"\",\n        \"description\": \"\"\n      }\n    }\n  ]\n}"
            }
          },
          "metadata": {}
        }
      ]
    },
    {
      "cell_type": "code",
      "source": [
        "# Initialize scaler\n",
        "scaler = MinMaxScaler()\n",
        "year_scaler = MinMaxScaler()\n",
        "\n",
        "# Fit the scalers\n",
        "scaler.fit(train_data[['Sunspots']])\n",
        "year_scaler.fit(train_data[['Year']])\n",
        "\n",
        "# Create copies of the data splits\n",
        "train_data_scaled = train_data.copy()\n",
        "val_data_scaled = val_data.copy()\n",
        "test_data_scaled = test_data.copy()\n",
        "\n",
        "# Transform 'Sunspots' in all splits\n",
        "train_data_scaled['Sunspots'] = scaler.transform(train_data[['Sunspots']])\n",
        "val_data_scaled['Sunspots'] = scaler.transform(val_data[['Sunspots']])\n",
        "test_data_scaled['Sunspots'] = scaler.transform(test_data[['Sunspots']])\n",
        "\n",
        "# Transform 'Year' in all splits\n",
        "train_data_scaled['Year'] = year_scaler.transform(train_data[['Year']])\n",
        "val_data_scaled['Year'] = year_scaler.transform(val_data[['Year']])\n",
        "test_data_scaled['Year'] = year_scaler.transform(test_data[['Year']])\n",
        "\n",
        "# Verify scaling\n",
        "print(\"Training Sunspots scaled:\")\n",
        "display(train_data_scaled[['Sunspots', 'Year']].describe())"
      ],
      "metadata": {
        "colab": {
          "base_uri": "https://localhost:8080/",
          "height": 318
        },
        "id": "agv8WLJRROjb",
        "outputId": "f3a9d47a-2ffb-4007-bd11-dca4bb7d1128"
      },
      "execution_count": 12,
      "outputs": [
        {
          "output_type": "stream",
          "name": "stdout",
          "text": [
            "Training Sunspots scaled:\n"
          ]
        },
        {
          "output_type": "display_data",
          "data": {
            "text/plain": [
              "         Sunspots        Year\n",
              "count  216.000000  216.000000\n",
              "mean     0.277850    0.500000\n",
              "std      0.222000    0.290688\n",
              "min      0.000000    0.000000\n",
              "25%      0.083711    0.250000\n",
              "50%      0.236723    0.500000\n",
              "75%      0.411593    0.750000\n",
              "max      1.000000    1.000000"
            ],
            "text/html": [
              "\n",
              "  <div id=\"df-31d61444-7f46-4312-be3b-40c926b181cb\" class=\"colab-df-container\">\n",
              "    <div>\n",
              "<style scoped>\n",
              "    .dataframe tbody tr th:only-of-type {\n",
              "        vertical-align: middle;\n",
              "    }\n",
              "\n",
              "    .dataframe tbody tr th {\n",
              "        vertical-align: top;\n",
              "    }\n",
              "\n",
              "    .dataframe thead th {\n",
              "        text-align: right;\n",
              "    }\n",
              "</style>\n",
              "<table border=\"1\" class=\"dataframe\">\n",
              "  <thead>\n",
              "    <tr style=\"text-align: right;\">\n",
              "      <th></th>\n",
              "      <th>Sunspots</th>\n",
              "      <th>Year</th>\n",
              "    </tr>\n",
              "  </thead>\n",
              "  <tbody>\n",
              "    <tr>\n",
              "      <th>count</th>\n",
              "      <td>216.000000</td>\n",
              "      <td>216.000000</td>\n",
              "    </tr>\n",
              "    <tr>\n",
              "      <th>mean</th>\n",
              "      <td>0.277850</td>\n",
              "      <td>0.500000</td>\n",
              "    </tr>\n",
              "    <tr>\n",
              "      <th>std</th>\n",
              "      <td>0.222000</td>\n",
              "      <td>0.290688</td>\n",
              "    </tr>\n",
              "    <tr>\n",
              "      <th>min</th>\n",
              "      <td>0.000000</td>\n",
              "      <td>0.000000</td>\n",
              "    </tr>\n",
              "    <tr>\n",
              "      <th>25%</th>\n",
              "      <td>0.083711</td>\n",
              "      <td>0.250000</td>\n",
              "    </tr>\n",
              "    <tr>\n",
              "      <th>50%</th>\n",
              "      <td>0.236723</td>\n",
              "      <td>0.500000</td>\n",
              "    </tr>\n",
              "    <tr>\n",
              "      <th>75%</th>\n",
              "      <td>0.411593</td>\n",
              "      <td>0.750000</td>\n",
              "    </tr>\n",
              "    <tr>\n",
              "      <th>max</th>\n",
              "      <td>1.000000</td>\n",
              "      <td>1.000000</td>\n",
              "    </tr>\n",
              "  </tbody>\n",
              "</table>\n",
              "</div>\n",
              "    <div class=\"colab-df-buttons\">\n",
              "\n",
              "  <div class=\"colab-df-container\">\n",
              "    <button class=\"colab-df-convert\" onclick=\"convertToInteractive('df-31d61444-7f46-4312-be3b-40c926b181cb')\"\n",
              "            title=\"Convert this dataframe to an interactive table.\"\n",
              "            style=\"display:none;\">\n",
              "\n",
              "  <svg xmlns=\"http://www.w3.org/2000/svg\" height=\"24px\" viewBox=\"0 -960 960 960\">\n",
              "    <path d=\"M120-120v-720h720v720H120Zm60-500h600v-160H180v160Zm220 220h160v-160H400v160Zm0 220h160v-160H400v160ZM180-400h160v-160H180v160Zm440 0h160v-160H620v160ZM180-180h160v-160H180v160Zm440 0h160v-160H620v160Z\"/>\n",
              "  </svg>\n",
              "    </button>\n",
              "\n",
              "  <style>\n",
              "    .colab-df-container {\n",
              "      display:flex;\n",
              "      gap: 12px;\n",
              "    }\n",
              "\n",
              "    .colab-df-convert {\n",
              "      background-color: #E8F0FE;\n",
              "      border: none;\n",
              "      border-radius: 50%;\n",
              "      cursor: pointer;\n",
              "      display: none;\n",
              "      fill: #1967D2;\n",
              "      height: 32px;\n",
              "      padding: 0 0 0 0;\n",
              "      width: 32px;\n",
              "    }\n",
              "\n",
              "    .colab-df-convert:hover {\n",
              "      background-color: #E2EBFA;\n",
              "      box-shadow: 0px 1px 2px rgba(60, 64, 67, 0.3), 0px 1px 3px 1px rgba(60, 64, 67, 0.15);\n",
              "      fill: #174EA6;\n",
              "    }\n",
              "\n",
              "    .colab-df-buttons div {\n",
              "      margin-bottom: 4px;\n",
              "    }\n",
              "\n",
              "    [theme=dark] .colab-df-convert {\n",
              "      background-color: #3B4455;\n",
              "      fill: #D2E3FC;\n",
              "    }\n",
              "\n",
              "    [theme=dark] .colab-df-convert:hover {\n",
              "      background-color: #434B5C;\n",
              "      box-shadow: 0px 1px 3px 1px rgba(0, 0, 0, 0.15);\n",
              "      filter: drop-shadow(0px 1px 2px rgba(0, 0, 0, 0.3));\n",
              "      fill: #FFFFFF;\n",
              "    }\n",
              "  </style>\n",
              "\n",
              "    <script>\n",
              "      const buttonEl =\n",
              "        document.querySelector('#df-31d61444-7f46-4312-be3b-40c926b181cb button.colab-df-convert');\n",
              "      buttonEl.style.display =\n",
              "        google.colab.kernel.accessAllowed ? 'block' : 'none';\n",
              "\n",
              "      async function convertToInteractive(key) {\n",
              "        const element = document.querySelector('#df-31d61444-7f46-4312-be3b-40c926b181cb');\n",
              "        const dataTable =\n",
              "          await google.colab.kernel.invokeFunction('convertToInteractive',\n",
              "                                                    [key], {});\n",
              "        if (!dataTable) return;\n",
              "\n",
              "        const docLinkHtml = 'Like what you see? Visit the ' +\n",
              "          '<a target=\"_blank\" href=https://colab.research.google.com/notebooks/data_table.ipynb>data table notebook</a>'\n",
              "          + ' to learn more about interactive tables.';\n",
              "        element.innerHTML = '';\n",
              "        dataTable['output_type'] = 'display_data';\n",
              "        await google.colab.output.renderOutput(dataTable, element);\n",
              "        const docLink = document.createElement('div');\n",
              "        docLink.innerHTML = docLinkHtml;\n",
              "        element.appendChild(docLink);\n",
              "      }\n",
              "    </script>\n",
              "  </div>\n",
              "\n",
              "\n",
              "<div id=\"df-3410996c-4b5e-4360-aaf9-ba9143e0ea05\">\n",
              "  <button class=\"colab-df-quickchart\" onclick=\"quickchart('df-3410996c-4b5e-4360-aaf9-ba9143e0ea05')\"\n",
              "            title=\"Suggest charts\"\n",
              "            style=\"display:none;\">\n",
              "\n",
              "<svg xmlns=\"http://www.w3.org/2000/svg\" height=\"24px\"viewBox=\"0 0 24 24\"\n",
              "     width=\"24px\">\n",
              "    <g>\n",
              "        <path d=\"M19 3H5c-1.1 0-2 .9-2 2v14c0 1.1.9 2 2 2h14c1.1 0 2-.9 2-2V5c0-1.1-.9-2-2-2zM9 17H7v-7h2v7zm4 0h-2V7h2v10zm4 0h-2v-4h2v4z\"/>\n",
              "    </g>\n",
              "</svg>\n",
              "  </button>\n",
              "\n",
              "<style>\n",
              "  .colab-df-quickchart {\n",
              "      --bg-color: #E8F0FE;\n",
              "      --fill-color: #1967D2;\n",
              "      --hover-bg-color: #E2EBFA;\n",
              "      --hover-fill-color: #174EA6;\n",
              "      --disabled-fill-color: #AAA;\n",
              "      --disabled-bg-color: #DDD;\n",
              "  }\n",
              "\n",
              "  [theme=dark] .colab-df-quickchart {\n",
              "      --bg-color: #3B4455;\n",
              "      --fill-color: #D2E3FC;\n",
              "      --hover-bg-color: #434B5C;\n",
              "      --hover-fill-color: #FFFFFF;\n",
              "      --disabled-bg-color: #3B4455;\n",
              "      --disabled-fill-color: #666;\n",
              "  }\n",
              "\n",
              "  .colab-df-quickchart {\n",
              "    background-color: var(--bg-color);\n",
              "    border: none;\n",
              "    border-radius: 50%;\n",
              "    cursor: pointer;\n",
              "    display: none;\n",
              "    fill: var(--fill-color);\n",
              "    height: 32px;\n",
              "    padding: 0;\n",
              "    width: 32px;\n",
              "  }\n",
              "\n",
              "  .colab-df-quickchart:hover {\n",
              "    background-color: var(--hover-bg-color);\n",
              "    box-shadow: 0 1px 2px rgba(60, 64, 67, 0.3), 0 1px 3px 1px rgba(60, 64, 67, 0.15);\n",
              "    fill: var(--button-hover-fill-color);\n",
              "  }\n",
              "\n",
              "  .colab-df-quickchart-complete:disabled,\n",
              "  .colab-df-quickchart-complete:disabled:hover {\n",
              "    background-color: var(--disabled-bg-color);\n",
              "    fill: var(--disabled-fill-color);\n",
              "    box-shadow: none;\n",
              "  }\n",
              "\n",
              "  .colab-df-spinner {\n",
              "    border: 2px solid var(--fill-color);\n",
              "    border-color: transparent;\n",
              "    border-bottom-color: var(--fill-color);\n",
              "    animation:\n",
              "      spin 1s steps(1) infinite;\n",
              "  }\n",
              "\n",
              "  @keyframes spin {\n",
              "    0% {\n",
              "      border-color: transparent;\n",
              "      border-bottom-color: var(--fill-color);\n",
              "      border-left-color: var(--fill-color);\n",
              "    }\n",
              "    20% {\n",
              "      border-color: transparent;\n",
              "      border-left-color: var(--fill-color);\n",
              "      border-top-color: var(--fill-color);\n",
              "    }\n",
              "    30% {\n",
              "      border-color: transparent;\n",
              "      border-left-color: var(--fill-color);\n",
              "      border-top-color: var(--fill-color);\n",
              "      border-right-color: var(--fill-color);\n",
              "    }\n",
              "    40% {\n",
              "      border-color: transparent;\n",
              "      border-right-color: var(--fill-color);\n",
              "      border-top-color: var(--fill-color);\n",
              "    }\n",
              "    60% {\n",
              "      border-color: transparent;\n",
              "      border-right-color: var(--fill-color);\n",
              "    }\n",
              "    80% {\n",
              "      border-color: transparent;\n",
              "      border-right-color: var(--fill-color);\n",
              "      border-bottom-color: var(--fill-color);\n",
              "    }\n",
              "    90% {\n",
              "      border-color: transparent;\n",
              "      border-bottom-color: var(--fill-color);\n",
              "    }\n",
              "  }\n",
              "</style>\n",
              "\n",
              "  <script>\n",
              "    async function quickchart(key) {\n",
              "      const quickchartButtonEl =\n",
              "        document.querySelector('#' + key + ' button');\n",
              "      quickchartButtonEl.disabled = true;  // To prevent multiple clicks.\n",
              "      quickchartButtonEl.classList.add('colab-df-spinner');\n",
              "      try {\n",
              "        const charts = await google.colab.kernel.invokeFunction(\n",
              "            'suggestCharts', [key], {});\n",
              "      } catch (error) {\n",
              "        console.error('Error during call to suggestCharts:', error);\n",
              "      }\n",
              "      quickchartButtonEl.classList.remove('colab-df-spinner');\n",
              "      quickchartButtonEl.classList.add('colab-df-quickchart-complete');\n",
              "    }\n",
              "    (() => {\n",
              "      let quickchartButtonEl =\n",
              "        document.querySelector('#df-3410996c-4b5e-4360-aaf9-ba9143e0ea05 button');\n",
              "      quickchartButtonEl.style.display =\n",
              "        google.colab.kernel.accessAllowed ? 'block' : 'none';\n",
              "    })();\n",
              "  </script>\n",
              "</div>\n",
              "\n",
              "    </div>\n",
              "  </div>\n"
            ],
            "application/vnd.google.colaboratory.intrinsic+json": {
              "type": "dataframe",
              "summary": "{\n  \"name\": \"display(train_data_scaled[['Sunspots', 'Year']]\",\n  \"rows\": 8,\n  \"fields\": [\n    {\n      \"column\": \"Sunspots\",\n      \"properties\": {\n        \"dtype\": \"number\",\n        \"std\": 76.25541192250344,\n        \"min\": 0.0,\n        \"max\": 216.0,\n        \"num_unique_values\": 8,\n        \"samples\": [\n          0.2778497409326424,\n          0.23672279792746115,\n          216.0\n        ],\n        \"semantic_type\": \"\",\n        \"description\": \"\"\n      }\n    },\n    {\n      \"column\": \"Year\",\n      \"properties\": {\n        \"dtype\": \"number\",\n        \"std\": 76.20194855860638,\n        \"min\": 0.0,\n        \"max\": 216.0,\n        \"num_unique_values\": 7,\n        \"samples\": [\n          216.0,\n          0.5,\n          0.7499999999999996\n        ],\n        \"semantic_type\": \"\",\n        \"description\": \"\"\n      }\n    }\n  ]\n}"
            }
          },
          "metadata": {}
        }
      ]
    },
    {
      "cell_type": "code",
      "source": [
        "def create_sequences(data, window_size):\n",
        "    \"\"\"\n",
        "    Creates input sequences and corresponding targets using a sliding window approach.\n",
        "\n",
        "    Args:\n",
        "        data (pd.DataFrame): Dataframe with features and scaled 'Sunspots'.\n",
        "        window_size (int): Number of past time steps to use for prediction.\n",
        "\n",
        "    Returns:\n",
        "        sequences (np.ndarray): Input sequences of shape (n_samples, window_size, n_features).\n",
        "        targets (np.ndarray): Corresponding targets of shape (n_samples, 1).\n",
        "    \"\"\"\n",
        "    sequences = []\n",
        "    targets = []\n",
        "    feature_columns = ['Sunspots', 'Year', 'Year_sin', 'Year_cos']  # Features to include\n",
        "    for i in range(len(data) - window_size):\n",
        "        seq = data[feature_columns].iloc[i:i+window_size].values\n",
        "        target = data['Sunspots'].iloc[i+window_size]\n",
        "        sequences.append(seq)\n",
        "        targets.append(target)\n",
        "    return np.array(sequences), np.array(targets)"
      ],
      "metadata": {
        "id": "meWIwwU_RbB3"
      },
      "execution_count": 13,
      "outputs": []
    },
    {
      "cell_type": "code",
      "source": [
        "# Define window size\n",
        "window_size = 24  # Using past 24 years to predict the next year\n",
        "\n",
        "# Create sequences and targets for each split\n",
        "X_train, y_train = create_sequences(train_data_scaled, window_size)\n",
        "X_val, y_val = create_sequences(val_data_scaled, window_size)\n",
        "X_test, y_test = create_sequences(test_data_scaled, window_size)\n",
        "\n",
        "# Verify shapes\n",
        "print(f\"Training sequences shape: {X_train.shape}\")   # Expected: (n_train_samples, 24, n_features)\n",
        "print(f\"Training targets shape: {y_train.shape}\")     # Expected: (n_train_samples,)\n",
        "print(f\"Validation sequences shape: {X_val.shape}\")   # Expected: (n_val_samples, 24, n_features)\n",
        "print(f\"Validation targets shape: {y_val.shape}\")     # Expected: (n_val_samples,)\n",
        "print(f\"Test sequences shape: {X_test.shape}\")        # Expected: (n_test_samples, 24, n_features)\n",
        "print(f\"Test targets shape: {y_test.shape}\")          # Expected: (n_test_samples,)"
      ],
      "metadata": {
        "colab": {
          "base_uri": "https://localhost:8080/"
        },
        "id": "LKhKcWoJRa_j",
        "outputId": "33dc34ea-940a-40b7-f08c-559374b45ffa"
      },
      "execution_count": 14,
      "outputs": [
        {
          "output_type": "stream",
          "name": "stdout",
          "text": [
            "Training sequences shape: (192, 24, 4)\n",
            "Training targets shape: (192,)\n",
            "Validation sequences shape: (22, 24, 4)\n",
            "Validation targets shape: (22,)\n",
            "Test sequences shape: (23, 24, 4)\n",
            "Test targets shape: (23,)\n"
          ]
        }
      ]
    },
    {
      "cell_type": "code",
      "source": [
        "class TimeSeriesDataset(Dataset):\n",
        "    \"\"\"\n",
        "    Custom Dataset for time series data.\n",
        "\n",
        "    Args:\n",
        "        sequences (np.ndarray): Input sequences of shape (n_samples, window_size, n_features).\n",
        "        targets (np.ndarray): Corresponding targets of shape (n_samples,).\n",
        "    \"\"\"\n",
        "    def __init__(self, sequences, targets):\n",
        "        self.X = torch.tensor(sequences, dtype=torch.float32)\n",
        "        self.y = torch.tensor(targets, dtype=torch.float32)\n",
        "\n",
        "    def __len__(self):\n",
        "        return len(self.X)\n",
        "\n",
        "    def __getitem__(self, idx):\n",
        "        return self.X[idx], self.y[idx]"
      ],
      "metadata": {
        "id": "e9yFDGzXRvGO"
      },
      "execution_count": 15,
      "outputs": []
    },
    {
      "cell_type": "code",
      "source": [
        "def create_dataloaders(X_train, X_val, X_test, y_train, y_val, y_test, batch_size=32):\n",
        "    \"\"\"\n",
        "    Creates DataLoaders for training, validation, and testing sets.\n",
        "\n",
        "    Args:\n",
        "        X_train (np.ndarray): Training input sequences.\n",
        "        X_val (np.ndarray): Validation input sequences.\n",
        "        X_test (np.ndarray): Testing input sequences.\n",
        "        y_train (np.ndarray): Training targets.\n",
        "        y_val (np.ndarray): Validation targets.\n",
        "        y_test (np.ndarray): Testing targets.\n",
        "        batch_size (int): Batch size for DataLoaders.\n",
        "\n",
        "    Returns:\n",
        "        train_loader (DataLoader): DataLoader for training set.\n",
        "        val_loader (DataLoader): DataLoader for validation set.\n",
        "        test_loader (DataLoader): DataLoader for testing set.\n",
        "    \"\"\"\n",
        "    # Create Dataset instances\n",
        "    train_dataset = TimeSeriesDataset(X_train, y_train)\n",
        "    val_dataset = TimeSeriesDataset(X_val, y_val)\n",
        "    test_dataset = TimeSeriesDataset(X_test, y_test)\n",
        "\n",
        "    # Create DataLoaders\n",
        "    train_loader = DataLoader(train_dataset, batch_size=batch_size, shuffle=False)\n",
        "    val_loader = DataLoader(val_dataset, batch_size=batch_size, shuffle=False)\n",
        "    test_loader = DataLoader(test_dataset, batch_size=batch_size, shuffle=False)\n",
        "\n",
        "    return train_loader, val_loader, test_loader"
      ],
      "metadata": {
        "id": "PPenzt0iRvEL"
      },
      "execution_count": 16,
      "outputs": []
    },
    {
      "cell_type": "code",
      "source": [
        "# Create DataLoaders\n",
        "train_loader, val_loader, test_loader = create_dataloaders(\n",
        "    X_train, X_val, X_test, y_train, y_val, y_test, batch_size=32\n",
        ")\n",
        "\n",
        "# Verify DataLoader outputs\n",
        "for X_batch, y_batch in train_loader:\n",
        "    print(f\"Batch X shape: {X_batch.shape}\")    # Expected: (batch_size, window_size, n_features)\n",
        "    print(f\"Batch y shape: {y_batch.shape}\")    # Expected: (batch_size,)\n",
        "    break  # Only need to check the first batch"
      ],
      "metadata": {
        "colab": {
          "base_uri": "https://localhost:8080/"
        },
        "id": "OgtZVag-Rmax",
        "outputId": "f66e9da6-a2c2-4886-d309-c3e92e2fd9f9"
      },
      "execution_count": 17,
      "outputs": [
        {
          "output_type": "stream",
          "name": "stdout",
          "text": [
            "Batch X shape: torch.Size([32, 24, 4])\n",
            "Batch y shape: torch.Size([32])\n"
          ]
        }
      ]
    },
    {
      "cell_type": "markdown",
      "source": [
        "# Model Definitions"
      ],
      "metadata": {
        "id": "hT-9lZcv7oQL"
      }
    },
    {
      "cell_type": "markdown",
      "source": [
        "## MLP"
      ],
      "metadata": {
        "id": "3aC-VA4T9dLI"
      }
    },
    {
      "cell_type": "code",
      "source": [
        "class MLPModel(nn.Module):\n",
        "    \"\"\"\n",
        "    Multi-Layer Perceptron model for time series forecasting.\n",
        "\n",
        "    Args:\n",
        "        in_features (int): Number of input features (flattened window_size * n_features).\n",
        "        hidden_dim (int): Number of neurons in hidden layers.\n",
        "        num_layers (int): Number of hidden layers.\n",
        "    \"\"\"\n",
        "    def __init__(self, in_features, hidden_dim, num_layers):\n",
        "        super(MLPModel, self).__init__()\n",
        "\n",
        "        layers = []\n",
        "\n",
        "        # Implementation of layers before the last layer\n",
        "        for _ in range(num_layers - 1):\n",
        "            layers.append(nn.Linear(in_features, hidden_dim))\n",
        "            layers.append(nn.GELU())  # GELU activation\n",
        "            in_features = hidden_dim\n",
        "\n",
        "        # Implementation of the last layer\n",
        "        layers.append(nn.Linear(hidden_dim, 1))\n",
        "\n",
        "        # Constructing a Sequential neural network with the layers\n",
        "        self.network = nn.Sequential(*layers)\n",
        "\n",
        "    def forward(self, x):\n",
        "        \"\"\"\n",
        "        Forward pass of the MLPModel.\n",
        "\n",
        "        Args:\n",
        "            x (torch.Tensor): Input tensor of shape (batch_size, window_size, n_features).\n",
        "\n",
        "        Returns:\n",
        "            torch.Tensor: Output tensor of shape (batch_size, 1).\n",
        "        \"\"\"\n",
        "        # Flatten the input: (batch_size, window_size * n_features)\n",
        "        x = x.view(x.size(0), -1)\n",
        "        return self.network(x)"
      ],
      "metadata": {
        "id": "lCCs1YrW9dJE"
      },
      "execution_count": 18,
      "outputs": []
    },
    {
      "cell_type": "markdown",
      "source": [
        "## FAN"
      ],
      "metadata": {
        "id": "qocUR7Zq75Uh"
      }
    },
    {
      "cell_type": "code",
      "source": [
        "class FANLayer(nn.Module):\n",
        "    \"\"\"\n",
        "    Fourier Analysis Network Layer for capturing periodic components.\n",
        "\n",
        "    Args:\n",
        "        in_features (int): Number of input features.\n",
        "        d_p (int): Dimension for periodic components.\n",
        "        d_p_bar (int): Dimension for non-periodic components.\n",
        "        activation (nn.Module): Activation function.\n",
        "    \"\"\"\n",
        "    def __init__(self, in_features, d_p, d_p_bar, activation=nn.GELU()):\n",
        "        super(FANLayer, self).__init__()\n",
        "        self.Wp = nn.Parameter(torch.randn(in_features, d_p))\n",
        "        self.Wp_bar = nn.Parameter(torch.randn(in_features, d_p_bar))\n",
        "        self.Bp_bar = nn.Parameter(torch.zeros(d_p_bar))\n",
        "        self.activation = activation\n",
        "\n",
        "        # Initialize parameters\n",
        "        nn.init.xavier_uniform_(self.Wp)\n",
        "        nn.init.xavier_uniform_(self.Wp_bar)\n",
        "        nn.init.zeros_(self.Bp_bar)\n",
        "\n",
        "    def forward(self, x):\n",
        "        \"\"\"\n",
        "        Forward pass of the FANLayer.\n",
        "\n",
        "        Args:\n",
        "            x (torch.Tensor): Input tensor of shape (batch_size, in_features).\n",
        "\n",
        "        Returns:\n",
        "            torch.Tensor: Concatenated output tensor with periodic and non-periodic components.\n",
        "        \"\"\"\n",
        "        cos_term = torch.cos(torch.matmul(x, self.Wp))\n",
        "        sin_term = torch.sin(torch.matmul(x, self.Wp))\n",
        "        non_periodic_term = self.activation(torch.matmul(x, self.Wp_bar) + self.Bp_bar)\n",
        "        return torch.cat([cos_term, sin_term, non_periodic_term], dim=-1)"
      ],
      "metadata": {
        "id": "P2nlDKLh7vEn"
      },
      "execution_count": 19,
      "outputs": []
    },
    {
      "cell_type": "code",
      "source": [
        "class FANModel(nn.Module):\n",
        "    \"\"\"\n",
        "    Fourier Analysis Network model composed of multiple FANLayers.\n",
        "\n",
        "    Args:\n",
        "        in_features (int): Number of input features (flattened window_size * n_features).\n",
        "        hidden_dim (int): Hidden dimension size.\n",
        "        num_layers (int): Number of FAN layers.\n",
        "        activation (nn.Module): Activation function.\n",
        "    \"\"\"\n",
        "    def __init__(self, in_features, hidden_dim, num_layers, activation=nn.GELU()):\n",
        "        super(FANModel, self).__init__()\n",
        "\n",
        "        self.num_layers = num_layers\n",
        "        self.layers = nn.ModuleList()\n",
        "\n",
        "        # d_p set to a quarter of the hidden dimension\n",
        "        d_p = hidden_dim // 4\n",
        "        d_p_bar = hidden_dim\n",
        "\n",
        "        # Implementation of layers before the final layer\n",
        "        for _ in range(num_layers - 1):\n",
        "            self.layers.append(FANLayer(in_features, d_p, d_p_bar, activation))\n",
        "            # Updated after each layer to match the output dimension of the previous layer\n",
        "            in_features = 2 * d_p + d_p_bar\n",
        "\n",
        "        # Parameters for the final layer\n",
        "        self.WL = nn.Parameter(torch.randn(in_features, 1))\n",
        "        self.BL = nn.Parameter(torch.zeros(1))\n",
        "\n",
        "        # Initialize parameters\n",
        "        nn.init.xavier_uniform_(self.WL)\n",
        "        nn.init.zeros_(self.BL)\n",
        "\n",
        "    def forward(self, x):\n",
        "        \"\"\"\n",
        "        Forward pass of the FANModel.\n",
        "\n",
        "        Args:\n",
        "            x (torch.Tensor): Input tensor of shape (batch_size, window_size, n_features).\n",
        "\n",
        "        Returns:\n",
        "            torch.Tensor: Output tensor of shape (batch_size, 1).\n",
        "        \"\"\"\n",
        "        # Flatten the input: (batch_size, window_size * n_features)\n",
        "        x = x.view(x.size(0), -1)\n",
        "        for layer in self.layers:\n",
        "            x = layer(x)\n",
        "        # Implementation of the final layer\n",
        "        return torch.matmul(x, self.WL) + self.BL"
      ],
      "metadata": {
        "id": "IIJdwJbO7wlG"
      },
      "execution_count": 20,
      "outputs": []
    },
    {
      "cell_type": "markdown",
      "source": [
        "## Gated FAN"
      ],
      "metadata": {
        "id": "yS4cztms7zjS"
      }
    },
    {
      "cell_type": "code",
      "source": [
        "class FANLayerGated(nn.Module):\n",
        "    \"\"\"\n",
        "    Gated Fourier Analysis Network Layer for controlling information flow.\n",
        "\n",
        "    Args:\n",
        "        in_features (int): Number of input features.\n",
        "        d_p (int): Dimension for periodic components.\n",
        "        d_p_bar (int): Dimension for non-periodic components.\n",
        "        activation (nn.Module): Activation function.\n",
        "        gated (bool): Whether to apply gating.\n",
        "    \"\"\"\n",
        "    def __init__(self, in_features, d_p, d_p_bar, activation=nn.GELU(), gated=True):\n",
        "        super(FANLayerGated, self).__init__()\n",
        "        self.Wp = nn.Parameter(torch.randn(in_features, d_p))\n",
        "        self.Wp_bar = nn.Parameter(torch.randn(in_features, d_p_bar))\n",
        "        self.Bp_bar = nn.Parameter(torch.zeros(d_p_bar))\n",
        "        self.activation = activation\n",
        "\n",
        "        # Initialize parameters\n",
        "        nn.init.xavier_uniform_(self.Wp)\n",
        "        nn.init.xavier_uniform_(self.Wp_bar)\n",
        "        nn.init.zeros_(self.Bp_bar)\n",
        "\n",
        "        if gated:\n",
        "            # Initialize the gate parameter\n",
        "            self.gate = nn.Parameter(torch.randn(1))\n",
        "            nn.init.xavier_uniform_(self.gate.unsqueeze(0))\n",
        "\n",
        "    def forward(self, x):\n",
        "        \"\"\"\n",
        "        Forward pass of the FANLayerGated.\n",
        "\n",
        "        Args:\n",
        "            x (torch.Tensor): Input tensor of shape (batch_size, in_features).\n",
        "\n",
        "        Returns:\n",
        "            torch.Tensor: Concatenated and gated output tensor.\n",
        "        \"\"\"\n",
        "        cos_term = torch.cos(torch.matmul(x, self.Wp))\n",
        "        sin_term = torch.sin(torch.matmul(x, self.Wp))\n",
        "        non_periodic_term = self.activation(torch.matmul(x, self.Wp_bar) + self.Bp_bar)\n",
        "\n",
        "        if hasattr(self, 'gate'):\n",
        "            gate = torch.sigmoid(self.gate)\n",
        "            cos_term = gate * cos_term\n",
        "            sin_term = gate * sin_term\n",
        "            non_periodic_term = (1 - gate) * non_periodic_term\n",
        "\n",
        "        return torch.cat([cos_term, sin_term, non_periodic_term], dim=-1)"
      ],
      "metadata": {
        "id": "SVtH8Xp973DG"
      },
      "execution_count": 21,
      "outputs": []
    },
    {
      "cell_type": "code",
      "source": [
        "class GFANModel(nn.Module):\n",
        "    \"\"\"\n",
        "    Gated Fourier Analysis Network model composed of multiple FANLayerGated layers.\n",
        "\n",
        "    Args:\n",
        "        in_features (int): Number of input features (flattened window_size * n_features).\n",
        "        hidden_dim (int): Hidden dimension size.\n",
        "        num_layers (int): Number of FANLayerGated layers.\n",
        "        activation (nn.Module): Activation function.\n",
        "        gated (bool): Whether to apply gating.\n",
        "    \"\"\"\n",
        "    def __init__(self, in_features, hidden_dim, num_layers, activation=nn.GELU(), gated=True):\n",
        "        super(GFANModel, self).__init__()\n",
        "        self.layers = nn.ModuleList()\n",
        "\n",
        "        d_p = hidden_dim // 4\n",
        "        d_p_bar = hidden_dim\n",
        "\n",
        "        for _ in range(num_layers - 1):\n",
        "            self.layers.append(FANLayerGated(in_features, d_p, d_p_bar, activation, gated))\n",
        "            in_features = 2 * d_p + d_p_bar\n",
        "\n",
        "        self.output_layer = nn.Linear(in_features, 1)\n",
        "\n",
        "        # Initialize output layer parameters\n",
        "        nn.init.xavier_uniform_(self.output_layer.weight)\n",
        "        nn.init.zeros_(self.output_layer.bias)\n",
        "\n",
        "    def forward(self, x):\n",
        "        \"\"\"\n",
        "        Forward pass of the GFANModel.\n",
        "\n",
        "        Args:\n",
        "            x (torch.Tensor): Input tensor of shape (batch_size, window_size, n_features).\n",
        "\n",
        "        Returns:\n",
        "            torch.Tensor: Output tensor of shape (batch_size, 1).\n",
        "        \"\"\"\n",
        "        # Flatten the input: (batch_size, window_size * n_features)\n",
        "        x = x.view(x.size(0), -1)\n",
        "        for layer in self.layers:\n",
        "            x = layer(x)\n",
        "        return self.output_layer(x)"
      ],
      "metadata": {
        "id": "0WHeIBmT74kd"
      },
      "execution_count": 22,
      "outputs": []
    },
    {
      "cell_type": "markdown",
      "source": [
        "## Transformers"
      ],
      "metadata": {
        "id": "vbDsqH5V799W"
      }
    },
    {
      "cell_type": "code",
      "source": [
        "class PositionalEncoding(nn.Module):\n",
        "    def __init__(self, d_model, dropout=0.1, max_len=5000):\n",
        "        \"\"\"\n",
        "        Initializes the PositionalEncoding module.\n",
        "\n",
        "        Args:\n",
        "            d_model (int): Dimension of the embeddings.\n",
        "            dropout (float): Dropout rate.\n",
        "            max_len (int): Maximum length of input sequences.\n",
        "        \"\"\"\n",
        "        super(PositionalEncoding, self).__init__()\n",
        "        self.dropout = nn.Dropout(p=dropout)\n",
        "\n",
        "        # Create a long enough PEs matrix\n",
        "        pe = torch.zeros(max_len, d_model)\n",
        "        position = torch.arange(0, max_len, dtype=torch.float).unsqueeze(1)  # Shape: (max_len, 1)\n",
        "        div_term = torch.exp(torch.arange(0, d_model, 2).float() *\n",
        "                             (-math.log(10000.0) / d_model))  # Shape: (d_model/2,)\n",
        "\n",
        "        pe[:, 0::2] = torch.sin(position * div_term)  # Apply sin to even indices\n",
        "        pe[:, 1::2] = torch.cos(position * div_term)  # Apply cos to odd indices\n",
        "\n",
        "        pe = pe.unsqueeze(0)  # Shape: (1, max_len, d_model)\n",
        "        self.register_buffer('pe', pe)  # Register as buffer to avoid updating\n",
        "\n",
        "    def forward(self, x):\n",
        "        \"\"\"\n",
        "        Adds positional encoding to the input embeddings.\n",
        "\n",
        "        Args:\n",
        "            x (torch.Tensor): Input tensor of shape (batch_size, seq_len, d_model).\n",
        "\n",
        "        Returns:\n",
        "            torch.Tensor: Tensor with positional encoding added.\n",
        "        \"\"\"\n",
        "        x = x + self.pe[:, :x.size(1), :]\n",
        "        return self.dropout(x)"
      ],
      "metadata": {
        "id": "IiX1fD8_gJEd"
      },
      "execution_count": 23,
      "outputs": []
    },
    {
      "cell_type": "code",
      "source": [
        "class TransformerModel(nn.Module):\n",
        "    \"\"\"\n",
        "    Transformer model for time series forecasting with positional encoding.\n",
        "\n",
        "    Args:\n",
        "        input_dim (int): Number of input features.\n",
        "        model_dim (int): Dimension of the Transformer model.\n",
        "        num_heads (int): Number of attention heads.\n",
        "        num_layers (int): Number of Transformer encoder layers.\n",
        "        dropout (float): Dropout rate.\n",
        "        max_len (int): Maximum sequence length for positional encoding.\n",
        "    \"\"\"\n",
        "    def __init__(self, input_dim, model_dim, num_heads, num_layers, dropout=0.1, max_len=5000):\n",
        "        super(TransformerModel, self).__init__()\n",
        "        self.model_dim = model_dim\n",
        "        self.input_linear = nn.Linear(input_dim, model_dim)\n",
        "        self.pos_encoder = PositionalEncoding(d_model=model_dim, dropout=dropout, max_len=max_len)\n",
        "\n",
        "        encoder_layer = nn.TransformerEncoderLayer(d_model=model_dim, nhead=num_heads, dropout=dropout)\n",
        "        self.transformer_encoder = nn.TransformerEncoder(encoder_layer, num_layers=num_layers)\n",
        "\n",
        "        self.output_linear = nn.Linear(model_dim, 1)\n",
        "\n",
        "    def forward(self, x):\n",
        "        \"\"\"\n",
        "        Forward pass of the TransformerModel.\n",
        "\n",
        "        Args:\n",
        "            x (torch.Tensor): Input tensor of shape (batch_size, window_size, input_dim).\n",
        "\n",
        "        Returns:\n",
        "            torch.Tensor: Output tensor of shape (batch_size, 1).\n",
        "        \"\"\"\n",
        "        # Linear transformation\n",
        "        x = self.input_linear(x) * math.sqrt(self.model_dim)  # Shape: (B, L, model_dim)\n",
        "\n",
        "        # Add positional encoding\n",
        "        x = self.pos_encoder(x)  # Shape: (B, L, model_dim)\n",
        "\n",
        "        # Prepare for Transformer: (L, B, model_dim)\n",
        "        x = x.permute(1, 0, 2)\n",
        "\n",
        "        # Transformer Encoder\n",
        "        x = self.transformer_encoder(x)  # Shape: (L, B, model_dim)\n",
        "\n",
        "        # Convert back to (B, L, model_dim)\n",
        "        x = x.permute(1, 0, 2)\n",
        "\n",
        "        # Aggregation: Use the last time step\n",
        "        x = x[:, -1, :]  # Shape: (B, model_dim)\n",
        "\n",
        "        # Final output layer\n",
        "        x = self.output_linear(x)  # Shape: (B, 1)\n",
        "\n",
        "        return x"
      ],
      "metadata": {
        "id": "xvLeDJrsgT5J"
      },
      "execution_count": 24,
      "outputs": []
    },
    {
      "cell_type": "code",
      "source": [
        "class TransformerWithFANModel(nn.Module):\n",
        "    \"\"\"\n",
        "    Transformer model with a FAN layer for time series forecasting, incorporating positional encoding.\n",
        "\n",
        "    Args:\n",
        "        input_dim (int): Number of input features.\n",
        "        model_dim (int): Dimension of the Transformer model.\n",
        "        num_heads (int): Number of attention heads.\n",
        "        num_layers (int): Number of Transformer encoder layers.\n",
        "        fan_hidden_dim (int): Hidden dimension size for FAN.\n",
        "        fan_num_layers (int): Number of FAN layers.\n",
        "        dropout (float): Dropout rate.\n",
        "        max_len (int): Maximum sequence length for positional encoding.\n",
        "    \"\"\"\n",
        "    def __init__(self, input_dim, model_dim, num_heads, num_layers, fan_hidden_dim, fan_num_layers, dropout=0.1, max_len=5000):\n",
        "        super(TransformerWithFANModel, self).__init__()\n",
        "        self.model_dim = model_dim\n",
        "        self.input_linear = nn.Linear(input_dim, model_dim)\n",
        "        self.pos_encoder = PositionalEncoding(d_model=model_dim, dropout=dropout, max_len=max_len)\n",
        "\n",
        "        encoder_layer = nn.TransformerEncoderLayer(d_model=model_dim, nhead=num_heads, dropout=dropout)\n",
        "        self.transformer_encoder = nn.TransformerEncoder(encoder_layer, num_layers=num_layers)\n",
        "\n",
        "        # FAN layer replaces the output linear layer\n",
        "        self.fan = FANModel(model_dim, fan_hidden_dim, fan_num_layers)\n",
        "\n",
        "    def forward(self, x):\n",
        "        \"\"\"\n",
        "        Forward pass of the TransformerWithFANModel.\n",
        "\n",
        "        Args:\n",
        "            x (torch.Tensor): Input tensor of shape (batch_size, window_size, input_dim).\n",
        "\n",
        "        Returns:\n",
        "            torch.Tensor: Output tensor of shape (batch_size, 1).\n",
        "        \"\"\"\n",
        "        # Linear transformation\n",
        "        x = self.input_linear(x) * math.sqrt(self.model_dim)  # Shape: (B, L, model_dim)\n",
        "\n",
        "        # Add positional encoding\n",
        "        x = self.pos_encoder(x)  # Shape: (B, L, model_dim)\n",
        "\n",
        "        # Prepare for Transformer: (L, B, model_dim)\n",
        "        x = x.permute(1, 0, 2)\n",
        "\n",
        "        # Transformer Encoder\n",
        "        x = self.transformer_encoder(x)  # Shape: (L, B, model_dim)\n",
        "\n",
        "        # Convert back to (B, L, model_dim)\n",
        "        x = x.permute(1, 0, 2)\n",
        "\n",
        "        # Aggregation: Use the last time step\n",
        "        x = x[:, -1, :]  # Shape: (B, model_dim)\n",
        "\n",
        "        # FAN Layer\n",
        "        x = self.fan(x)  # Shape: (B, 1)\n",
        "\n",
        "        return x"
      ],
      "metadata": {
        "id": "gSZvEmoCgW18"
      },
      "execution_count": 25,
      "outputs": []
    },
    {
      "cell_type": "code",
      "source": [
        "class TransformerWithGFANModel(nn.Module):\n",
        "    \"\"\"\n",
        "    Transformer model with a Gated FAN layer for time series forecasting, incorporating positional encoding.\n",
        "\n",
        "    Args:\n",
        "        input_dim (int): Number of input features.\n",
        "        model_dim (int): Dimension of the Transformer model.\n",
        "        num_heads (int): Number of attention heads.\n",
        "        num_layers (int): Number of Transformer encoder layers.\n",
        "        fan_hidden_dim (int): Hidden dimension size for Gated FAN.\n",
        "        fan_num_layers (int): Number of Gated FAN layers.\n",
        "        dropout (float): Dropout rate.\n",
        "        max_len (int): Maximum sequence length for positional encoding.\n",
        "    \"\"\"\n",
        "    def __init__(self, input_dim, model_dim, num_heads, num_layers, fan_hidden_dim, fan_num_layers, dropout=0.1, max_len=5000):\n",
        "        super(TransformerWithGFANModel, self).__init__()\n",
        "        self.model_dim = model_dim\n",
        "        self.input_linear = nn.Linear(input_dim, model_dim)\n",
        "        self.pos_encoder = PositionalEncoding(d_model=model_dim, dropout=dropout, max_len=max_len)\n",
        "\n",
        "        encoder_layer = nn.TransformerEncoderLayer(d_model=model_dim, nhead=num_heads, dropout=dropout)\n",
        "        self.transformer_encoder = nn.TransformerEncoder(encoder_layer, num_layers=num_layers)\n",
        "\n",
        "        # Gated FAN layer replaces the output linear layer\n",
        "        self.fan_gated = GFANModel(model_dim, fan_hidden_dim, fan_num_layers, gated=True)\n",
        "\n",
        "    def forward(self, x):\n",
        "        \"\"\"\n",
        "        Forward pass of the TransformerWithGFANModel.\n",
        "\n",
        "        Args:\n",
        "            x (torch.Tensor): Input tensor of shape (batch_size, window_size, input_dim).\n",
        "\n",
        "        Returns:\n",
        "            torch.Tensor: Output tensor of shape (batch_size, 1).\n",
        "        \"\"\"\n",
        "        # Linear transformation\n",
        "        x = self.input_linear(x) * math.sqrt(self.model_dim)  # Shape: (B, L, model_dim)\n",
        "\n",
        "        # Add positional encoding\n",
        "        x = self.pos_encoder(x)  # Shape: (B, L, model_dim)\n",
        "\n",
        "        # Prepare for Transformer: (L, B, model_dim)\n",
        "        x = x.permute(1, 0, 2)\n",
        "\n",
        "        # Transformer Encoder\n",
        "        x = self.transformer_encoder(x)  # Shape: (L, B, model_dim)\n",
        "\n",
        "        # Convert back to (B, L, model_dim)\n",
        "        x = x.permute(1, 0, 2)\n",
        "\n",
        "        # Aggregation: Use the last time step\n",
        "        x = x[:, -1, :]  # Shape: (B, model_dim)\n",
        "\n",
        "        # Gated FAN Layer\n",
        "        x = self.fan_gated(x)  # Shape: (B, 1)\n",
        "\n",
        "        return x"
      ],
      "metadata": {
        "id": "mbhUsN44gZIS"
      },
      "execution_count": 26,
      "outputs": []
    },
    {
      "cell_type": "markdown",
      "source": [
        "## LSTM"
      ],
      "metadata": {
        "id": "Jz3yEJGc8KNC"
      }
    },
    {
      "cell_type": "code",
      "source": [
        "class LSTMModel(nn.Module):\n",
        "    \"\"\"\n",
        "    LSTM model for time series forecasting.\n",
        "\n",
        "    Args:\n",
        "        input_dim (int): Number of input features.\n",
        "        hidden_dim (int): Hidden dimension size.\n",
        "        num_layers (int): Number of LSTM layers.\n",
        "        dropout (float): Dropout rate between LSTM layers.\n",
        "    \"\"\"\n",
        "    def __init__(self, input_dim, hidden_dim, num_layers, dropout=0.1):\n",
        "        super(LSTMModel, self).__init__()\n",
        "        self.hidden_dim = hidden_dim\n",
        "        self.num_layers = num_layers\n",
        "\n",
        "        # Define the LSTM layer\n",
        "        self.lstm = nn.LSTM(input_dim, hidden_dim, num_layers, batch_first=True, dropout=dropout)\n",
        "\n",
        "        # Define the output layer\n",
        "        self.output_linear = nn.Linear(hidden_dim, 1)\n",
        "\n",
        "    def forward(self, x):\n",
        "        \"\"\"\n",
        "        Forward pass of the LSTMModel.\n",
        "\n",
        "        Args:\n",
        "            x (torch.Tensor): Input tensor of shape (batch_size, window_size, input_dim).\n",
        "\n",
        "        Returns:\n",
        "            torch.Tensor: Output tensor of shape (batch_size, 1).\n",
        "        \"\"\"\n",
        "        # Initialize hidden state and cell state\n",
        "        h0 = torch.zeros(self.num_layers, x.size(0), self.hidden_dim).to(x.device)\n",
        "        c0 = torch.zeros(self.num_layers, x.size(0), self.hidden_dim).to(x.device)\n",
        "\n",
        "        # Forward propagate LSTM\n",
        "        out, _ = self.lstm(x, (h0, c0))  # out: (batch_size, window_size, hidden_dim)\n",
        "\n",
        "        # Decode the hidden state of the last time step\n",
        "        out = self.output_linear(out[:, -1, :])  # (batch_size, 1)\n",
        "        return out"
      ],
      "metadata": {
        "id": "w1XsmfBz8L6d"
      },
      "execution_count": 27,
      "outputs": []
    },
    {
      "cell_type": "markdown",
      "source": [
        "## GRU"
      ],
      "metadata": {
        "id": "B6FUAirH8Rej"
      }
    },
    {
      "cell_type": "code",
      "source": [
        "class GRUModel(nn.Module):\n",
        "    \"\"\"\n",
        "    GRU model for time series forecasting.\n",
        "\n",
        "    Args:\n",
        "        input_dim (int): Number of input features.\n",
        "        hidden_dim (int): Hidden dimension size.\n",
        "        num_layers (int): Number of GRU layers.\n",
        "        dropout (float): Dropout rate between GRU layers.\n",
        "    \"\"\"\n",
        "    def __init__(self, input_dim, hidden_dim, num_layers, dropout=0.1):\n",
        "        super(GRUModel, self).__init__()\n",
        "        self.hidden_dim = hidden_dim\n",
        "        self.num_layers = num_layers\n",
        "\n",
        "        # Define the GRU layer\n",
        "        self.gru = nn.GRU(input_dim, hidden_dim, num_layers, batch_first=True, dropout=dropout)\n",
        "\n",
        "        # Define the output layer\n",
        "        self.output_linear = nn.Linear(hidden_dim, 1)\n",
        "\n",
        "    def forward(self, x):\n",
        "        \"\"\"\n",
        "        Forward pass of the GRUModel.\n",
        "\n",
        "        Args:\n",
        "            x (torch.Tensor): Input tensor of shape (batch_size, window_size, input_dim).\n",
        "\n",
        "        Returns:\n",
        "            torch.Tensor: Output tensor of shape (batch_size, 1).\n",
        "        \"\"\"\n",
        "        # Initialize hidden state\n",
        "        h0 = torch.zeros(self.num_layers, x.size(0), self.hidden_dim).to(x.device)\n",
        "\n",
        "        # Forward propagate GRU\n",
        "        out, _ = self.gru(x, h0)  # out: (batch_size, window_size, hidden_dim)\n",
        "\n",
        "        # Decode the hidden state of the last time step\n",
        "        out = self.output_linear(out[:, -1, :])  # (batch_size, 1)\n",
        "        return out"
      ],
      "metadata": {
        "id": "waMgg8_h8ORV"
      },
      "execution_count": 28,
      "outputs": []
    },
    {
      "cell_type": "markdown",
      "source": [
        "# Model Initialization"
      ],
      "metadata": {
        "id": "vWhasKnd8097"
      }
    },
    {
      "cell_type": "code",
      "source": [
        "# Define parameters\n",
        "window_size = 24  # Number of past time steps\n",
        "n_features = 4    # ['Sunspots', 'Year', 'Year_cos', 'Year_sin']\n",
        "\n",
        "# Initialize a dictionary to store models and their configurations\n",
        "model_configs = {\n",
        "    'MLPModel': {\n",
        "        'model': None,\n",
        "        'params': {\n",
        "            'in_features': window_size * n_features,  # 24 * 4 = 96\n",
        "            'hidden_dim': 64,\n",
        "            'num_layers': 3\n",
        "        }\n",
        "    },\n",
        "    'FANModel': {\n",
        "        'model': None,\n",
        "        'params': {\n",
        "            'in_features': window_size * n_features,  # 24 * 4 = 96\n",
        "            'hidden_dim': 64,\n",
        "            'num_layers': 3\n",
        "        }\n",
        "    },\n",
        "    'GFANModel': {\n",
        "        'model': None,\n",
        "        'params': {\n",
        "            'in_features': window_size * n_features,  # 24 * 4 = 96\n",
        "            'hidden_dim': 64,\n",
        "            'num_layers': 3,\n",
        "            'gated': True\n",
        "        }\n",
        "    },\n",
        "    'TransformerModel': {\n",
        "        'model': None,\n",
        "        'params': {\n",
        "            'input_dim': n_features,\n",
        "            'model_dim': 64,\n",
        "            'num_heads': 4,\n",
        "            'num_layers': 2,\n",
        "            'dropout': 0.1\n",
        "        }\n",
        "    },\n",
        "    'TransformerWithFANModel': {\n",
        "        'model': None,\n",
        "        'params': {\n",
        "            'input_dim': n_features,\n",
        "            'model_dim': 64,\n",
        "            'num_heads': 4,\n",
        "            'num_layers': 2,\n",
        "            'fan_hidden_dim': 32,\n",
        "            'fan_num_layers': 2,\n",
        "            'dropout': 0.1\n",
        "        }\n",
        "    },\n",
        "    'TransformerWithGFANModel': {\n",
        "        'model': None,\n",
        "        'params': {\n",
        "            'input_dim': n_features,\n",
        "            'model_dim': 64,\n",
        "            'num_heads': 4,\n",
        "            'num_layers': 2,\n",
        "            'fan_hidden_dim': 32,\n",
        "            'fan_num_layers': 2,\n",
        "            'dropout': 0.1\n",
        "        }\n",
        "    },\n",
        "    'LSTMModel': {\n",
        "        'model': None,\n",
        "        'params': {\n",
        "            'input_dim': n_features,\n",
        "            'hidden_dim': 64,\n",
        "            'num_layers': 2,\n",
        "            'dropout': 0.1\n",
        "        }\n",
        "    },\n",
        "    'GRUModel': {\n",
        "        'model': None,\n",
        "        'params': {\n",
        "            'input_dim': n_features,\n",
        "            'hidden_dim': 64,\n",
        "            'num_layers': 2,\n",
        "            'dropout': 0.1\n",
        "        }\n",
        "    }\n",
        "}"
      ],
      "metadata": {
        "id": "-3yA1nHBVmFi"
      },
      "execution_count": 29,
      "outputs": []
    },
    {
      "cell_type": "code",
      "source": [
        "# Initialize all models\n",
        "print(\"--- Initializing All Models ---\")\n",
        "for name, config in model_configs.items():\n",
        "    if name == 'MLPModel':\n",
        "        model = MLPModel(**config['params']).to(device)\n",
        "    elif name == 'FANModel':\n",
        "        model = FANModel(**config['params']).to(device)\n",
        "    elif name == 'GFANModel':\n",
        "        model = GFANModel(**config['params']).to(device)\n",
        "    elif name == 'TransformerModel':\n",
        "        model = TransformerModel(**config['params']).to(device)\n",
        "    elif name == 'TransformerWithFANModel':\n",
        "        model = TransformerWithFANModel(**config['params']).to(device)\n",
        "    elif name == 'TransformerWithGFANModel':\n",
        "        model = TransformerWithGFANModel(**config['params']).to(device)\n",
        "    elif name == 'LSTMModel':\n",
        "        model = LSTMModel(**config['params']).to(device)\n",
        "    elif name == 'GRUModel':\n",
        "        model = GRUModel(**config['params']).to(device)\n",
        "    else:\n",
        "        raise ValueError(f\"Unknown model name: {name}\")\n",
        "    config['model'] = model\n",
        "    print(f\"Initialized {name}.\")"
      ],
      "metadata": {
        "colab": {
          "base_uri": "https://localhost:8080/"
        },
        "id": "kmd5hkEx83s9",
        "outputId": "db5fb9b6-a384-497a-840d-58de9a4f2deb"
      },
      "execution_count": 30,
      "outputs": [
        {
          "output_type": "stream",
          "name": "stdout",
          "text": [
            "--- Initializing All Models ---\n",
            "Initialized MLPModel.\n",
            "Initialized FANModel.\n",
            "Initialized GFANModel.\n",
            "Initialized TransformerModel.\n",
            "Initialized TransformerWithFANModel.\n",
            "Initialized TransformerWithGFANModel.\n",
            "Initialized LSTMModel.\n",
            "Initialized GRUModel.\n"
          ]
        }
      ]
    },
    {
      "cell_type": "markdown",
      "source": [
        "# Model Training"
      ],
      "metadata": {
        "id": "QIq5Rgch8Q49"
      }
    },
    {
      "cell_type": "code",
      "source": [
        "class EarlyStopping:\n",
        "    \"\"\"\n",
        "    Early stops the training if validation loss doesn't improve after a given patience.\n",
        "\n",
        "    Args:\n",
        "        patience (int): How long to wait after last time validation loss improved.\n",
        "        verbose (bool): If True, prints a message for each validation loss improvement.\n",
        "        delta (float): Minimum change in the monitored quantity to qualify as an improvement.\n",
        "        path (str): Path for the checkpoint to be saved to.\n",
        "    \"\"\"\n",
        "    def __init__(self, patience=10, verbose=False, delta=0.0, path='checkpoint.pt'):\n",
        "        self.patience = patience\n",
        "        self.verbose = verbose\n",
        "        self.delta = delta\n",
        "        self.path = path\n",
        "        self.counter = 0\n",
        "        self.best_score = None\n",
        "        self.early_stop = False\n",
        "        self.best_loss = np.Inf\n",
        "\n",
        "    def __call__(self, val_loss, model, model_name):\n",
        "        score = -val_loss\n",
        "\n",
        "        if self.best_score is None:\n",
        "            self.best_score = score\n",
        "            self.save_checkpoint(val_loss, model, model_name)\n",
        "        elif score < self.best_score + self.delta:\n",
        "            self.counter += 1\n",
        "            if self.verbose:\n",
        "                print(f'EarlyStopping counter: {self.counter} out of {self.patience}')\n",
        "            if self.counter >= self.patience:\n",
        "                self.early_stop = True\n",
        "        else:\n",
        "            self.best_score = score\n",
        "            self.save_checkpoint(val_loss, model, model_name)\n",
        "            self.counter = 0\n",
        "\n",
        "    def save_checkpoint(self, val_loss, model, model_name):\n",
        "        \"\"\"\n",
        "        Saves model when validation loss decreases.\n",
        "\n",
        "        Args:\n",
        "            val_loss (float): Current validation loss.\n",
        "            model (nn.Module): Model to save.\n",
        "            model_name (str): Name of the model.\n",
        "        \"\"\"\n",
        "        if self.verbose:\n",
        "            print(f'Validation loss decreased ({self.best_loss:.6f} --> {val_loss:.6f}).  Saving model ...')\n",
        "        torch.save(model.state_dict(), f'best_model_{model_name}.pt')\n",
        "        self.best_loss = val_loss"
      ],
      "metadata": {
        "id": "S3iohwXU8Zos"
      },
      "execution_count": 31,
      "outputs": []
    },
    {
      "cell_type": "code",
      "source": [
        "def train_model(model, train_loader, val_loader, epochs, lr, model_name, device, early_stopping=None, max_grad_norm=1.0, print_freq=1):\n",
        "    \"\"\"\n",
        "    Trains the given model and validates it with optional early stopping and gradient clipping.\n",
        "\n",
        "    Args:\n",
        "        model (nn.Module): The neural network model to train.\n",
        "        train_loader (DataLoader): DataLoader for training data.\n",
        "        val_loader (DataLoader): DataLoader for validation data.\n",
        "        epochs (int): Number of training epochs.\n",
        "        lr (float): Learning rate.\n",
        "        model_name (str): Name of the model (for logging purposes).\n",
        "        device (torch.device): Device to run the training on.\n",
        "        early_stopping (EarlyStopping, optional): EarlyStopping instance.\n",
        "        max_grad_norm (float): Maximum norm for gradient clipping.\n",
        "        print_freq (int): Frequency of printing losses (in epochs).\n",
        "\n",
        "    Returns:\n",
        "        train_losses (list): Training loss per epoch.\n",
        "        val_losses (list): Validation loss per epoch.\n",
        "    \"\"\"\n",
        "    criterion = nn.MSELoss()\n",
        "    optimizer = optim.AdamW(model.parameters(), lr=lr)\n",
        "\n",
        "    train_losses = []\n",
        "    val_losses = []\n",
        "\n",
        "    for epoch in tqdm(range(1, epochs + 1), desc=f\"Training {model_name}\"):\n",
        "        # Training Phase\n",
        "        model.train()\n",
        "        epoch_train_loss = 0.0\n",
        "        for X_batch, y_batch in train_loader:\n",
        "            X_batch, y_batch = X_batch.to(device), y_batch.to(device)\n",
        "\n",
        "            optimizer.zero_grad()\n",
        "            outputs = model(X_batch)\n",
        "            loss = criterion(outputs.squeeze(), y_batch)\n",
        "            loss.backward()\n",
        "\n",
        "            # Gradient Clipping\n",
        "            nn.utils.clip_grad_norm_(model.parameters(), max_grad_norm)\n",
        "\n",
        "            optimizer.step()\n",
        "\n",
        "            epoch_train_loss += loss.item() * X_batch.size(0)\n",
        "\n",
        "        epoch_train_loss /= len(train_loader.dataset)\n",
        "        train_losses.append(epoch_train_loss)\n",
        "\n",
        "        # Validation Phase\n",
        "        model.eval()\n",
        "        epoch_val_loss = 0.0\n",
        "        with torch.no_grad():\n",
        "            for X_batch, y_batch in val_loader:\n",
        "                X_batch, y_batch = X_batch.to(device), y_batch.to(device)\n",
        "                outputs = model(X_batch)\n",
        "                loss = criterion(outputs.squeeze(), y_batch)\n",
        "                epoch_val_loss += loss.item() * X_batch.size(0)\n",
        "\n",
        "        epoch_val_loss /= len(val_loader.dataset)\n",
        "        val_losses.append(epoch_val_loss)\n",
        "\n",
        "        # Early Stopping\n",
        "        if early_stopping:\n",
        "            early_stopping(epoch_val_loss, model, model_name)\n",
        "            if early_stopping.early_stop:\n",
        "                print(f\"Early stopping triggered for {model_name} at epoch {epoch}\")\n",
        "                break\n",
        "\n",
        "        # Print losses at specified frequency\n",
        "        if epoch % print_freq == 0 or epoch == epochs:\n",
        "            print(f\"Epoch {epoch}/{epochs} - {model_name} Training Loss: {epoch_train_loss:.6f}, Validation Loss: {epoch_val_loss:.6f}\")\n",
        "\n",
        "    return train_losses, val_losses"
      ],
      "metadata": {
        "id": "fzHqcrVQ8aAv"
      },
      "execution_count": 32,
      "outputs": []
    },
    {
      "cell_type": "code",
      "source": [
        "def save_model(model, path):\n",
        "    \"\"\"\n",
        "    Saves the trained model to the specified path.\n",
        "\n",
        "    Args:\n",
        "        model (nn.Module): Trained model.\n",
        "        path (str): File path to save the model.\n",
        "    \"\"\"\n",
        "    torch.save(model.state_dict(), path)\n",
        "    print(f\"Model saved to {path}\")"
      ],
      "metadata": {
        "id": "CjBgeDcd87-I"
      },
      "execution_count": 33,
      "outputs": []
    },
    {
      "cell_type": "code",
      "source": [
        "def load_model(model, path, device):\n",
        "    \"\"\"\n",
        "    Loads the model weights from the specified path.\n",
        "\n",
        "    Args:\n",
        "        model (nn.Module): Model instance to load weights into.\n",
        "        path (str): File path from which to load the model.\n",
        "        device (torch.device): Device to map the model to.\n",
        "    \"\"\"\n",
        "    model.load_state_dict(torch.load(path, map_location=device))\n",
        "    model.to(device)\n",
        "    model.eval()\n",
        "    print(f\"Model loaded from {path}\")"
      ],
      "metadata": {
        "id": "AwpwqiYw8pdL"
      },
      "execution_count": 34,
      "outputs": []
    },
    {
      "cell_type": "code",
      "source": [
        "# Initialize Early Stopping for all models\n",
        "early_stopping_configs = {}\n",
        "for name in model_configs.keys():\n",
        "    early_stopping_configs[name] = EarlyStopping(patience=20, verbose=False, delta=0.0001, path=f'best_model_{name}.pt')"
      ],
      "metadata": {
        "id": "LdobiHle8ytZ"
      },
      "execution_count": 35,
      "outputs": []
    },
    {
      "cell_type": "code",
      "source": [
        "# Train all models\n",
        "print(\"--- Training All Models ---\")\n",
        "epochs = 200\n",
        "learning_rate = 0.001\n",
        "max_grad_norm = 1.0  # Maximum norm for gradient clipping\n",
        "print_freq = 1       # Print losses every epoch by default\n",
        "\n",
        "for name, config in model_configs.items():\n",
        "    print(f\"\\n--- Training {name} ---\")\n",
        "    model = config['model']\n",
        "    es = early_stopping_configs[name]\n",
        "    train_losses, val_losses = train_model(\n",
        "        model=model,\n",
        "        train_loader=train_loader,\n",
        "        val_loader=val_loader,\n",
        "        epochs=epochs,\n",
        "        lr=learning_rate,\n",
        "        model_name=name,\n",
        "        device=device,\n",
        "        early_stopping=es,\n",
        "        max_grad_norm=max_grad_norm,\n",
        "        print_freq=print_freq\n",
        "    )"
      ],
      "metadata": {
        "colab": {
          "base_uri": "https://localhost:8080/"
        },
        "id": "d0saJXVs8yq0",
        "outputId": "aeeaa174-9750-44f1-f518-b8e5ced031dd"
      },
      "execution_count": 36,
      "outputs": [
        {
          "output_type": "stream",
          "name": "stdout",
          "text": [
            "--- Training All Models ---\n",
            "\n",
            "--- Training MLPModel ---\n"
          ]
        },
        {
          "output_type": "stream",
          "name": "stderr",
          "text": [
            "Training MLPModel:   4%|▍         | 9/200 [00:00<00:06, 27.77it/s]"
          ]
        },
        {
          "output_type": "stream",
          "name": "stdout",
          "text": [
            "Epoch 1/200 - MLPModel Training Loss: 0.138595, Validation Loss: 0.227824\n",
            "Epoch 2/200 - MLPModel Training Loss: 0.060316, Validation Loss: 0.135020\n",
            "Epoch 3/200 - MLPModel Training Loss: 0.053517, Validation Loss: 0.166329\n",
            "Epoch 4/200 - MLPModel Training Loss: 0.046355, Validation Loss: 0.213985\n",
            "Epoch 5/200 - MLPModel Training Loss: 0.047350, Validation Loss: 0.189791\n",
            "Epoch 6/200 - MLPModel Training Loss: 0.043121, Validation Loss: 0.160208\n",
            "Epoch 7/200 - MLPModel Training Loss: 0.041140, Validation Loss: 0.167181\n",
            "Epoch 8/200 - MLPModel Training Loss: 0.038386, Validation Loss: 0.179536\n",
            "Epoch 9/200 - MLPModel Training Loss: 0.035657, Validation Loss: 0.155878\n",
            "Epoch 10/200 - MLPModel Training Loss: 0.032660, Validation Loss: 0.142052\n",
            "Epoch 11/200 - MLPModel Training Loss: 0.029919, Validation Loss: 0.134508\n",
            "Epoch 12/200 - MLPModel Training Loss: 0.027063, Validation Loss: 0.110651\n",
            "Epoch 13/200 - MLPModel Training Loss: 0.025306, Validation Loss: 0.101467\n",
            "Epoch 14/200 - MLPModel Training Loss: 0.023974, Validation Loss: 0.088824\n"
          ]
        },
        {
          "output_type": "stream",
          "name": "stderr",
          "text": [
            "Training MLPModel:  12%|█▏        | 23/200 [00:00<00:03, 47.86it/s]"
          ]
        },
        {
          "output_type": "stream",
          "name": "stdout",
          "text": [
            "Epoch 15/200 - MLPModel Training Loss: 0.023113, Validation Loss: 0.083388\n",
            "Epoch 16/200 - MLPModel Training Loss: 0.022329, Validation Loss: 0.079184\n",
            "Epoch 17/200 - MLPModel Training Loss: 0.021482, Validation Loss: 0.074488\n",
            "Epoch 18/200 - MLPModel Training Loss: 0.020694, Validation Loss: 0.071408\n",
            "Epoch 19/200 - MLPModel Training Loss: 0.019905, Validation Loss: 0.066676\n",
            "Epoch 20/200 - MLPModel Training Loss: 0.019221, Validation Loss: 0.063422\n",
            "Epoch 21/200 - MLPModel Training Loss: 0.018580, Validation Loss: 0.059829\n",
            "Epoch 22/200 - MLPModel Training Loss: 0.017986, Validation Loss: 0.056315\n",
            "Epoch 23/200 - MLPModel Training Loss: 0.017446, Validation Loss: 0.053230\n",
            "Epoch 24/200 - MLPModel Training Loss: 0.016939, Validation Loss: 0.050184\n",
            "Epoch 25/200 - MLPModel Training Loss: 0.016476, Validation Loss: 0.047471\n",
            "Epoch 26/200 - MLPModel Training Loss: 0.016059, Validation Loss: 0.045161\n",
            "Epoch 27/200 - MLPModel Training Loss: 0.015677, Validation Loss: 0.043149\n"
          ]
        },
        {
          "output_type": "stream",
          "name": "stderr",
          "text": [
            "Training MLPModel:  18%|█▊        | 37/200 [00:00<00:02, 56.57it/s]"
          ]
        },
        {
          "output_type": "stream",
          "name": "stdout",
          "text": [
            "Epoch 28/200 - MLPModel Training Loss: 0.015316, Validation Loss: 0.041303\n",
            "Epoch 29/200 - MLPModel Training Loss: 0.014973, Validation Loss: 0.039521\n",
            "Epoch 30/200 - MLPModel Training Loss: 0.014662, Validation Loss: 0.038038\n",
            "Epoch 31/200 - MLPModel Training Loss: 0.014388, Validation Loss: 0.037145\n",
            "Epoch 32/200 - MLPModel Training Loss: 0.014115, Validation Loss: 0.036286\n",
            "Epoch 33/200 - MLPModel Training Loss: 0.013782, Validation Loss: 0.034561\n",
            "Epoch 34/200 - MLPModel Training Loss: 0.013514, Validation Loss: 0.033040\n",
            "Epoch 35/200 - MLPModel Training Loss: 0.013395, Validation Loss: 0.033941\n",
            "Epoch 36/200 - MLPModel Training Loss: 0.013407, Validation Loss: 0.035719\n",
            "Epoch 37/200 - MLPModel Training Loss: 0.012770, Validation Loss: 0.031523\n",
            "Epoch 38/200 - MLPModel Training Loss: 0.012808, Validation Loss: 0.026912\n",
            "Epoch 39/200 - MLPModel Training Loss: 0.013114, Validation Loss: 0.030518\n",
            "Epoch 40/200 - MLPModel Training Loss: 0.017335, Validation Loss: 0.053842\n",
            "Epoch 41/200 - MLPModel Training Loss: 0.016810, Validation Loss: 0.030231\n"
          ]
        },
        {
          "output_type": "stream",
          "name": "stderr",
          "text": [
            "Training MLPModel:  26%|██▌       | 51/200 [00:01<00:02, 60.68it/s]"
          ]
        },
        {
          "output_type": "stream",
          "name": "stdout",
          "text": [
            "Epoch 42/200 - MLPModel Training Loss: 0.030105, Validation Loss: 0.037481\n",
            "Epoch 43/200 - MLPModel Training Loss: 0.020904, Validation Loss: 0.050396\n",
            "Epoch 44/200 - MLPModel Training Loss: 0.024261, Validation Loss: 0.028620\n",
            "Epoch 45/200 - MLPModel Training Loss: 0.013444, Validation Loss: 0.049338\n",
            "Epoch 46/200 - MLPModel Training Loss: 0.013732, Validation Loss: 0.035454\n",
            "Epoch 47/200 - MLPModel Training Loss: 0.014452, Validation Loss: 0.050409\n",
            "Epoch 48/200 - MLPModel Training Loss: 0.012049, Validation Loss: 0.033893\n",
            "Epoch 49/200 - MLPModel Training Loss: 0.011976, Validation Loss: 0.036074\n",
            "Epoch 50/200 - MLPModel Training Loss: 0.011894, Validation Loss: 0.032130\n",
            "Epoch 51/200 - MLPModel Training Loss: 0.011486, Validation Loss: 0.032548\n",
            "Epoch 52/200 - MLPModel Training Loss: 0.011390, Validation Loss: 0.033170\n",
            "Epoch 53/200 - MLPModel Training Loss: 0.011115, Validation Loss: 0.030696\n",
            "Epoch 54/200 - MLPModel Training Loss: 0.010961, Validation Loss: 0.030050\n",
            "Epoch 55/200 - MLPModel Training Loss: 0.010828, Validation Loss: 0.029555\n"
          ]
        },
        {
          "output_type": "stream",
          "name": "stderr",
          "text": [
            "\rTraining MLPModel:  28%|██▊       | 57/200 [00:01<00:02, 49.37it/s]\n"
          ]
        },
        {
          "output_type": "stream",
          "name": "stdout",
          "text": [
            "Epoch 56/200 - MLPModel Training Loss: 0.010683, Validation Loss: 0.028832\n",
            "Epoch 57/200 - MLPModel Training Loss: 0.010575, Validation Loss: 0.028557\n",
            "Early stopping triggered for MLPModel at epoch 58\n",
            "\n",
            "--- Training FANModel ---\n"
          ]
        },
        {
          "output_type": "stream",
          "name": "stderr",
          "text": [
            "Training FANModel:   2%|▏         | 4/200 [00:00<00:05, 39.06it/s]"
          ]
        },
        {
          "output_type": "stream",
          "name": "stdout",
          "text": [
            "Epoch 1/200 - FANModel Training Loss: 0.187411, Validation Loss: 0.509856\n",
            "Epoch 2/200 - FANModel Training Loss: 0.273103, Validation Loss: 0.801760\n",
            "Epoch 3/200 - FANModel Training Loss: 0.052472, Validation Loss: 0.105716\n",
            "Epoch 4/200 - FANModel Training Loss: 0.048798, Validation Loss: 0.109606\n",
            "Epoch 5/200 - FANModel Training Loss: 0.162677, Validation Loss: 0.066461\n",
            "Epoch 6/200 - FANModel Training Loss: 0.105689, Validation Loss: 0.105501\n",
            "Epoch 7/200 - FANModel Training Loss: 0.031106, Validation Loss: 0.087332\n"
          ]
        },
        {
          "output_type": "stream",
          "name": "stderr",
          "text": [
            "\rTraining FANModel:   5%|▌         | 10/200 [00:00<00:04, 45.92it/s]"
          ]
        },
        {
          "output_type": "stream",
          "name": "stdout",
          "text": [
            "Epoch 8/200 - FANModel Training Loss: 0.040806, Validation Loss: 0.050836\n",
            "Epoch 9/200 - FANModel Training Loss: 0.021509, Validation Loss: 0.084781\n",
            "Epoch 10/200 - FANModel Training Loss: 0.019307, Validation Loss: 0.061186\n",
            "Epoch 11/200 - FANModel Training Loss: 0.018551, Validation Loss: 0.053751\n"
          ]
        },
        {
          "output_type": "stream",
          "name": "stderr",
          "text": [
            "\rTraining FANModel:   8%|▊         | 15/200 [00:00<00:04, 45.54it/s]"
          ]
        },
        {
          "output_type": "stream",
          "name": "stdout",
          "text": [
            "Epoch 12/200 - FANModel Training Loss: 0.020270, Validation Loss: 0.079023\n",
            "Epoch 13/200 - FANModel Training Loss: 0.021169, Validation Loss: 0.049536\n",
            "Epoch 14/200 - FANModel Training Loss: 0.056410, Validation Loss: 0.082260\n",
            "Epoch 15/200 - FANModel Training Loss: 0.033740, Validation Loss: 0.051328\n",
            "Epoch 16/200 - FANModel Training Loss: 0.030733, Validation Loss: 0.056910\n",
            "Epoch 17/200 - FANModel Training Loss: 0.044621, Validation Loss: 0.051803\n"
          ]
        },
        {
          "output_type": "stream",
          "name": "stderr",
          "text": [
            "\rTraining FANModel:  10%|█         | 20/200 [00:00<00:04, 44.78it/s]"
          ]
        },
        {
          "output_type": "stream",
          "name": "stdout",
          "text": [
            "Epoch 18/200 - FANModel Training Loss: 0.026790, Validation Loss: 0.061531\n",
            "Epoch 19/200 - FANModel Training Loss: 0.026804, Validation Loss: 0.068934\n",
            "Epoch 20/200 - FANModel Training Loss: 0.022955, Validation Loss: 0.069608\n"
          ]
        },
        {
          "output_type": "stream",
          "name": "stderr",
          "text": [
            "\rTraining FANModel:  12%|█▎        | 25/200 [00:00<00:03, 45.08it/s]"
          ]
        },
        {
          "output_type": "stream",
          "name": "stdout",
          "text": [
            "Epoch 21/200 - FANModel Training Loss: 0.021959, Validation Loss: 0.048572\n",
            "Epoch 22/200 - FANModel Training Loss: 0.018804, Validation Loss: 0.069264\n",
            "Epoch 23/200 - FANModel Training Loss: 0.015614, Validation Loss: 0.054092\n",
            "Epoch 24/200 - FANModel Training Loss: 0.014461, Validation Loss: 0.054116\n",
            "Epoch 25/200 - FANModel Training Loss: 0.014391, Validation Loss: 0.054361\n",
            "Epoch 26/200 - FANModel Training Loss: 0.016798, Validation Loss: 0.050640\n",
            "Epoch 27/200 - FANModel Training Loss: 0.016014, Validation Loss: 0.050574\n"
          ]
        },
        {
          "output_type": "stream",
          "name": "stderr",
          "text": [
            "\rTraining FANModel:  15%|█▌        | 30/200 [00:00<00:03, 45.96it/s]"
          ]
        },
        {
          "output_type": "stream",
          "name": "stdout",
          "text": [
            "Epoch 28/200 - FANModel Training Loss: 0.016178, Validation Loss: 0.052524\n",
            "Epoch 29/200 - FANModel Training Loss: 0.040697, Validation Loss: 0.045461\n",
            "Epoch 30/200 - FANModel Training Loss: 0.016282, Validation Loss: 0.074247\n"
          ]
        },
        {
          "output_type": "stream",
          "name": "stderr",
          "text": [
            "\rTraining FANModel:  18%|█▊        | 35/200 [00:00<00:03, 43.80it/s]"
          ]
        },
        {
          "output_type": "stream",
          "name": "stdout",
          "text": [
            "Epoch 31/200 - FANModel Training Loss: 0.014458, Validation Loss: 0.053505\n",
            "Epoch 32/200 - FANModel Training Loss: 0.016875, Validation Loss: 0.051402\n",
            "Epoch 33/200 - FANModel Training Loss: 0.019187, Validation Loss: 0.043550\n",
            "Epoch 34/200 - FANModel Training Loss: 0.029170, Validation Loss: 0.042011\n",
            "Epoch 35/200 - FANModel Training Loss: 0.020559, Validation Loss: 0.072733\n",
            "Epoch 36/200 - FANModel Training Loss: 0.015030, Validation Loss: 0.047528\n"
          ]
        },
        {
          "output_type": "stream",
          "name": "stderr",
          "text": [
            "\rTraining FANModel:  20%|██        | 40/200 [00:00<00:03, 45.11it/s]"
          ]
        },
        {
          "output_type": "stream",
          "name": "stdout",
          "text": [
            "Epoch 37/200 - FANModel Training Loss: 0.014838, Validation Loss: 0.054021\n",
            "Epoch 38/200 - FANModel Training Loss: 0.015502, Validation Loss: 0.055590\n",
            "Epoch 39/200 - FANModel Training Loss: 0.020616, Validation Loss: 0.046268\n",
            "Epoch 40/200 - FANModel Training Loss: 0.030808, Validation Loss: 0.087962\n"
          ]
        },
        {
          "output_type": "stream",
          "name": "stderr",
          "text": [
            "\rTraining FANModel:  23%|██▎       | 46/200 [00:01<00:03, 48.05it/s]"
          ]
        },
        {
          "output_type": "stream",
          "name": "stdout",
          "text": [
            "Epoch 41/200 - FANModel Training Loss: 0.014315, Validation Loss: 0.045568\n",
            "Epoch 42/200 - FANModel Training Loss: 0.014489, Validation Loss: 0.058827\n",
            "Epoch 43/200 - FANModel Training Loss: 0.018944, Validation Loss: 0.049457\n",
            "Epoch 44/200 - FANModel Training Loss: 0.013016, Validation Loss: 0.061175\n",
            "Epoch 45/200 - FANModel Training Loss: 0.013151, Validation Loss: 0.054404\n",
            "Epoch 46/200 - FANModel Training Loss: 0.017900, Validation Loss: 0.045874\n",
            "Epoch 47/200 - FANModel Training Loss: 0.013015, Validation Loss: 0.057007\n",
            "Epoch 48/200 - FANModel Training Loss: 0.012453, Validation Loss: 0.052524\n",
            "Epoch 49/200 - FANModel Training Loss: 0.017927, Validation Loss: 0.045444\n",
            "Epoch 50/200 - FANModel Training Loss: 0.014040, Validation Loss: 0.057123\n",
            "Epoch 51/200 - FANModel Training Loss: 0.012981, Validation Loss: 0.053006\n"
          ]
        },
        {
          "output_type": "stream",
          "name": "stderr",
          "text": [
            "Training FANModel:  26%|██▋       | 53/200 [00:01<00:03, 45.83it/s]\n"
          ]
        },
        {
          "output_type": "stream",
          "name": "stdout",
          "text": [
            "Epoch 52/200 - FANModel Training Loss: 0.020950, Validation Loss: 0.043366\n",
            "Epoch 53/200 - FANModel Training Loss: 0.017088, Validation Loss: 0.070460\n",
            "Early stopping triggered for FANModel at epoch 54\n",
            "\n",
            "--- Training GFANModel ---\n"
          ]
        },
        {
          "output_type": "stream",
          "name": "stderr",
          "text": [
            "\rTraining GFANModel:   0%|          | 0/200 [00:00<?, ?it/s]"
          ]
        },
        {
          "output_type": "stream",
          "name": "stdout",
          "text": [
            "Epoch 1/200 - GFANModel Training Loss: 0.082404, Validation Loss: 0.199865\n",
            "Epoch 2/200 - GFANModel Training Loss: 0.062843, Validation Loss: 0.319862\n"
          ]
        },
        {
          "output_type": "stream",
          "name": "stderr",
          "text": [
            "\rTraining GFANModel:   2%|▏         | 4/200 [00:00<00:05, 34.77it/s]"
          ]
        },
        {
          "output_type": "stream",
          "name": "stdout",
          "text": [
            "Epoch 3/200 - GFANModel Training Loss: 0.046021, Validation Loss: 0.201348\n",
            "Epoch 4/200 - GFANModel Training Loss: 0.042227, Validation Loss: 0.163837\n",
            "Epoch 5/200 - GFANModel Training Loss: 0.036724, Validation Loss: 0.152027\n"
          ]
        },
        {
          "output_type": "stream",
          "name": "stderr",
          "text": [
            "\rTraining GFANModel:   4%|▍         | 8/200 [00:00<00:05, 37.53it/s]"
          ]
        },
        {
          "output_type": "stream",
          "name": "stdout",
          "text": [
            "Epoch 6/200 - GFANModel Training Loss: 0.033952, Validation Loss: 0.119543\n",
            "Epoch 7/200 - GFANModel Training Loss: 0.030045, Validation Loss: 0.126284\n",
            "Epoch 8/200 - GFANModel Training Loss: 0.027707, Validation Loss: 0.110380\n",
            "Epoch 9/200 - GFANModel Training Loss: 0.026023, Validation Loss: 0.107521\n",
            "Epoch 10/200 - GFANModel Training Loss: 0.024411, Validation Loss: 0.093650\n",
            "Epoch 11/200 - GFANModel Training Loss: 0.023270, Validation Loss: 0.088198\n"
          ]
        },
        {
          "output_type": "stream",
          "name": "stderr",
          "text": [
            "\rTraining GFANModel:   6%|▋         | 13/200 [00:00<00:04, 38.96it/s]"
          ]
        },
        {
          "output_type": "stream",
          "name": "stdout",
          "text": [
            "Epoch 12/200 - GFANModel Training Loss: 0.022153, Validation Loss: 0.081799\n",
            "Epoch 13/200 - GFANModel Training Loss: 0.021077, Validation Loss: 0.079238\n",
            "Epoch 14/200 - GFANModel Training Loss: 0.020034, Validation Loss: 0.075222\n"
          ]
        },
        {
          "output_type": "stream",
          "name": "stderr",
          "text": [
            "\rTraining GFANModel:   8%|▊         | 17/200 [00:00<00:04, 38.11it/s]"
          ]
        },
        {
          "output_type": "stream",
          "name": "stdout",
          "text": [
            "Epoch 15/200 - GFANModel Training Loss: 0.019008, Validation Loss: 0.070394\n",
            "Epoch 16/200 - GFANModel Training Loss: 0.018081, Validation Loss: 0.066627\n",
            "Epoch 17/200 - GFANModel Training Loss: 0.017227, Validation Loss: 0.062941\n",
            "Epoch 18/200 - GFANModel Training Loss: 0.016455, Validation Loss: 0.059326\n"
          ]
        },
        {
          "output_type": "stream",
          "name": "stderr",
          "text": [
            "\rTraining GFANModel:  10%|█         | 21/200 [00:00<00:05, 34.47it/s]"
          ]
        },
        {
          "output_type": "stream",
          "name": "stdout",
          "text": [
            "Epoch 19/200 - GFANModel Training Loss: 0.015764, Validation Loss: 0.056165\n",
            "Epoch 20/200 - GFANModel Training Loss: 0.015138, Validation Loss: 0.053255\n",
            "Epoch 21/200 - GFANModel Training Loss: 0.014538, Validation Loss: 0.049802\n",
            "Epoch 22/200 - GFANModel Training Loss: 0.014054, Validation Loss: 0.046817\n",
            "Epoch 23/200 - GFANModel Training Loss: 0.013728, Validation Loss: 0.046577\n",
            "Epoch 24/200 - GFANModel Training Loss: 0.013467, Validation Loss: 0.046132\n"
          ]
        },
        {
          "output_type": "stream",
          "name": "stderr",
          "text": [
            "\rTraining GFANModel:  12%|█▎        | 25/200 [00:00<00:05, 34.96it/s]"
          ]
        },
        {
          "output_type": "stream",
          "name": "stdout",
          "text": [
            "Epoch 25/200 - GFANModel Training Loss: 0.012733, Validation Loss: 0.039631\n",
            "Epoch 26/200 - GFANModel Training Loss: 0.012943, Validation Loss: 0.035347\n",
            "Epoch 27/200 - GFANModel Training Loss: 0.013278, Validation Loss: 0.045391\n",
            "Epoch 28/200 - GFANModel Training Loss: 0.017517, Validation Loss: 0.058310\n",
            "Epoch 29/200 - GFANModel Training Loss: 0.014509, Validation Loss: 0.035043\n"
          ]
        },
        {
          "output_type": "stream",
          "name": "stderr",
          "text": [
            "\rTraining GFANModel:  15%|█▌        | 30/200 [00:00<00:04, 36.88it/s]"
          ]
        },
        {
          "output_type": "stream",
          "name": "stdout",
          "text": [
            "Epoch 30/200 - GFANModel Training Loss: 0.040394, Validation Loss: 0.069513\n",
            "Epoch 31/200 - GFANModel Training Loss: 0.014178, Validation Loss: 0.036390\n",
            "Epoch 32/200 - GFANModel Training Loss: 0.014237, Validation Loss: 0.036111\n",
            "Epoch 33/200 - GFANModel Training Loss: 0.013696, Validation Loss: 0.041774\n",
            "Epoch 34/200 - GFANModel Training Loss: 0.012537, Validation Loss: 0.042130\n"
          ]
        },
        {
          "output_type": "stream",
          "name": "stderr",
          "text": [
            "\rTraining GFANModel:  18%|█▊        | 35/200 [00:00<00:04, 38.81it/s]"
          ]
        },
        {
          "output_type": "stream",
          "name": "stdout",
          "text": [
            "Epoch 35/200 - GFANModel Training Loss: 0.014042, Validation Loss: 0.036518\n",
            "Epoch 36/200 - GFANModel Training Loss: 0.011970, Validation Loss: 0.036504\n",
            "Epoch 37/200 - GFANModel Training Loss: 0.014370, Validation Loss: 0.041071\n",
            "Epoch 38/200 - GFANModel Training Loss: 0.012867, Validation Loss: 0.037743\n"
          ]
        },
        {
          "output_type": "stream",
          "name": "stderr",
          "text": [
            "\rTraining GFANModel:  20%|█▉        | 39/200 [00:01<00:04, 37.72it/s]"
          ]
        },
        {
          "output_type": "stream",
          "name": "stdout",
          "text": [
            "Epoch 39/200 - GFANModel Training Loss: 0.013879, Validation Loss: 0.033896\n",
            "Epoch 40/200 - GFANModel Training Loss: 0.014532, Validation Loss: 0.038595\n",
            "Epoch 41/200 - GFANModel Training Loss: 0.012652, Validation Loss: 0.040776\n",
            "Epoch 42/200 - GFANModel Training Loss: 0.015966, Validation Loss: 0.032449\n"
          ]
        },
        {
          "output_type": "stream",
          "name": "stderr",
          "text": [
            "\rTraining GFANModel:  22%|██▏       | 43/200 [00:01<00:04, 38.14it/s]"
          ]
        },
        {
          "output_type": "stream",
          "name": "stdout",
          "text": [
            "Epoch 43/200 - GFANModel Training Loss: 0.011610, Validation Loss: 0.036059\n",
            "Epoch 44/200 - GFANModel Training Loss: 0.013860, Validation Loss: 0.042593\n",
            "Epoch 45/200 - GFANModel Training Loss: 0.011870, Validation Loss: 0.034165\n",
            "Epoch 46/200 - GFANModel Training Loss: 0.011591, Validation Loss: 0.033025\n"
          ]
        },
        {
          "output_type": "stream",
          "name": "stderr",
          "text": [
            "\rTraining GFANModel:  24%|██▎       | 47/200 [00:01<00:04, 37.50it/s]"
          ]
        },
        {
          "output_type": "stream",
          "name": "stdout",
          "text": [
            "Epoch 47/200 - GFANModel Training Loss: 0.011669, Validation Loss: 0.038009\n",
            "Epoch 48/200 - GFANModel Training Loss: 0.010569, Validation Loss: 0.036613\n",
            "Epoch 49/200 - GFANModel Training Loss: 0.011406, Validation Loss: 0.032512\n",
            "Epoch 50/200 - GFANModel Training Loss: 0.010187, Validation Loss: 0.033331\n"
          ]
        },
        {
          "output_type": "stream",
          "name": "stderr",
          "text": [
            "\rTraining GFANModel:  26%|██▌       | 51/200 [00:01<00:03, 37.98it/s]"
          ]
        },
        {
          "output_type": "stream",
          "name": "stdout",
          "text": [
            "Epoch 51/200 - GFANModel Training Loss: 0.011056, Validation Loss: 0.035856\n",
            "Epoch 52/200 - GFANModel Training Loss: 0.010607, Validation Loss: 0.034121\n",
            "Epoch 53/200 - GFANModel Training Loss: 0.010862, Validation Loss: 0.031797\n",
            "Epoch 54/200 - GFANModel Training Loss: 0.011463, Validation Loss: 0.032469\n"
          ]
        },
        {
          "output_type": "stream",
          "name": "stderr",
          "text": [
            "\rTraining GFANModel:  28%|██▊       | 55/200 [00:01<00:03, 37.69it/s]"
          ]
        },
        {
          "output_type": "stream",
          "name": "stdout",
          "text": [
            "Epoch 55/200 - GFANModel Training Loss: 0.010942, Validation Loss: 0.036098\n",
            "Epoch 56/200 - GFANModel Training Loss: 0.014389, Validation Loss: 0.033066\n",
            "Epoch 57/200 - GFANModel Training Loss: 0.011287, Validation Loss: 0.030814\n",
            "Epoch 58/200 - GFANModel Training Loss: 0.018750, Validation Loss: 0.042373\n"
          ]
        },
        {
          "output_type": "stream",
          "name": "stderr",
          "text": [
            "\rTraining GFANModel:  30%|██▉       | 59/200 [00:01<00:03, 37.97it/s]"
          ]
        },
        {
          "output_type": "stream",
          "name": "stdout",
          "text": [
            "Epoch 59/200 - GFANModel Training Loss: 0.012591, Validation Loss: 0.033255\n",
            "Epoch 60/200 - GFANModel Training Loss: 0.015370, Validation Loss: 0.029048\n",
            "Epoch 61/200 - GFANModel Training Loss: 0.012278, Validation Loss: 0.041712\n",
            "Epoch 62/200 - GFANModel Training Loss: 0.009999, Validation Loss: 0.036453\n",
            "Epoch 63/200 - GFANModel Training Loss: 0.010168, Validation Loss: 0.030681\n"
          ]
        },
        {
          "output_type": "stream",
          "name": "stderr",
          "text": [
            "\rTraining GFANModel:  32%|███▏      | 64/200 [00:01<00:03, 38.82it/s]"
          ]
        },
        {
          "output_type": "stream",
          "name": "stdout",
          "text": [
            "Epoch 64/200 - GFANModel Training Loss: 0.009292, Validation Loss: 0.034274\n",
            "Epoch 65/200 - GFANModel Training Loss: 0.009201, Validation Loss: 0.034151\n",
            "Epoch 66/200 - GFANModel Training Loss: 0.009090, Validation Loss: 0.031743\n",
            "Epoch 67/200 - GFANModel Training Loss: 0.008972, Validation Loss: 0.031867\n"
          ]
        },
        {
          "output_type": "stream",
          "name": "stderr",
          "text": [
            "\rTraining GFANModel:  34%|███▍      | 68/200 [00:01<00:03, 38.57it/s]"
          ]
        },
        {
          "output_type": "stream",
          "name": "stdout",
          "text": [
            "Epoch 68/200 - GFANModel Training Loss: 0.008910, Validation Loss: 0.031979\n",
            "Epoch 69/200 - GFANModel Training Loss: 0.008851, Validation Loss: 0.031377\n",
            "Epoch 70/200 - GFANModel Training Loss: 0.008774, Validation Loss: 0.031021\n"
          ]
        },
        {
          "output_type": "stream",
          "name": "stderr",
          "text": [
            "\rTraining GFANModel:  36%|███▌      | 72/200 [00:01<00:03, 36.36it/s]"
          ]
        },
        {
          "output_type": "stream",
          "name": "stdout",
          "text": [
            "Epoch 71/200 - GFANModel Training Loss: 0.008719, Validation Loss: 0.031016\n",
            "Epoch 72/200 - GFANModel Training Loss: 0.008671, Validation Loss: 0.031099\n",
            "Epoch 73/200 - GFANModel Training Loss: 0.008644, Validation Loss: 0.030822\n",
            "Epoch 74/200 - GFANModel Training Loss: 0.008553, Validation Loss: 0.030229\n",
            "Epoch 75/200 - GFANModel Training Loss: 0.008547, Validation Loss: 0.030455\n"
          ]
        },
        {
          "output_type": "stream",
          "name": "stderr",
          "text": [
            "\rTraining GFANModel:  38%|███▊      | 76/200 [00:02<00:03, 36.94it/s]"
          ]
        },
        {
          "output_type": "stream",
          "name": "stdout",
          "text": [
            "Epoch 76/200 - GFANModel Training Loss: 0.008593, Validation Loss: 0.031609\n",
            "Epoch 77/200 - GFANModel Training Loss: 0.008611, Validation Loss: 0.030682\n",
            "Epoch 78/200 - GFANModel Training Loss: 0.008689, Validation Loss: 0.028371\n"
          ]
        },
        {
          "output_type": "stream",
          "name": "stderr",
          "text": [
            "\rTraining GFANModel:  40%|████      | 80/200 [00:02<00:03, 36.85it/s]"
          ]
        },
        {
          "output_type": "stream",
          "name": "stdout",
          "text": [
            "Epoch 79/200 - GFANModel Training Loss: 0.008827, Validation Loss: 0.030317\n",
            "Epoch 80/200 - GFANModel Training Loss: 0.010563, Validation Loss: 0.037417\n",
            "Epoch 81/200 - GFANModel Training Loss: 0.010127, Validation Loss: 0.029991\n",
            "Epoch 82/200 - GFANModel Training Loss: 0.017791, Validation Loss: 0.028326\n",
            "Epoch 83/200 - GFANModel Training Loss: 0.013372, Validation Loss: 0.038827\n"
          ]
        },
        {
          "output_type": "stream",
          "name": "stderr",
          "text": [
            "\rTraining GFANModel:  42%|████▏     | 84/200 [00:02<00:03, 36.60it/s]"
          ]
        },
        {
          "output_type": "stream",
          "name": "stdout",
          "text": [
            "Epoch 84/200 - GFANModel Training Loss: 0.035939, Validation Loss: 0.029939\n",
            "Epoch 85/200 - GFANModel Training Loss: 0.008867, Validation Loss: 0.043126\n",
            "Epoch 86/200 - GFANModel Training Loss: 0.008689, Validation Loss: 0.037345\n"
          ]
        },
        {
          "output_type": "stream",
          "name": "stderr",
          "text": [
            "\rTraining GFANModel:  44%|████▍     | 88/200 [00:02<00:03, 36.74it/s]"
          ]
        },
        {
          "output_type": "stream",
          "name": "stdout",
          "text": [
            "Epoch 87/200 - GFANModel Training Loss: 0.010091, Validation Loss: 0.033102\n",
            "Epoch 88/200 - GFANModel Training Loss: 0.009573, Validation Loss: 0.036076\n",
            "Epoch 89/200 - GFANModel Training Loss: 0.011957, Validation Loss: 0.030002\n",
            "Epoch 90/200 - GFANModel Training Loss: 0.009397, Validation Loss: 0.030816\n",
            "Epoch 91/200 - GFANModel Training Loss: 0.011638, Validation Loss: 0.037042\n"
          ]
        },
        {
          "output_type": "stream",
          "name": "stderr",
          "text": [
            "\rTraining GFANModel:  46%|████▌     | 92/200 [00:02<00:02, 36.33it/s]"
          ]
        },
        {
          "output_type": "stream",
          "name": "stdout",
          "text": [
            "Epoch 92/200 - GFANModel Training Loss: 0.009823, Validation Loss: 0.031080\n",
            "Epoch 93/200 - GFANModel Training Loss: 0.010239, Validation Loss: 0.028754\n"
          ]
        },
        {
          "output_type": "stream",
          "name": "stderr",
          "text": [
            "\rTraining GFANModel:  48%|████▊     | 96/200 [00:02<00:02, 35.66it/s]"
          ]
        },
        {
          "output_type": "stream",
          "name": "stdout",
          "text": [
            "Epoch 94/200 - GFANModel Training Loss: 0.010100, Validation Loss: 0.033528\n",
            "Epoch 95/200 - GFANModel Training Loss: 0.009131, Validation Loss: 0.034098\n",
            "Epoch 96/200 - GFANModel Training Loss: 0.010355, Validation Loss: 0.028874\n",
            "Epoch 97/200 - GFANModel Training Loss: 0.008657, Validation Loss: 0.029891\n"
          ]
        },
        {
          "output_type": "stream",
          "name": "stderr",
          "text": [
            "\rTraining GFANModel:  48%|████▊     | 97/200 [00:02<00:02, 36.72it/s]\n"
          ]
        },
        {
          "output_type": "stream",
          "name": "stdout",
          "text": [
            "Early stopping triggered for GFANModel at epoch 98\n",
            "\n",
            "--- Training TransformerModel ---\n"
          ]
        },
        {
          "output_type": "stream",
          "name": "stderr",
          "text": [
            "\rTraining TransformerModel:   0%|          | 0/200 [00:00<?, ?it/s]"
          ]
        },
        {
          "output_type": "stream",
          "name": "stdout",
          "text": [
            "Epoch 1/200 - TransformerModel Training Loss: 2.069801, Validation Loss: 1.376578\n"
          ]
        },
        {
          "output_type": "stream",
          "name": "stderr",
          "text": [
            "\rTraining TransformerModel:   1%|          | 2/200 [00:00<00:14, 13.60it/s]"
          ]
        },
        {
          "output_type": "stream",
          "name": "stdout",
          "text": [
            "Epoch 2/200 - TransformerModel Training Loss: 0.216889, Validation Loss: 0.137024\n",
            "Epoch 3/200 - TransformerModel Training Loss: 0.088099, Validation Loss: 0.242559\n"
          ]
        },
        {
          "output_type": "stream",
          "name": "stderr",
          "text": [
            "\rTraining TransformerModel:   2%|▎         | 5/200 [00:00<00:10, 18.98it/s]"
          ]
        },
        {
          "output_type": "stream",
          "name": "stdout",
          "text": [
            "Epoch 4/200 - TransformerModel Training Loss: 0.059397, Validation Loss: 0.165403\n",
            "Epoch 5/200 - TransformerModel Training Loss: 0.050054, Validation Loss: 0.154497\n",
            "Epoch 6/200 - TransformerModel Training Loss: 0.038811, Validation Loss: 0.143671\n"
          ]
        },
        {
          "output_type": "stream",
          "name": "stderr",
          "text": [
            "\rTraining TransformerModel:   4%|▍         | 8/200 [00:00<00:09, 19.58it/s]"
          ]
        },
        {
          "output_type": "stream",
          "name": "stdout",
          "text": [
            "Epoch 7/200 - TransformerModel Training Loss: 0.028135, Validation Loss: 0.070484\n",
            "Epoch 8/200 - TransformerModel Training Loss: 0.032836, Validation Loss: 0.064088\n",
            "Epoch 9/200 - TransformerModel Training Loss: 0.038618, Validation Loss: 0.114306\n",
            "Epoch 10/200 - TransformerModel Training Loss: 0.041846, Validation Loss: 0.084334\n"
          ]
        },
        {
          "output_type": "stream",
          "name": "stderr",
          "text": [
            "\rTraining TransformerModel:   6%|▌         | 11/200 [00:00<00:08, 21.18it/s]"
          ]
        },
        {
          "output_type": "stream",
          "name": "stdout",
          "text": [
            "Epoch 11/200 - TransformerModel Training Loss: 0.029563, Validation Loss: 0.073186\n",
            "Epoch 12/200 - TransformerModel Training Loss: 0.023806, Validation Loss: 0.074383\n",
            "Epoch 13/200 - TransformerModel Training Loss: 0.021429, Validation Loss: 0.091442\n"
          ]
        },
        {
          "output_type": "stream",
          "name": "stderr",
          "text": [
            "\rTraining TransformerModel:   7%|▋         | 14/200 [00:00<00:08, 21.94it/s]"
          ]
        },
        {
          "output_type": "stream",
          "name": "stdout",
          "text": [
            "Epoch 14/200 - TransformerModel Training Loss: 0.026287, Validation Loss: 0.065213\n",
            "Epoch 15/200 - TransformerModel Training Loss: 0.033143, Validation Loss: 0.100856\n",
            "Epoch 16/200 - TransformerModel Training Loss: 0.021031, Validation Loss: 0.071952\n"
          ]
        },
        {
          "output_type": "stream",
          "name": "stderr",
          "text": [
            "\rTraining TransformerModel:   8%|▊         | 17/200 [00:00<00:08, 22.56it/s]"
          ]
        },
        {
          "output_type": "stream",
          "name": "stdout",
          "text": [
            "Epoch 17/200 - TransformerModel Training Loss: 0.020788, Validation Loss: 0.067461\n",
            "Epoch 18/200 - TransformerModel Training Loss: 0.020408, Validation Loss: 0.073986\n"
          ]
        },
        {
          "output_type": "stream",
          "name": "stderr",
          "text": [
            "\rTraining TransformerModel:  10%|█         | 20/200 [00:00<00:08, 22.33it/s]"
          ]
        },
        {
          "output_type": "stream",
          "name": "stdout",
          "text": [
            "Epoch 19/200 - TransformerModel Training Loss: 0.019240, Validation Loss: 0.076543\n",
            "Epoch 20/200 - TransformerModel Training Loss: 0.019116, Validation Loss: 0.062119\n",
            "Epoch 21/200 - TransformerModel Training Loss: 0.018784, Validation Loss: 0.065421\n"
          ]
        },
        {
          "output_type": "stream",
          "name": "stderr",
          "text": [
            "\rTraining TransformerModel:  12%|█▏        | 23/200 [00:01<00:07, 22.23it/s]"
          ]
        },
        {
          "output_type": "stream",
          "name": "stdout",
          "text": [
            "Epoch 22/200 - TransformerModel Training Loss: 0.020178, Validation Loss: 0.071890\n",
            "Epoch 23/200 - TransformerModel Training Loss: 0.017732, Validation Loss: 0.077544\n",
            "Epoch 24/200 - TransformerModel Training Loss: 0.019565, Validation Loss: 0.071510\n",
            "Epoch 25/200 - TransformerModel Training Loss: 0.018753, Validation Loss: 0.060539\n"
          ]
        },
        {
          "output_type": "stream",
          "name": "stderr",
          "text": [
            "\rTraining TransformerModel:  13%|█▎        | 26/200 [00:01<00:07, 22.14it/s]"
          ]
        },
        {
          "output_type": "stream",
          "name": "stdout",
          "text": [
            "Epoch 26/200 - TransformerModel Training Loss: 0.019883, Validation Loss: 0.064548\n",
            "Epoch 27/200 - TransformerModel Training Loss: 0.020713, Validation Loss: 0.081169\n",
            "Epoch 28/200 - TransformerModel Training Loss: 0.018950, Validation Loss: 0.076841\n"
          ]
        },
        {
          "output_type": "stream",
          "name": "stderr",
          "text": [
            "\rTraining TransformerModel:  14%|█▍        | 29/200 [00:01<00:07, 22.07it/s]"
          ]
        },
        {
          "output_type": "stream",
          "name": "stdout",
          "text": [
            "Epoch 29/200 - TransformerModel Training Loss: 0.017975, Validation Loss: 0.052301\n",
            "Epoch 30/200 - TransformerModel Training Loss: 0.021859, Validation Loss: 0.073278\n",
            "Epoch 31/200 - TransformerModel Training Loss: 0.015238, Validation Loss: 0.061336\n"
          ]
        },
        {
          "output_type": "stream",
          "name": "stderr",
          "text": [
            "\rTraining TransformerModel:  16%|█▌        | 32/200 [00:01<00:07, 22.02it/s]"
          ]
        },
        {
          "output_type": "stream",
          "name": "stdout",
          "text": [
            "Epoch 32/200 - TransformerModel Training Loss: 0.014583, Validation Loss: 0.050571\n",
            "Epoch 33/200 - TransformerModel Training Loss: 0.013797, Validation Loss: 0.050737\n"
          ]
        },
        {
          "output_type": "stream",
          "name": "stderr",
          "text": [
            "\rTraining TransformerModel:  18%|█▊        | 35/200 [00:01<00:07, 21.55it/s]"
          ]
        },
        {
          "output_type": "stream",
          "name": "stdout",
          "text": [
            "Epoch 34/200 - TransformerModel Training Loss: 0.013373, Validation Loss: 0.039739\n",
            "Epoch 35/200 - TransformerModel Training Loss: 0.017008, Validation Loss: 0.038285\n",
            "Epoch 36/200 - TransformerModel Training Loss: 0.012339, Validation Loss: 0.045791\n"
          ]
        },
        {
          "output_type": "stream",
          "name": "stderr",
          "text": [
            "\rTraining TransformerModel:  19%|█▉        | 38/200 [00:01<00:07, 22.09it/s]"
          ]
        },
        {
          "output_type": "stream",
          "name": "stdout",
          "text": [
            "Epoch 37/200 - TransformerModel Training Loss: 0.017129, Validation Loss: 0.060913\n",
            "Epoch 38/200 - TransformerModel Training Loss: 0.015356, Validation Loss: 0.039725\n",
            "Epoch 39/200 - TransformerModel Training Loss: 0.026256, Validation Loss: 0.079961\n",
            "Epoch 40/200 - TransformerModel Training Loss: 0.013342, Validation Loss: 0.056584\n"
          ]
        },
        {
          "output_type": "stream",
          "name": "stderr",
          "text": [
            "\rTraining TransformerModel:  20%|██        | 41/200 [00:01<00:07, 22.42it/s]"
          ]
        },
        {
          "output_type": "stream",
          "name": "stdout",
          "text": [
            "Epoch 41/200 - TransformerModel Training Loss: 0.013166, Validation Loss: 0.038370\n",
            "Epoch 42/200 - TransformerModel Training Loss: 0.010012, Validation Loss: 0.046994\n",
            "Epoch 43/200 - TransformerModel Training Loss: 0.013004, Validation Loss: 0.043027\n"
          ]
        },
        {
          "output_type": "stream",
          "name": "stderr",
          "text": [
            "\rTraining TransformerModel:  22%|██▏       | 44/200 [00:02<00:07, 22.26it/s]"
          ]
        },
        {
          "output_type": "stream",
          "name": "stdout",
          "text": [
            "Epoch 44/200 - TransformerModel Training Loss: 0.011541, Validation Loss: 0.043228\n",
            "Epoch 45/200 - TransformerModel Training Loss: 0.011613, Validation Loss: 0.033383\n",
            "Epoch 46/200 - TransformerModel Training Loss: 0.013928, Validation Loss: 0.048130\n"
          ]
        },
        {
          "output_type": "stream",
          "name": "stderr",
          "text": [
            "\rTraining TransformerModel:  24%|██▎       | 47/200 [00:02<00:06, 22.11it/s]"
          ]
        },
        {
          "output_type": "stream",
          "name": "stdout",
          "text": [
            "Epoch 47/200 - TransformerModel Training Loss: 0.013554, Validation Loss: 0.057013\n",
            "Epoch 48/200 - TransformerModel Training Loss: 0.016077, Validation Loss: 0.043592\n"
          ]
        },
        {
          "output_type": "stream",
          "name": "stderr",
          "text": [
            "\rTraining TransformerModel:  25%|██▌       | 50/200 [00:02<00:06, 22.17it/s]"
          ]
        },
        {
          "output_type": "stream",
          "name": "stdout",
          "text": [
            "Epoch 49/200 - TransformerModel Training Loss: 0.013378, Validation Loss: 0.031869\n",
            "Epoch 50/200 - TransformerModel Training Loss: 0.016596, Validation Loss: 0.059291\n",
            "Epoch 51/200 - TransformerModel Training Loss: 0.010357, Validation Loss: 0.047131\n"
          ]
        },
        {
          "output_type": "stream",
          "name": "stderr",
          "text": [
            "\rTraining TransformerModel:  26%|██▋       | 53/200 [00:02<00:06, 22.49it/s]"
          ]
        },
        {
          "output_type": "stream",
          "name": "stdout",
          "text": [
            "Epoch 52/200 - TransformerModel Training Loss: 0.009109, Validation Loss: 0.041894\n",
            "Epoch 53/200 - TransformerModel Training Loss: 0.010747, Validation Loss: 0.044729\n",
            "Epoch 54/200 - TransformerModel Training Loss: 0.009601, Validation Loss: 0.029747\n",
            "Epoch 55/200 - TransformerModel Training Loss: 0.010292, Validation Loss: 0.040497\n"
          ]
        },
        {
          "output_type": "stream",
          "name": "stderr",
          "text": [
            "\rTraining TransformerModel:  28%|██▊       | 56/200 [00:02<00:06, 22.24it/s]"
          ]
        },
        {
          "output_type": "stream",
          "name": "stdout",
          "text": [
            "Epoch 56/200 - TransformerModel Training Loss: 0.008751, Validation Loss: 0.036012\n",
            "Epoch 57/200 - TransformerModel Training Loss: 0.008449, Validation Loss: 0.034577\n",
            "Epoch 58/200 - TransformerModel Training Loss: 0.012646, Validation Loss: 0.029372\n"
          ]
        },
        {
          "output_type": "stream",
          "name": "stderr",
          "text": [
            "\rTraining TransformerModel:  30%|██▉       | 59/200 [00:02<00:06, 22.14it/s]"
          ]
        },
        {
          "output_type": "stream",
          "name": "stdout",
          "text": [
            "Epoch 59/200 - TransformerModel Training Loss: 0.011255, Validation Loss: 0.064334\n",
            "Epoch 60/200 - TransformerModel Training Loss: 0.018667, Validation Loss: 0.033435\n",
            "Epoch 61/200 - TransformerModel Training Loss: 0.011337, Validation Loss: 0.040498\n"
          ]
        },
        {
          "output_type": "stream",
          "name": "stderr",
          "text": [
            "\rTraining TransformerModel:  31%|███       | 62/200 [00:02<00:06, 22.44it/s]"
          ]
        },
        {
          "output_type": "stream",
          "name": "stdout",
          "text": [
            "Epoch 62/200 - TransformerModel Training Loss: 0.010194, Validation Loss: 0.059281\n",
            "Epoch 63/200 - TransformerModel Training Loss: 0.011123, Validation Loss: 0.053054\n"
          ]
        },
        {
          "output_type": "stream",
          "name": "stderr",
          "text": [
            "\rTraining TransformerModel:  32%|███▎      | 65/200 [00:02<00:05, 22.75it/s]"
          ]
        },
        {
          "output_type": "stream",
          "name": "stdout",
          "text": [
            "Epoch 64/200 - TransformerModel Training Loss: 0.013607, Validation Loss: 0.073288\n",
            "Epoch 65/200 - TransformerModel Training Loss: 0.011798, Validation Loss: 0.052075\n",
            "Epoch 66/200 - TransformerModel Training Loss: 0.010733, Validation Loss: 0.060148\n"
          ]
        },
        {
          "output_type": "stream",
          "name": "stderr",
          "text": [
            "\rTraining TransformerModel:  34%|███▍      | 68/200 [00:03<00:05, 22.52it/s]"
          ]
        },
        {
          "output_type": "stream",
          "name": "stdout",
          "text": [
            "Epoch 67/200 - TransformerModel Training Loss: 0.010295, Validation Loss: 0.040361\n",
            "Epoch 68/200 - TransformerModel Training Loss: 0.010355, Validation Loss: 0.046222\n",
            "Epoch 69/200 - TransformerModel Training Loss: 0.010033, Validation Loss: 0.057856\n",
            "Epoch 70/200 - TransformerModel Training Loss: 0.010409, Validation Loss: 0.031344\n"
          ]
        },
        {
          "output_type": "stream",
          "name": "stderr",
          "text": [
            "\rTraining TransformerModel:  36%|███▌      | 71/200 [00:03<00:05, 22.65it/s]"
          ]
        },
        {
          "output_type": "stream",
          "name": "stdout",
          "text": [
            "Epoch 71/200 - TransformerModel Training Loss: 0.010233, Validation Loss: 0.029925\n",
            "Epoch 72/200 - TransformerModel Training Loss: 0.010230, Validation Loss: 0.054142\n",
            "Epoch 73/200 - TransformerModel Training Loss: 0.009657, Validation Loss: 0.041481\n"
          ]
        },
        {
          "output_type": "stream",
          "name": "stderr",
          "text": [
            "\rTraining TransformerModel:  37%|███▋      | 74/200 [00:03<00:05, 22.81it/s]"
          ]
        },
        {
          "output_type": "stream",
          "name": "stdout",
          "text": [
            "Epoch 74/200 - TransformerModel Training Loss: 0.010811, Validation Loss: 0.029816\n",
            "Epoch 75/200 - TransformerModel Training Loss: 0.011127, Validation Loss: 0.059451\n",
            "Epoch 76/200 - TransformerModel Training Loss: 0.008944, Validation Loss: 0.041404\n"
          ]
        },
        {
          "output_type": "stream",
          "name": "stderr",
          "text": [
            "Training TransformerModel:  38%|███▊      | 77/200 [00:03<00:05, 21.82it/s]\n"
          ]
        },
        {
          "output_type": "stream",
          "name": "stdout",
          "text": [
            "Epoch 77/200 - TransformerModel Training Loss: 0.008804, Validation Loss: 0.039130\n",
            "Early stopping triggered for TransformerModel at epoch 78\n",
            "\n",
            "--- Training TransformerWithFANModel ---\n"
          ]
        },
        {
          "output_type": "stream",
          "name": "stderr",
          "text": [
            "\rTraining TransformerWithFANModel:   0%|          | 0/200 [00:00<?, ?it/s]"
          ]
        },
        {
          "output_type": "stream",
          "name": "stdout",
          "text": [
            "Epoch 1/200 - TransformerWithFANModel Training Loss: 3.089828, Validation Loss: 0.372024\n"
          ]
        },
        {
          "output_type": "stream",
          "name": "stderr",
          "text": [
            "\rTraining TransformerWithFANModel:   1%|          | 2/200 [00:00<00:12, 16.00it/s]"
          ]
        },
        {
          "output_type": "stream",
          "name": "stdout",
          "text": [
            "Epoch 2/200 - TransformerWithFANModel Training Loss: 0.116886, Validation Loss: 0.118280\n",
            "Epoch 3/200 - TransformerWithFANModel Training Loss: 0.080505, Validation Loss: 0.125040\n",
            "Epoch 4/200 - TransformerWithFANModel Training Loss: 0.054425, Validation Loss: 0.160309\n"
          ]
        },
        {
          "output_type": "stream",
          "name": "stderr",
          "text": [
            "\rTraining TransformerWithFANModel:   2%|▎         | 5/200 [00:00<00:10, 18.36it/s]"
          ]
        },
        {
          "output_type": "stream",
          "name": "stdout",
          "text": [
            "Epoch 5/200 - TransformerWithFANModel Training Loss: 0.040949, Validation Loss: 0.061829\n",
            "Epoch 6/200 - TransformerWithFANModel Training Loss: 0.044205, Validation Loss: 0.131988\n",
            "Epoch 7/200 - TransformerWithFANModel Training Loss: 0.034109, Validation Loss: 0.089281\n"
          ]
        },
        {
          "output_type": "stream",
          "name": "stderr",
          "text": [
            "\rTraining TransformerWithFANModel:   4%|▍         | 8/200 [00:00<00:09, 19.44it/s]"
          ]
        },
        {
          "output_type": "stream",
          "name": "stdout",
          "text": [
            "Epoch 8/200 - TransformerWithFANModel Training Loss: 0.057458, Validation Loss: 0.071072\n",
            "Epoch 9/200 - TransformerWithFANModel Training Loss: 0.068176, Validation Loss: 0.113775\n"
          ]
        },
        {
          "output_type": "stream",
          "name": "stderr",
          "text": [
            "\rTraining TransformerWithFANModel:   5%|▌         | 10/200 [00:00<00:10, 18.87it/s]"
          ]
        },
        {
          "output_type": "stream",
          "name": "stdout",
          "text": [
            "Epoch 10/200 - TransformerWithFANModel Training Loss: 0.038738, Validation Loss: 0.086661\n",
            "Epoch 11/200 - TransformerWithFANModel Training Loss: 0.033901, Validation Loss: 0.062599\n"
          ]
        },
        {
          "output_type": "stream",
          "name": "stderr",
          "text": [
            "\rTraining TransformerWithFANModel:   6%|▌         | 12/200 [00:00<00:10, 18.59it/s]"
          ]
        },
        {
          "output_type": "stream",
          "name": "stdout",
          "text": [
            "Epoch 12/200 - TransformerWithFANModel Training Loss: 0.031152, Validation Loss: 0.056494\n",
            "Epoch 13/200 - TransformerWithFANModel Training Loss: 0.028041, Validation Loss: 0.059633\n"
          ]
        },
        {
          "output_type": "stream",
          "name": "stderr",
          "text": [
            "\rTraining TransformerWithFANModel:   8%|▊         | 15/200 [00:00<00:09, 19.38it/s]"
          ]
        },
        {
          "output_type": "stream",
          "name": "stdout",
          "text": [
            "Epoch 14/200 - TransformerWithFANModel Training Loss: 0.028656, Validation Loss: 0.062163\n",
            "Epoch 15/200 - TransformerWithFANModel Training Loss: 0.024234, Validation Loss: 0.080380\n",
            "Epoch 16/200 - TransformerWithFANModel Training Loss: 0.028121, Validation Loss: 0.078975\n",
            "Epoch 17/200 - TransformerWithFANModel Training Loss: 0.027726, Validation Loss: 0.056720\n"
          ]
        },
        {
          "output_type": "stream",
          "name": "stderr",
          "text": [
            "\rTraining TransformerWithFANModel:   9%|▉         | 18/200 [00:00<00:09, 20.01it/s]"
          ]
        },
        {
          "output_type": "stream",
          "name": "stdout",
          "text": [
            "Epoch 18/200 - TransformerWithFANModel Training Loss: 0.029812, Validation Loss: 0.065381\n"
          ]
        },
        {
          "output_type": "stream",
          "name": "stderr",
          "text": [
            "\rTraining TransformerWithFANModel:  10%|█         | 21/200 [00:01<00:08, 20.29it/s]"
          ]
        },
        {
          "output_type": "stream",
          "name": "stdout",
          "text": [
            "Epoch 19/200 - TransformerWithFANModel Training Loss: 0.027837, Validation Loss: 0.085061\n",
            "Epoch 20/200 - TransformerWithFANModel Training Loss: 0.025111, Validation Loss: 0.072242\n",
            "Epoch 21/200 - TransformerWithFANModel Training Loss: 0.026910, Validation Loss: 0.114695\n",
            "Epoch 22/200 - TransformerWithFANModel Training Loss: 0.023679, Validation Loss: 0.055292\n",
            "Epoch 23/200 - TransformerWithFANModel Training Loss: 0.027509, Validation Loss: 0.057932\n"
          ]
        },
        {
          "output_type": "stream",
          "name": "stderr",
          "text": [
            "\rTraining TransformerWithFANModel:  12%|█▏        | 24/200 [00:01<00:08, 19.91it/s]"
          ]
        },
        {
          "output_type": "stream",
          "name": "stdout",
          "text": [
            "Epoch 24/200 - TransformerWithFANModel Training Loss: 0.030002, Validation Loss: 0.054142\n",
            "Epoch 25/200 - TransformerWithFANModel Training Loss: 0.029970, Validation Loss: 0.075258\n",
            "Epoch 26/200 - TransformerWithFANModel Training Loss: 0.029383, Validation Loss: 0.100924\n"
          ]
        },
        {
          "output_type": "stream",
          "name": "stderr",
          "text": [
            "\rTraining TransformerWithFANModel:  14%|█▎        | 27/200 [00:01<00:08, 20.43it/s]"
          ]
        },
        {
          "output_type": "stream",
          "name": "stdout",
          "text": [
            "Epoch 27/200 - TransformerWithFANModel Training Loss: 0.037811, Validation Loss: 0.059437\n",
            "Epoch 28/200 - TransformerWithFANModel Training Loss: 0.027109, Validation Loss: 0.056553\n"
          ]
        },
        {
          "output_type": "stream",
          "name": "stderr",
          "text": [
            "\rTraining TransformerWithFANModel:  15%|█▌        | 30/200 [00:01<00:08, 20.13it/s]"
          ]
        },
        {
          "output_type": "stream",
          "name": "stdout",
          "text": [
            "Epoch 29/200 - TransformerWithFANModel Training Loss: 0.024108, Validation Loss: 0.063189\n",
            "Epoch 30/200 - TransformerWithFANModel Training Loss: 0.023364, Validation Loss: 0.095028\n",
            "Epoch 31/200 - TransformerWithFANModel Training Loss: 0.023930, Validation Loss: 0.061263\n",
            "Epoch 32/200 - TransformerWithFANModel Training Loss: 0.019188, Validation Loss: 0.045665\n"
          ]
        },
        {
          "output_type": "stream",
          "name": "stderr",
          "text": [
            "\rTraining TransformerWithFANModel:  16%|█▋        | 33/200 [00:01<00:08, 19.30it/s]"
          ]
        },
        {
          "output_type": "stream",
          "name": "stdout",
          "text": [
            "Epoch 33/200 - TransformerWithFANModel Training Loss: 0.022809, Validation Loss: 0.069843\n",
            "Epoch 34/200 - TransformerWithFANModel Training Loss: 0.019672, Validation Loss: 0.059195\n"
          ]
        },
        {
          "output_type": "stream",
          "name": "stderr",
          "text": [
            "\rTraining TransformerWithFANModel:  18%|█▊        | 35/200 [00:01<00:08, 19.01it/s]"
          ]
        },
        {
          "output_type": "stream",
          "name": "stdout",
          "text": [
            "Epoch 35/200 - TransformerWithFANModel Training Loss: 0.017620, Validation Loss: 0.044075\n",
            "Epoch 36/200 - TransformerWithFANModel Training Loss: 0.019328, Validation Loss: 0.044576\n"
          ]
        },
        {
          "output_type": "stream",
          "name": "stderr",
          "text": [
            "\rTraining TransformerWithFANModel:  18%|█▊        | 37/200 [00:01<00:08, 18.76it/s]"
          ]
        },
        {
          "output_type": "stream",
          "name": "stdout",
          "text": [
            "Epoch 37/200 - TransformerWithFANModel Training Loss: 0.020480, Validation Loss: 0.064668\n",
            "Epoch 38/200 - TransformerWithFANModel Training Loss: 0.016613, Validation Loss: 0.063375\n"
          ]
        },
        {
          "output_type": "stream",
          "name": "stderr",
          "text": [
            "\rTraining TransformerWithFANModel:  20%|██        | 40/200 [00:02<00:08, 19.47it/s]"
          ]
        },
        {
          "output_type": "stream",
          "name": "stdout",
          "text": [
            "Epoch 39/200 - TransformerWithFANModel Training Loss: 0.018125, Validation Loss: 0.048532\n",
            "Epoch 40/200 - TransformerWithFANModel Training Loss: 0.016303, Validation Loss: 0.051463\n",
            "Epoch 41/200 - TransformerWithFANModel Training Loss: 0.013811, Validation Loss: 0.058859\n"
          ]
        },
        {
          "output_type": "stream",
          "name": "stderr",
          "text": [
            "\rTraining TransformerWithFANModel:  21%|██        | 42/200 [00:02<00:08, 19.38it/s]"
          ]
        },
        {
          "output_type": "stream",
          "name": "stdout",
          "text": [
            "Epoch 42/200 - TransformerWithFANModel Training Loss: 0.013585, Validation Loss: 0.063229\n"
          ]
        },
        {
          "output_type": "stream",
          "name": "stderr",
          "text": [
            "\rTraining TransformerWithFANModel:  22%|██▏       | 44/200 [00:02<00:08, 19.29it/s]"
          ]
        },
        {
          "output_type": "stream",
          "name": "stdout",
          "text": [
            "Epoch 43/200 - TransformerWithFANModel Training Loss: 0.013760, Validation Loss: 0.045637\n",
            "Epoch 44/200 - TransformerWithFANModel Training Loss: 0.015733, Validation Loss: 0.051866\n",
            "Epoch 45/200 - TransformerWithFANModel Training Loss: 0.014103, Validation Loss: 0.055870\n"
          ]
        },
        {
          "output_type": "stream",
          "name": "stderr",
          "text": [
            "\rTraining TransformerWithFANModel:  23%|██▎       | 46/200 [00:02<00:08, 19.21it/s]"
          ]
        },
        {
          "output_type": "stream",
          "name": "stdout",
          "text": [
            "Epoch 46/200 - TransformerWithFANModel Training Loss: 0.015940, Validation Loss: 0.035919\n"
          ]
        },
        {
          "output_type": "stream",
          "name": "stderr",
          "text": [
            "\rTraining TransformerWithFANModel:  24%|██▍       | 49/200 [00:02<00:07, 19.90it/s]"
          ]
        },
        {
          "output_type": "stream",
          "name": "stdout",
          "text": [
            "Epoch 47/200 - TransformerWithFANModel Training Loss: 0.019565, Validation Loss: 0.048110\n",
            "Epoch 48/200 - TransformerWithFANModel Training Loss: 0.013571, Validation Loss: 0.051645\n",
            "Epoch 49/200 - TransformerWithFANModel Training Loss: 0.016659, Validation Loss: 0.047081\n",
            "Epoch 50/200 - TransformerWithFANModel Training Loss: 0.014510, Validation Loss: 0.044350\n"
          ]
        },
        {
          "output_type": "stream",
          "name": "stderr",
          "text": [
            "\rTraining TransformerWithFANModel:  26%|██▌       | 51/200 [00:02<00:07, 19.89it/s]"
          ]
        },
        {
          "output_type": "stream",
          "name": "stdout",
          "text": [
            "Epoch 51/200 - TransformerWithFANModel Training Loss: 0.012973, Validation Loss: 0.046266\n"
          ]
        },
        {
          "output_type": "stream",
          "name": "stderr",
          "text": [
            "\rTraining TransformerWithFANModel:  27%|██▋       | 54/200 [00:02<00:07, 20.34it/s]"
          ]
        },
        {
          "output_type": "stream",
          "name": "stdout",
          "text": [
            "Epoch 52/200 - TransformerWithFANModel Training Loss: 0.014091, Validation Loss: 0.042042\n",
            "Epoch 53/200 - TransformerWithFANModel Training Loss: 0.013213, Validation Loss: 0.041603\n",
            "Epoch 54/200 - TransformerWithFANModel Training Loss: 0.012819, Validation Loss: 0.038783\n",
            "Epoch 55/200 - TransformerWithFANModel Training Loss: 0.012948, Validation Loss: 0.044850\n",
            "Epoch 56/200 - TransformerWithFANModel Training Loss: 0.015929, Validation Loss: 0.055607\n"
          ]
        },
        {
          "output_type": "stream",
          "name": "stderr",
          "text": [
            "\rTraining TransformerWithFANModel:  28%|██▊       | 57/200 [00:02<00:07, 19.92it/s]"
          ]
        },
        {
          "output_type": "stream",
          "name": "stdout",
          "text": [
            "Epoch 57/200 - TransformerWithFANModel Training Loss: 0.016105, Validation Loss: 0.027615\n",
            "Epoch 58/200 - TransformerWithFANModel Training Loss: 0.019368, Validation Loss: 0.059628\n"
          ]
        },
        {
          "output_type": "stream",
          "name": "stderr",
          "text": [
            "\rTraining TransformerWithFANModel:  30%|███       | 60/200 [00:03<00:06, 20.26it/s]"
          ]
        },
        {
          "output_type": "stream",
          "name": "stdout",
          "text": [
            "Epoch 59/200 - TransformerWithFANModel Training Loss: 0.012009, Validation Loss: 0.055762\n",
            "Epoch 60/200 - TransformerWithFANModel Training Loss: 0.013525, Validation Loss: 0.034937\n",
            "Epoch 61/200 - TransformerWithFANModel Training Loss: 0.015206, Validation Loss: 0.047864\n"
          ]
        },
        {
          "output_type": "stream",
          "name": "stderr",
          "text": [
            "\rTraining TransformerWithFANModel:  32%|███▏      | 63/200 [00:03<00:06, 20.45it/s]"
          ]
        },
        {
          "output_type": "stream",
          "name": "stdout",
          "text": [
            "Epoch 62/200 - TransformerWithFANModel Training Loss: 0.013782, Validation Loss: 0.058195\n",
            "Epoch 63/200 - TransformerWithFANModel Training Loss: 0.011397, Validation Loss: 0.040180\n",
            "Epoch 64/200 - TransformerWithFANModel Training Loss: 0.010113, Validation Loss: 0.032690\n",
            "Epoch 65/200 - TransformerWithFANModel Training Loss: 0.012486, Validation Loss: 0.046680\n"
          ]
        },
        {
          "output_type": "stream",
          "name": "stderr",
          "text": [
            "\rTraining TransformerWithFANModel:  33%|███▎      | 66/200 [00:03<00:06, 20.57it/s]"
          ]
        },
        {
          "output_type": "stream",
          "name": "stdout",
          "text": [
            "Epoch 66/200 - TransformerWithFANModel Training Loss: 0.012922, Validation Loss: 0.051327\n",
            "Epoch 67/200 - TransformerWithFANModel Training Loss: 0.011988, Validation Loss: 0.048063\n",
            "Epoch 68/200 - TransformerWithFANModel Training Loss: 0.011064, Validation Loss: 0.047901\n"
          ]
        },
        {
          "output_type": "stream",
          "name": "stderr",
          "text": [
            "\rTraining TransformerWithFANModel:  34%|███▍      | 69/200 [00:03<00:06, 20.64it/s]"
          ]
        },
        {
          "output_type": "stream",
          "name": "stdout",
          "text": [
            "Epoch 69/200 - TransformerWithFANModel Training Loss: 0.008827, Validation Loss: 0.043221\n",
            "Epoch 70/200 - TransformerWithFANModel Training Loss: 0.011692, Validation Loss: 0.044883\n",
            "Epoch 71/200 - TransformerWithFANModel Training Loss: 0.011383, Validation Loss: 0.041320\n"
          ]
        },
        {
          "output_type": "stream",
          "name": "stderr",
          "text": [
            "\rTraining TransformerWithFANModel:  36%|███▌      | 72/200 [00:03<00:06, 20.74it/s]"
          ]
        },
        {
          "output_type": "stream",
          "name": "stdout",
          "text": [
            "Epoch 72/200 - TransformerWithFANModel Training Loss: 0.010873, Validation Loss: 0.050727\n",
            "Epoch 73/200 - TransformerWithFANModel Training Loss: 0.013031, Validation Loss: 0.044622\n"
          ]
        },
        {
          "output_type": "stream",
          "name": "stderr",
          "text": [
            "\rTraining TransformerWithFANModel:  38%|███▊      | 75/200 [00:03<00:05, 20.87it/s]"
          ]
        },
        {
          "output_type": "stream",
          "name": "stdout",
          "text": [
            "Epoch 74/200 - TransformerWithFANModel Training Loss: 0.012560, Validation Loss: 0.038687\n",
            "Epoch 75/200 - TransformerWithFANModel Training Loss: 0.012607, Validation Loss: 0.064929\n",
            "Epoch 76/200 - TransformerWithFANModel Training Loss: 0.013038, Validation Loss: 0.057067\n"
          ]
        },
        {
          "output_type": "stream",
          "name": "stderr",
          "text": [
            "\rTraining TransformerWithFANModel:  38%|███▊      | 76/200 [00:03<00:06, 19.62it/s]\n"
          ]
        },
        {
          "output_type": "stream",
          "name": "stdout",
          "text": [
            "Early stopping triggered for TransformerWithFANModel at epoch 77\n",
            "\n",
            "--- Training TransformerWithGFANModel ---\n"
          ]
        },
        {
          "output_type": "stream",
          "name": "stderr",
          "text": [
            "Training TransformerWithGFANModel:   1%|          | 2/200 [00:00<00:11, 17.18it/s]"
          ]
        },
        {
          "output_type": "stream",
          "name": "stdout",
          "text": [
            "Epoch 1/200 - TransformerWithGFANModel Training Loss: 1.473942, Validation Loss: 0.785044\n",
            "Epoch 2/200 - TransformerWithGFANModel Training Loss: 0.167932, Validation Loss: 0.246725\n",
            "Epoch 3/200 - TransformerWithGFANModel Training Loss: 0.069154, Validation Loss: 0.140696\n"
          ]
        },
        {
          "output_type": "stream",
          "name": "stderr",
          "text": [
            "\rTraining TransformerWithGFANModel:   2%|▏         | 4/200 [00:00<00:11, 17.46it/s]"
          ]
        },
        {
          "output_type": "stream",
          "name": "stdout",
          "text": [
            "Epoch 4/200 - TransformerWithGFANModel Training Loss: 0.062611, Validation Loss: 0.214580\n"
          ]
        },
        {
          "output_type": "stream",
          "name": "stderr",
          "text": [
            "\rTraining TransformerWithGFANModel:   3%|▎         | 6/200 [00:00<00:10, 17.98it/s]"
          ]
        },
        {
          "output_type": "stream",
          "name": "stdout",
          "text": [
            "Epoch 5/200 - TransformerWithGFANModel Training Loss: 0.055142, Validation Loss: 0.188815\n",
            "Epoch 6/200 - TransformerWithGFANModel Training Loss: 0.051091, Validation Loss: 0.125713\n",
            "Epoch 7/200 - TransformerWithGFANModel Training Loss: 0.042730, Validation Loss: 0.120535\n"
          ]
        },
        {
          "output_type": "stream",
          "name": "stderr",
          "text": [
            "\rTraining TransformerWithGFANModel:   4%|▍         | 8/200 [00:00<00:10, 17.63it/s]"
          ]
        },
        {
          "output_type": "stream",
          "name": "stdout",
          "text": [
            "Epoch 8/200 - TransformerWithGFANModel Training Loss: 0.028506, Validation Loss: 0.081916\n"
          ]
        },
        {
          "output_type": "stream",
          "name": "stderr",
          "text": [
            "\rTraining TransformerWithGFANModel:   5%|▌         | 10/200 [00:00<00:10, 17.93it/s]"
          ]
        },
        {
          "output_type": "stream",
          "name": "stdout",
          "text": [
            "Epoch 9/200 - TransformerWithGFANModel Training Loss: 0.023006, Validation Loss: 0.083129\n",
            "Epoch 10/200 - TransformerWithGFANModel Training Loss: 0.029925, Validation Loss: 0.071696\n",
            "Epoch 11/200 - TransformerWithGFANModel Training Loss: 0.038000, Validation Loss: 0.105506\n"
          ]
        },
        {
          "output_type": "stream",
          "name": "stderr",
          "text": [
            "\rTraining TransformerWithGFANModel:   6%|▌         | 12/200 [00:00<00:10, 18.56it/s]"
          ]
        },
        {
          "output_type": "stream",
          "name": "stdout",
          "text": [
            "Epoch 12/200 - TransformerWithGFANModel Training Loss: 0.027801, Validation Loss: 0.101678\n"
          ]
        },
        {
          "output_type": "stream",
          "name": "stderr",
          "text": [
            "\rTraining TransformerWithGFANModel:   7%|▋         | 14/200 [00:00<00:10, 18.42it/s]"
          ]
        },
        {
          "output_type": "stream",
          "name": "stdout",
          "text": [
            "Epoch 13/200 - TransformerWithGFANModel Training Loss: 0.026274, Validation Loss: 0.074857\n",
            "Epoch 14/200 - TransformerWithGFANModel Training Loss: 0.020695, Validation Loss: 0.059552\n",
            "Epoch 15/200 - TransformerWithGFANModel Training Loss: 0.024951, Validation Loss: 0.067694\n",
            "Epoch 16/200 - TransformerWithGFANModel Training Loss: 0.021039, Validation Loss: 0.073882\n"
          ]
        },
        {
          "output_type": "stream",
          "name": "stderr",
          "text": [
            "\rTraining TransformerWithGFANModel:   8%|▊         | 17/200 [00:00<00:09, 19.18it/s]"
          ]
        },
        {
          "output_type": "stream",
          "name": "stdout",
          "text": [
            "Epoch 17/200 - TransformerWithGFANModel Training Loss: 0.021338, Validation Loss: 0.070951\n",
            "Epoch 18/200 - TransformerWithGFANModel Training Loss: 0.021934, Validation Loss: 0.069820\n",
            "Epoch 19/200 - TransformerWithGFANModel Training Loss: 0.020886, Validation Loss: 0.063463\n"
          ]
        },
        {
          "output_type": "stream",
          "name": "stderr",
          "text": [
            "\rTraining TransformerWithGFANModel:  10%|█         | 20/200 [00:01<00:09, 19.71it/s]"
          ]
        },
        {
          "output_type": "stream",
          "name": "stdout",
          "text": [
            "Epoch 20/200 - TransformerWithGFANModel Training Loss: 0.023302, Validation Loss: 0.065572\n",
            "Epoch 21/200 - TransformerWithGFANModel Training Loss: 0.021035, Validation Loss: 0.065153\n"
          ]
        },
        {
          "output_type": "stream",
          "name": "stderr",
          "text": [
            "\rTraining TransformerWithGFANModel:  12%|█▏        | 23/200 [00:01<00:08, 20.04it/s]"
          ]
        },
        {
          "output_type": "stream",
          "name": "stdout",
          "text": [
            "Epoch 22/200 - TransformerWithGFANModel Training Loss: 0.019011, Validation Loss: 0.072045\n",
            "Epoch 23/200 - TransformerWithGFANModel Training Loss: 0.023832, Validation Loss: 0.068076\n",
            "Epoch 24/200 - TransformerWithGFANModel Training Loss: 0.020878, Validation Loss: 0.057884\n"
          ]
        },
        {
          "output_type": "stream",
          "name": "stderr",
          "text": [
            "\rTraining TransformerWithGFANModel:  12%|█▎        | 25/200 [00:01<00:09, 19.04it/s]"
          ]
        },
        {
          "output_type": "stream",
          "name": "stdout",
          "text": [
            "Epoch 25/200 - TransformerWithGFANModel Training Loss: 0.020379, Validation Loss: 0.054776\n"
          ]
        },
        {
          "output_type": "stream",
          "name": "stderr",
          "text": [
            "\rTraining TransformerWithGFANModel:  14%|█▎        | 27/200 [00:01<00:08, 19.23it/s]"
          ]
        },
        {
          "output_type": "stream",
          "name": "stdout",
          "text": [
            "Epoch 26/200 - TransformerWithGFANModel Training Loss: 0.021562, Validation Loss: 0.072957\n",
            "Epoch 27/200 - TransformerWithGFANModel Training Loss: 0.019480, Validation Loss: 0.067192\n",
            "Epoch 28/200 - TransformerWithGFANModel Training Loss: 0.018604, Validation Loss: 0.058419\n",
            "Epoch 29/200 - TransformerWithGFANModel Training Loss: 0.019435, Validation Loss: 0.056978\n"
          ]
        },
        {
          "output_type": "stream",
          "name": "stderr",
          "text": [
            "\rTraining TransformerWithGFANModel:  15%|█▌        | 30/200 [00:01<00:08, 19.56it/s]"
          ]
        },
        {
          "output_type": "stream",
          "name": "stdout",
          "text": [
            "Epoch 30/200 - TransformerWithGFANModel Training Loss: 0.017319, Validation Loss: 0.057974\n",
            "Epoch 31/200 - TransformerWithGFANModel Training Loss: 0.018896, Validation Loss: 0.068590\n"
          ]
        },
        {
          "output_type": "stream",
          "name": "stderr",
          "text": [
            "\rTraining TransformerWithGFANModel:  16%|█▌        | 32/200 [00:01<00:08, 19.27it/s]"
          ]
        },
        {
          "output_type": "stream",
          "name": "stdout",
          "text": [
            "Epoch 32/200 - TransformerWithGFANModel Training Loss: 0.017534, Validation Loss: 0.049199\n",
            "Epoch 33/200 - TransformerWithGFANModel Training Loss: 0.017410, Validation Loss: 0.050430\n",
            "Epoch 34/200 - TransformerWithGFANModel Training Loss: 0.016529, Validation Loss: 0.050997\n"
          ]
        },
        {
          "output_type": "stream",
          "name": "stderr",
          "text": [
            "\rTraining TransformerWithGFANModel:  18%|█▊        | 35/200 [00:01<00:08, 19.54it/s]"
          ]
        },
        {
          "output_type": "stream",
          "name": "stdout",
          "text": [
            "Epoch 35/200 - TransformerWithGFANModel Training Loss: 0.016000, Validation Loss: 0.049550\n",
            "Epoch 36/200 - TransformerWithGFANModel Training Loss: 0.015563, Validation Loss: 0.054164\n"
          ]
        },
        {
          "output_type": "stream",
          "name": "stderr",
          "text": [
            "\rTraining TransformerWithGFANModel:  18%|█▊        | 37/200 [00:01<00:08, 19.21it/s]"
          ]
        },
        {
          "output_type": "stream",
          "name": "stdout",
          "text": [
            "Epoch 37/200 - TransformerWithGFANModel Training Loss: 0.013554, Validation Loss: 0.048565\n",
            "Epoch 38/200 - TransformerWithGFANModel Training Loss: 0.015986, Validation Loss: 0.045194\n"
          ]
        },
        {
          "output_type": "stream",
          "name": "stderr",
          "text": [
            "\rTraining TransformerWithGFANModel:  20%|█▉        | 39/200 [00:02<00:08, 18.31it/s]"
          ]
        },
        {
          "output_type": "stream",
          "name": "stdout",
          "text": [
            "Epoch 39/200 - TransformerWithGFANModel Training Loss: 0.017263, Validation Loss: 0.039881\n",
            "Epoch 40/200 - TransformerWithGFANModel Training Loss: 0.015336, Validation Loss: 0.048201\n",
            "Epoch 41/200 - TransformerWithGFANModel Training Loss: 0.014835, Validation Loss: 0.049274\n"
          ]
        },
        {
          "output_type": "stream",
          "name": "stderr",
          "text": [
            "\rTraining TransformerWithGFANModel:  21%|██        | 42/200 [00:02<00:08, 18.90it/s]"
          ]
        },
        {
          "output_type": "stream",
          "name": "stdout",
          "text": [
            "Epoch 42/200 - TransformerWithGFANModel Training Loss: 0.017085, Validation Loss: 0.050603\n"
          ]
        },
        {
          "output_type": "stream",
          "name": "stderr",
          "text": [
            "\rTraining TransformerWithGFANModel:  22%|██▏       | 44/200 [00:02<00:08, 19.15it/s]"
          ]
        },
        {
          "output_type": "stream",
          "name": "stdout",
          "text": [
            "Epoch 43/200 - TransformerWithGFANModel Training Loss: 0.015908, Validation Loss: 0.041820\n",
            "Epoch 44/200 - TransformerWithGFANModel Training Loss: 0.019303, Validation Loss: 0.048824\n",
            "Epoch 45/200 - TransformerWithGFANModel Training Loss: 0.016409, Validation Loss: 0.077437\n",
            "Epoch 46/200 - TransformerWithGFANModel Training Loss: 0.015485, Validation Loss: 0.039921\n"
          ]
        },
        {
          "output_type": "stream",
          "name": "stderr",
          "text": [
            "\rTraining TransformerWithGFANModel:  24%|██▎       | 47/200 [00:02<00:07, 19.58it/s]"
          ]
        },
        {
          "output_type": "stream",
          "name": "stdout",
          "text": [
            "Epoch 47/200 - TransformerWithGFANModel Training Loss: 0.015309, Validation Loss: 0.042295\n"
          ]
        },
        {
          "output_type": "stream",
          "name": "stderr",
          "text": [
            "\rTraining TransformerWithGFANModel:  24%|██▍       | 49/200 [00:02<00:07, 19.67it/s]"
          ]
        },
        {
          "output_type": "stream",
          "name": "stdout",
          "text": [
            "Epoch 48/200 - TransformerWithGFANModel Training Loss: 0.013088, Validation Loss: 0.046905\n",
            "Epoch 49/200 - TransformerWithGFANModel Training Loss: 0.012061, Validation Loss: 0.056176\n",
            "Epoch 50/200 - TransformerWithGFANModel Training Loss: 0.015776, Validation Loss: 0.031938\n"
          ]
        },
        {
          "output_type": "stream",
          "name": "stderr",
          "text": [
            "\rTraining TransformerWithGFANModel:  26%|██▌       | 51/200 [00:02<00:07, 19.26it/s]"
          ]
        },
        {
          "output_type": "stream",
          "name": "stdout",
          "text": [
            "Epoch 51/200 - TransformerWithGFANModel Training Loss: 0.012981, Validation Loss: 0.036712\n",
            "Epoch 52/200 - TransformerWithGFANModel Training Loss: 0.013261, Validation Loss: 0.040940\n",
            "Epoch 53/200 - TransformerWithGFANModel Training Loss: 0.010963, Validation Loss: 0.054151\n"
          ]
        },
        {
          "output_type": "stream",
          "name": "stderr",
          "text": [
            "\rTraining TransformerWithGFANModel:  27%|██▋       | 54/200 [00:02<00:07, 19.32it/s]"
          ]
        },
        {
          "output_type": "stream",
          "name": "stdout",
          "text": [
            "Epoch 54/200 - TransformerWithGFANModel Training Loss: 0.013465, Validation Loss: 0.030360\n",
            "Epoch 55/200 - TransformerWithGFANModel Training Loss: 0.015108, Validation Loss: 0.040370\n",
            "Epoch 56/200 - TransformerWithGFANModel Training Loss: 0.013346, Validation Loss: 0.071327\n"
          ]
        },
        {
          "output_type": "stream",
          "name": "stderr",
          "text": [
            "\rTraining TransformerWithGFANModel:  28%|██▊       | 57/200 [00:02<00:07, 19.78it/s]"
          ]
        },
        {
          "output_type": "stream",
          "name": "stdout",
          "text": [
            "Epoch 57/200 - TransformerWithGFANModel Training Loss: 0.015351, Validation Loss: 0.036649\n",
            "Epoch 58/200 - TransformerWithGFANModel Training Loss: 0.013520, Validation Loss: 0.043743\n",
            "Epoch 59/200 - TransformerWithGFANModel Training Loss: 0.012002, Validation Loss: 0.052019\n"
          ]
        },
        {
          "output_type": "stream",
          "name": "stderr",
          "text": [
            "\rTraining TransformerWithGFANModel:  30%|███       | 60/200 [00:03<00:06, 20.05it/s]"
          ]
        },
        {
          "output_type": "stream",
          "name": "stdout",
          "text": [
            "Epoch 60/200 - TransformerWithGFANModel Training Loss: 0.011816, Validation Loss: 0.034259\n",
            "Epoch 61/200 - TransformerWithGFANModel Training Loss: 0.010034, Validation Loss: 0.043404\n"
          ]
        },
        {
          "output_type": "stream",
          "name": "stderr",
          "text": [
            "\rTraining TransformerWithGFANModel:  32%|███▏      | 63/200 [00:03<00:06, 20.29it/s]"
          ]
        },
        {
          "output_type": "stream",
          "name": "stdout",
          "text": [
            "Epoch 62/200 - TransformerWithGFANModel Training Loss: 0.010824, Validation Loss: 0.037351\n",
            "Epoch 63/200 - TransformerWithGFANModel Training Loss: 0.010466, Validation Loss: 0.031217\n",
            "Epoch 64/200 - TransformerWithGFANModel Training Loss: 0.012949, Validation Loss: 0.039818\n"
          ]
        },
        {
          "output_type": "stream",
          "name": "stderr",
          "text": [
            "\rTraining TransformerWithGFANModel:  33%|███▎      | 66/200 [00:03<00:06, 20.37it/s]"
          ]
        },
        {
          "output_type": "stream",
          "name": "stdout",
          "text": [
            "Epoch 65/200 - TransformerWithGFANModel Training Loss: 0.012333, Validation Loss: 0.042446\n",
            "Epoch 66/200 - TransformerWithGFANModel Training Loss: 0.010844, Validation Loss: 0.033182\n",
            "Epoch 67/200 - TransformerWithGFANModel Training Loss: 0.011665, Validation Loss: 0.035193\n",
            "Epoch 68/200 - TransformerWithGFANModel Training Loss: 0.010257, Validation Loss: 0.038114\n"
          ]
        },
        {
          "output_type": "stream",
          "name": "stderr",
          "text": [
            "\rTraining TransformerWithGFANModel:  34%|███▍      | 69/200 [00:03<00:06, 20.35it/s]"
          ]
        },
        {
          "output_type": "stream",
          "name": "stdout",
          "text": [
            "Epoch 69/200 - TransformerWithGFANModel Training Loss: 0.011906, Validation Loss: 0.036270\n",
            "Epoch 70/200 - TransformerWithGFANModel Training Loss: 0.009192, Validation Loss: 0.027185\n"
          ]
        },
        {
          "output_type": "stream",
          "name": "stderr",
          "text": [
            "\rTraining TransformerWithGFANModel:  36%|███▌      | 72/200 [00:03<00:06, 19.89it/s]"
          ]
        },
        {
          "output_type": "stream",
          "name": "stdout",
          "text": [
            "Epoch 71/200 - TransformerWithGFANModel Training Loss: 0.010615, Validation Loss: 0.046981\n",
            "Epoch 72/200 - TransformerWithGFANModel Training Loss: 0.009169, Validation Loss: 0.038638\n"
          ]
        },
        {
          "output_type": "stream",
          "name": "stderr",
          "text": [
            "\rTraining TransformerWithGFANModel:  37%|███▋      | 74/200 [00:03<00:06, 19.88it/s]"
          ]
        },
        {
          "output_type": "stream",
          "name": "stdout",
          "text": [
            "Epoch 73/200 - TransformerWithGFANModel Training Loss: 0.008798, Validation Loss: 0.041288\n",
            "Epoch 74/200 - TransformerWithGFANModel Training Loss: 0.009376, Validation Loss: 0.045417\n",
            "Epoch 75/200 - TransformerWithGFANModel Training Loss: 0.010497, Validation Loss: 0.032819\n"
          ]
        },
        {
          "output_type": "stream",
          "name": "stderr",
          "text": [
            "\rTraining TransformerWithGFANModel:  38%|███▊      | 76/200 [00:03<00:06, 19.88it/s]"
          ]
        },
        {
          "output_type": "stream",
          "name": "stdout",
          "text": [
            "Epoch 76/200 - TransformerWithGFANModel Training Loss: 0.010052, Validation Loss: 0.039112\n",
            "Epoch 77/200 - TransformerWithGFANModel Training Loss: 0.009184, Validation Loss: 0.031564\n"
          ]
        },
        {
          "output_type": "stream",
          "name": "stderr",
          "text": [
            "\rTraining TransformerWithGFANModel:  40%|███▉      | 79/200 [00:04<00:06, 20.12it/s]"
          ]
        },
        {
          "output_type": "stream",
          "name": "stdout",
          "text": [
            "Epoch 78/200 - TransformerWithGFANModel Training Loss: 0.010142, Validation Loss: 0.049267\n",
            "Epoch 79/200 - TransformerWithGFANModel Training Loss: 0.010038, Validation Loss: 0.029990\n",
            "Epoch 80/200 - TransformerWithGFANModel Training Loss: 0.008732, Validation Loss: 0.042107\n"
          ]
        },
        {
          "output_type": "stream",
          "name": "stderr",
          "text": [
            "\rTraining TransformerWithGFANModel:  41%|████      | 82/200 [00:04<00:05, 20.15it/s]"
          ]
        },
        {
          "output_type": "stream",
          "name": "stdout",
          "text": [
            "Epoch 81/200 - TransformerWithGFANModel Training Loss: 0.008159, Validation Loss: 0.039997\n",
            "Epoch 82/200 - TransformerWithGFANModel Training Loss: 0.011071, Validation Loss: 0.038245\n",
            "Epoch 83/200 - TransformerWithGFANModel Training Loss: 0.008581, Validation Loss: 0.036324\n",
            "Epoch 84/200 - TransformerWithGFANModel Training Loss: 0.009090, Validation Loss: 0.024488\n"
          ]
        },
        {
          "output_type": "stream",
          "name": "stderr",
          "text": [
            "\rTraining TransformerWithGFANModel:  42%|████▎     | 85/200 [00:04<00:05, 19.79it/s]"
          ]
        },
        {
          "output_type": "stream",
          "name": "stdout",
          "text": [
            "Epoch 85/200 - TransformerWithGFANModel Training Loss: 0.011815, Validation Loss: 0.036933\n",
            "Epoch 86/200 - TransformerWithGFANModel Training Loss: 0.015577, Validation Loss: 0.062483\n"
          ]
        },
        {
          "output_type": "stream",
          "name": "stderr",
          "text": [
            "\rTraining TransformerWithGFANModel:  44%|████▍     | 88/200 [00:04<00:05, 20.04it/s]"
          ]
        },
        {
          "output_type": "stream",
          "name": "stdout",
          "text": [
            "Epoch 87/200 - TransformerWithGFANModel Training Loss: 0.020050, Validation Loss: 0.035184\n",
            "Epoch 88/200 - TransformerWithGFANModel Training Loss: 0.011295, Validation Loss: 0.044478\n",
            "Epoch 89/200 - TransformerWithGFANModel Training Loss: 0.010274, Validation Loss: 0.042268\n"
          ]
        },
        {
          "output_type": "stream",
          "name": "stderr",
          "text": [
            "\rTraining TransformerWithGFANModel:  46%|████▌     | 91/200 [00:04<00:05, 20.15it/s]"
          ]
        },
        {
          "output_type": "stream",
          "name": "stdout",
          "text": [
            "Epoch 90/200 - TransformerWithGFANModel Training Loss: 0.009644, Validation Loss: 0.028034\n",
            "Epoch 91/200 - TransformerWithGFANModel Training Loss: 0.009765, Validation Loss: 0.036900\n",
            "Epoch 92/200 - TransformerWithGFANModel Training Loss: 0.008934, Validation Loss: 0.035944\n",
            "Epoch 93/200 - TransformerWithGFANModel Training Loss: 0.007898, Validation Loss: 0.035166\n"
          ]
        },
        {
          "output_type": "stream",
          "name": "stderr",
          "text": [
            "\rTraining TransformerWithGFANModel:  47%|████▋     | 94/200 [00:04<00:05, 20.22it/s]"
          ]
        },
        {
          "output_type": "stream",
          "name": "stdout",
          "text": [
            "Epoch 94/200 - TransformerWithGFANModel Training Loss: 0.009495, Validation Loss: 0.038424\n",
            "Epoch 95/200 - TransformerWithGFANModel Training Loss: 0.008321, Validation Loss: 0.031346\n",
            "Epoch 96/200 - TransformerWithGFANModel Training Loss: 0.009089, Validation Loss: 0.026169\n"
          ]
        },
        {
          "output_type": "stream",
          "name": "stderr",
          "text": [
            "\rTraining TransformerWithGFANModel:  48%|████▊     | 97/200 [00:04<00:05, 20.17it/s]"
          ]
        },
        {
          "output_type": "stream",
          "name": "stdout",
          "text": [
            "Epoch 97/200 - TransformerWithGFANModel Training Loss: 0.010963, Validation Loss: 0.033186\n",
            "Epoch 98/200 - TransformerWithGFANModel Training Loss: 0.011220, Validation Loss: 0.046671\n"
          ]
        },
        {
          "output_type": "stream",
          "name": "stderr",
          "text": [
            "\rTraining TransformerWithGFANModel:  50%|█████     | 100/200 [00:05<00:04, 20.06it/s]"
          ]
        },
        {
          "output_type": "stream",
          "name": "stdout",
          "text": [
            "Epoch 99/200 - TransformerWithGFANModel Training Loss: 0.013059, Validation Loss: 0.026475\n",
            "Epoch 100/200 - TransformerWithGFANModel Training Loss: 0.012571, Validation Loss: 0.046119\n"
          ]
        },
        {
          "output_type": "stream",
          "name": "stderr",
          "text": [
            "\rTraining TransformerWithGFANModel:  52%|█████▏    | 103/200 [00:05<00:04, 20.07it/s]"
          ]
        },
        {
          "output_type": "stream",
          "name": "stdout",
          "text": [
            "Epoch 101/200 - TransformerWithGFANModel Training Loss: 0.010708, Validation Loss: 0.038402\n",
            "Epoch 102/200 - TransformerWithGFANModel Training Loss: 0.008421, Validation Loss: 0.039012\n",
            "Epoch 103/200 - TransformerWithGFANModel Training Loss: 0.008519, Validation Loss: 0.025988\n"
          ]
        },
        {
          "output_type": "stream",
          "name": "stderr",
          "text": [
            "\rTraining TransformerWithGFANModel:  52%|█████▏    | 103/200 [00:05<00:05, 19.39it/s]"
          ]
        },
        {
          "output_type": "stream",
          "name": "stdout",
          "text": [
            "Early stopping triggered for TransformerWithGFANModel at epoch 104\n"
          ]
        },
        {
          "output_type": "stream",
          "name": "stderr",
          "text": [
            "\n"
          ]
        },
        {
          "output_type": "stream",
          "name": "stdout",
          "text": [
            "\n",
            "--- Training LSTMModel ---\n"
          ]
        },
        {
          "output_type": "stream",
          "name": "stderr",
          "text": [
            "Training LSTMModel:   2%|▏         | 3/200 [00:00<00:06, 28.76it/s]"
          ]
        },
        {
          "output_type": "stream",
          "name": "stdout",
          "text": [
            "Epoch 1/200 - LSTMModel Training Loss: 0.124197, Validation Loss: 0.297549\n",
            "Epoch 2/200 - LSTMModel Training Loss: 0.065269, Validation Loss: 0.174952\n",
            "Epoch 3/200 - LSTMModel Training Loss: 0.057920, Validation Loss: 0.173048\n",
            "Epoch 4/200 - LSTMModel Training Loss: 0.050719, Validation Loss: 0.208363\n",
            "Epoch 5/200 - LSTMModel Training Loss: 0.051560, Validation Loss: 0.218097\n",
            "Epoch 6/200 - LSTMModel Training Loss: 0.051784, Validation Loss: 0.207576\n",
            "Epoch 7/200 - LSTMModel Training Loss: 0.051072, Validation Loss: 0.195381\n"
          ]
        },
        {
          "output_type": "stream",
          "name": "stderr",
          "text": [
            "\rTraining LSTMModel:   4%|▍         | 8/200 [00:00<00:04, 39.90it/s]"
          ]
        },
        {
          "output_type": "stream",
          "name": "stdout",
          "text": [
            "Epoch 8/200 - LSTMModel Training Loss: 0.050547, Validation Loss: 0.194489\n",
            "Epoch 9/200 - LSTMModel Training Loss: 0.049849, Validation Loss: 0.201273\n",
            "Epoch 10/200 - LSTMModel Training Loss: 0.049604, Validation Loss: 0.205436\n"
          ]
        },
        {
          "output_type": "stream",
          "name": "stderr",
          "text": [
            "\rTraining LSTMModel:   6%|▋         | 13/200 [00:00<00:04, 43.29it/s]"
          ]
        },
        {
          "output_type": "stream",
          "name": "stdout",
          "text": [
            "Epoch 11/200 - LSTMModel Training Loss: 0.049258, Validation Loss: 0.204147\n",
            "Epoch 12/200 - LSTMModel Training Loss: 0.049377, Validation Loss: 0.201625\n",
            "Epoch 13/200 - LSTMModel Training Loss: 0.048388, Validation Loss: 0.201846\n",
            "Epoch 14/200 - LSTMModel Training Loss: 0.047685, Validation Loss: 0.203233\n",
            "Epoch 15/200 - LSTMModel Training Loss: 0.047722, Validation Loss: 0.203023\n",
            "Epoch 16/200 - LSTMModel Training Loss: 0.046836, Validation Loss: 0.201787\n",
            "Epoch 17/200 - LSTMModel Training Loss: 0.045805, Validation Loss: 0.199585\n"
          ]
        },
        {
          "output_type": "stream",
          "name": "stderr",
          "text": [
            "\rTraining LSTMModel:   9%|▉         | 18/200 [00:00<00:04, 45.24it/s]"
          ]
        },
        {
          "output_type": "stream",
          "name": "stdout",
          "text": [
            "Epoch 18/200 - LSTMModel Training Loss: 0.044843, Validation Loss: 0.197075\n",
            "Epoch 19/200 - LSTMModel Training Loss: 0.043223, Validation Loss: 0.192248\n",
            "Epoch 20/200 - LSTMModel Training Loss: 0.040785, Validation Loss: 0.183680\n"
          ]
        },
        {
          "output_type": "stream",
          "name": "stderr",
          "text": [
            "\rTraining LSTMModel:  12%|█▏        | 23/200 [00:00<00:03, 45.33it/s]"
          ]
        },
        {
          "output_type": "stream",
          "name": "stdout",
          "text": [
            "Epoch 21/200 - LSTMModel Training Loss: 0.037366, Validation Loss: 0.168966\n",
            "Epoch 22/200 - LSTMModel Training Loss: 0.032531, Validation Loss: 0.140377\n",
            "Epoch 23/200 - LSTMModel Training Loss: 0.026480, Validation Loss: 0.106826\n",
            "Epoch 24/200 - LSTMModel Training Loss: 0.026018, Validation Loss: 0.115006\n",
            "Epoch 25/200 - LSTMModel Training Loss: 0.023002, Validation Loss: 0.103914\n",
            "Epoch 26/200 - LSTMModel Training Loss: 0.023441, Validation Loss: 0.101217\n",
            "Epoch 27/200 - LSTMModel Training Loss: 0.022100, Validation Loss: 0.097281\n"
          ]
        },
        {
          "output_type": "stream",
          "name": "stderr",
          "text": [
            "\rTraining LSTMModel:  14%|█▍        | 28/200 [00:00<00:03, 45.66it/s]"
          ]
        },
        {
          "output_type": "stream",
          "name": "stdout",
          "text": [
            "Epoch 28/200 - LSTMModel Training Loss: 0.021107, Validation Loss: 0.083549\n",
            "Epoch 29/200 - LSTMModel Training Loss: 0.020455, Validation Loss: 0.084733\n",
            "Epoch 30/200 - LSTMModel Training Loss: 0.019320, Validation Loss: 0.078804\n"
          ]
        },
        {
          "output_type": "stream",
          "name": "stderr",
          "text": [
            "\rTraining LSTMModel:  16%|█▋        | 33/200 [00:00<00:03, 45.88it/s]"
          ]
        },
        {
          "output_type": "stream",
          "name": "stdout",
          "text": [
            "Epoch 31/200 - LSTMModel Training Loss: 0.018516, Validation Loss: 0.075540\n",
            "Epoch 32/200 - LSTMModel Training Loss: 0.017895, Validation Loss: 0.075405\n",
            "Epoch 33/200 - LSTMModel Training Loss: 0.016967, Validation Loss: 0.070584\n",
            "Epoch 34/200 - LSTMModel Training Loss: 0.017715, Validation Loss: 0.062935\n",
            "Epoch 35/200 - LSTMModel Training Loss: 0.016036, Validation Loss: 0.060494\n",
            "Epoch 36/200 - LSTMModel Training Loss: 0.015470, Validation Loss: 0.055796\n",
            "Epoch 37/200 - LSTMModel Training Loss: 0.015073, Validation Loss: 0.052561\n"
          ]
        },
        {
          "output_type": "stream",
          "name": "stderr",
          "text": [
            "\rTraining LSTMModel:  19%|█▉        | 38/200 [00:00<00:03, 45.63it/s]"
          ]
        },
        {
          "output_type": "stream",
          "name": "stdout",
          "text": [
            "Epoch 38/200 - LSTMModel Training Loss: 0.013809, Validation Loss: 0.051801\n",
            "Epoch 39/200 - LSTMModel Training Loss: 0.014267, Validation Loss: 0.051140\n",
            "Epoch 40/200 - LSTMModel Training Loss: 0.013065, Validation Loss: 0.050197\n"
          ]
        },
        {
          "output_type": "stream",
          "name": "stderr",
          "text": [
            "\rTraining LSTMModel:  22%|██▏       | 43/200 [00:00<00:03, 45.78it/s]"
          ]
        },
        {
          "output_type": "stream",
          "name": "stdout",
          "text": [
            "Epoch 41/200 - LSTMModel Training Loss: 0.013253, Validation Loss: 0.051343\n",
            "Epoch 42/200 - LSTMModel Training Loss: 0.012778, Validation Loss: 0.052048\n",
            "Epoch 43/200 - LSTMModel Training Loss: 0.012983, Validation Loss: 0.045445\n",
            "Epoch 44/200 - LSTMModel Training Loss: 0.012418, Validation Loss: 0.048199\n",
            "Epoch 45/200 - LSTMModel Training Loss: 0.011331, Validation Loss: 0.046992\n",
            "Epoch 46/200 - LSTMModel Training Loss: 0.013025, Validation Loss: 0.048633\n",
            "Epoch 47/200 - LSTMModel Training Loss: 0.010740, Validation Loss: 0.046966\n"
          ]
        },
        {
          "output_type": "stream",
          "name": "stderr",
          "text": [
            "\rTraining LSTMModel:  24%|██▍       | 48/200 [00:01<00:03, 46.05it/s]"
          ]
        },
        {
          "output_type": "stream",
          "name": "stdout",
          "text": [
            "Epoch 48/200 - LSTMModel Training Loss: 0.012092, Validation Loss: 0.047664\n",
            "Epoch 49/200 - LSTMModel Training Loss: 0.010901, Validation Loss: 0.041391\n",
            "Epoch 50/200 - LSTMModel Training Loss: 0.010199, Validation Loss: 0.044334\n"
          ]
        },
        {
          "output_type": "stream",
          "name": "stderr",
          "text": [
            "\rTraining LSTMModel:  26%|██▋       | 53/200 [00:01<00:03, 45.75it/s]"
          ]
        },
        {
          "output_type": "stream",
          "name": "stdout",
          "text": [
            "Epoch 51/200 - LSTMModel Training Loss: 0.010307, Validation Loss: 0.039866\n",
            "Epoch 52/200 - LSTMModel Training Loss: 0.010921, Validation Loss: 0.039765\n",
            "Epoch 53/200 - LSTMModel Training Loss: 0.010539, Validation Loss: 0.041296\n",
            "Epoch 54/200 - LSTMModel Training Loss: 0.009627, Validation Loss: 0.038847\n",
            "Epoch 55/200 - LSTMModel Training Loss: 0.009711, Validation Loss: 0.040087\n",
            "Epoch 56/200 - LSTMModel Training Loss: 0.009277, Validation Loss: 0.038647\n"
          ]
        },
        {
          "output_type": "stream",
          "name": "stderr",
          "text": [
            "\rTraining LSTMModel:  29%|██▉       | 58/200 [00:01<00:03, 45.06it/s]"
          ]
        },
        {
          "output_type": "stream",
          "name": "stdout",
          "text": [
            "Epoch 57/200 - LSTMModel Training Loss: 0.009328, Validation Loss: 0.037060\n",
            "Epoch 58/200 - LSTMModel Training Loss: 0.009346, Validation Loss: 0.036730\n",
            "Epoch 59/200 - LSTMModel Training Loss: 0.007638, Validation Loss: 0.035500\n",
            "Epoch 60/200 - LSTMModel Training Loss: 0.008666, Validation Loss: 0.035983\n"
          ]
        },
        {
          "output_type": "stream",
          "name": "stderr",
          "text": [
            "\rTraining LSTMModel:  32%|███▏      | 63/200 [00:01<00:02, 45.71it/s]"
          ]
        },
        {
          "output_type": "stream",
          "name": "stdout",
          "text": [
            "Epoch 61/200 - LSTMModel Training Loss: 0.008469, Validation Loss: 0.036680\n",
            "Epoch 62/200 - LSTMModel Training Loss: 0.008558, Validation Loss: 0.034211\n",
            "Epoch 63/200 - LSTMModel Training Loss: 0.009041, Validation Loss: 0.035867\n",
            "Epoch 64/200 - LSTMModel Training Loss: 0.008645, Validation Loss: 0.035065\n",
            "Epoch 65/200 - LSTMModel Training Loss: 0.008946, Validation Loss: 0.035195\n",
            "Epoch 66/200 - LSTMModel Training Loss: 0.006979, Validation Loss: 0.036459\n"
          ]
        },
        {
          "output_type": "stream",
          "name": "stderr",
          "text": [
            "\rTraining LSTMModel:  34%|███▍      | 68/200 [00:01<00:02, 46.06it/s]"
          ]
        },
        {
          "output_type": "stream",
          "name": "stdout",
          "text": [
            "Epoch 67/200 - LSTMModel Training Loss: 0.007809, Validation Loss: 0.035155\n",
            "Epoch 68/200 - LSTMModel Training Loss: 0.008089, Validation Loss: 0.032163\n",
            "Epoch 69/200 - LSTMModel Training Loss: 0.007879, Validation Loss: 0.035925\n",
            "Epoch 70/200 - LSTMModel Training Loss: 0.007896, Validation Loss: 0.033453\n"
          ]
        },
        {
          "output_type": "stream",
          "name": "stderr",
          "text": [
            "\rTraining LSTMModel:  36%|███▋      | 73/200 [00:01<00:02, 46.57it/s]"
          ]
        },
        {
          "output_type": "stream",
          "name": "stdout",
          "text": [
            "Epoch 71/200 - LSTMModel Training Loss: 0.007606, Validation Loss: 0.031411\n",
            "Epoch 72/200 - LSTMModel Training Loss: 0.007582, Validation Loss: 0.033119\n",
            "Epoch 73/200 - LSTMModel Training Loss: 0.006845, Validation Loss: 0.033451\n",
            "Epoch 74/200 - LSTMModel Training Loss: 0.006709, Validation Loss: 0.031180\n",
            "Epoch 75/200 - LSTMModel Training Loss: 0.007761, Validation Loss: 0.034290\n",
            "Epoch 76/200 - LSTMModel Training Loss: 0.007451, Validation Loss: 0.034111\n"
          ]
        },
        {
          "output_type": "stream",
          "name": "stderr",
          "text": [
            "\rTraining LSTMModel:  39%|███▉      | 78/200 [00:01<00:02, 47.01it/s]"
          ]
        },
        {
          "output_type": "stream",
          "name": "stdout",
          "text": [
            "Epoch 77/200 - LSTMModel Training Loss: 0.007659, Validation Loss: 0.032888\n",
            "Epoch 78/200 - LSTMModel Training Loss: 0.007128, Validation Loss: 0.031020\n",
            "Epoch 79/200 - LSTMModel Training Loss: 0.007912, Validation Loss: 0.031256\n",
            "Epoch 80/200 - LSTMModel Training Loss: 0.006875, Validation Loss: 0.029987\n"
          ]
        },
        {
          "output_type": "stream",
          "name": "stderr",
          "text": [
            "\rTraining LSTMModel:  42%|████▏     | 83/200 [00:01<00:02, 47.05it/s]"
          ]
        },
        {
          "output_type": "stream",
          "name": "stdout",
          "text": [
            "Epoch 81/200 - LSTMModel Training Loss: 0.006874, Validation Loss: 0.030995\n",
            "Epoch 82/200 - LSTMModel Training Loss: 0.007256, Validation Loss: 0.036325\n",
            "Epoch 83/200 - LSTMModel Training Loss: 0.006833, Validation Loss: 0.034298\n",
            "Epoch 84/200 - LSTMModel Training Loss: 0.006581, Validation Loss: 0.032218\n",
            "Epoch 85/200 - LSTMModel Training Loss: 0.005899, Validation Loss: 0.034506\n",
            "Epoch 86/200 - LSTMModel Training Loss: 0.006342, Validation Loss: 0.032676\n"
          ]
        },
        {
          "output_type": "stream",
          "name": "stderr",
          "text": [
            "\rTraining LSTMModel:  44%|████▍     | 88/200 [00:01<00:02, 47.31it/s]"
          ]
        },
        {
          "output_type": "stream",
          "name": "stdout",
          "text": [
            "Epoch 87/200 - LSTMModel Training Loss: 0.006620, Validation Loss: 0.029679\n",
            "Epoch 88/200 - LSTMModel Training Loss: 0.006086, Validation Loss: 0.032753\n",
            "Epoch 89/200 - LSTMModel Training Loss: 0.006832, Validation Loss: 0.034241\n",
            "Epoch 90/200 - LSTMModel Training Loss: 0.006334, Validation Loss: 0.031666\n"
          ]
        },
        {
          "output_type": "stream",
          "name": "stderr",
          "text": [
            "\rTraining LSTMModel:  46%|████▋     | 93/200 [00:02<00:02, 47.36it/s]"
          ]
        },
        {
          "output_type": "stream",
          "name": "stdout",
          "text": [
            "Epoch 91/200 - LSTMModel Training Loss: 0.006657, Validation Loss: 0.033606\n",
            "Epoch 92/200 - LSTMModel Training Loss: 0.005577, Validation Loss: 0.032913\n",
            "Epoch 93/200 - LSTMModel Training Loss: 0.006643, Validation Loss: 0.031089\n",
            "Epoch 94/200 - LSTMModel Training Loss: 0.006057, Validation Loss: 0.034584\n",
            "Epoch 95/200 - LSTMModel Training Loss: 0.006649, Validation Loss: 0.035554\n",
            "Epoch 96/200 - LSTMModel Training Loss: 0.006166, Validation Loss: 0.034293\n"
          ]
        },
        {
          "output_type": "stream",
          "name": "stderr",
          "text": [
            "\rTraining LSTMModel:  49%|████▉     | 98/200 [00:02<00:02, 47.45it/s]"
          ]
        },
        {
          "output_type": "stream",
          "name": "stdout",
          "text": [
            "Epoch 97/200 - LSTMModel Training Loss: 0.005763, Validation Loss: 0.031268\n",
            "Epoch 98/200 - LSTMModel Training Loss: 0.006750, Validation Loss: 0.035405\n",
            "Epoch 99/200 - LSTMModel Training Loss: 0.005636, Validation Loss: 0.034813\n",
            "Epoch 100/200 - LSTMModel Training Loss: 0.006118, Validation Loss: 0.035963\n"
          ]
        },
        {
          "output_type": "stream",
          "name": "stderr",
          "text": [
            "\rTraining LSTMModel:  52%|█████▏    | 103/200 [00:02<00:02, 47.33it/s]"
          ]
        },
        {
          "output_type": "stream",
          "name": "stdout",
          "text": [
            "Epoch 101/200 - LSTMModel Training Loss: 0.005551, Validation Loss: 0.036187\n",
            "Epoch 102/200 - LSTMModel Training Loss: 0.006033, Validation Loss: 0.034867\n",
            "Epoch 103/200 - LSTMModel Training Loss: 0.005629, Validation Loss: 0.034636\n",
            "Epoch 104/200 - LSTMModel Training Loss: 0.005379, Validation Loss: 0.036944\n",
            "Epoch 105/200 - LSTMModel Training Loss: 0.005463, Validation Loss: 0.039331\n",
            "Epoch 106/200 - LSTMModel Training Loss: 0.005505, Validation Loss: 0.037992\n"
          ]
        },
        {
          "output_type": "stream",
          "name": "stderr",
          "text": [
            "\rTraining LSTMModel:  53%|█████▎    | 106/200 [00:02<00:02, 45.49it/s]\n"
          ]
        },
        {
          "output_type": "stream",
          "name": "stdout",
          "text": [
            "Early stopping triggered for LSTMModel at epoch 107\n",
            "\n",
            "--- Training GRUModel ---\n"
          ]
        },
        {
          "output_type": "stream",
          "name": "stderr",
          "text": [
            "\rTraining GRUModel:   0%|          | 0/200 [00:00<?, ?it/s]"
          ]
        },
        {
          "output_type": "stream",
          "name": "stdout",
          "text": [
            "Epoch 1/200 - GRUModel Training Loss: 0.071500, Validation Loss: 0.165652\n",
            "Epoch 2/200 - GRUModel Training Loss: 0.053279, Validation Loss: 0.190624\n",
            "Epoch 3/200 - GRUModel Training Loss: 0.049100, Validation Loss: 0.227825\n"
          ]
        },
        {
          "output_type": "stream",
          "name": "stderr",
          "text": [
            "\rTraining GRUModel:   2%|▎         | 5/200 [00:00<00:04, 47.84it/s]"
          ]
        },
        {
          "output_type": "stream",
          "name": "stdout",
          "text": [
            "Epoch 4/200 - GRUModel Training Loss: 0.050478, Validation Loss: 0.212481\n",
            "Epoch 5/200 - GRUModel Training Loss: 0.047845, Validation Loss: 0.192538\n",
            "Epoch 6/200 - GRUModel Training Loss: 0.046641, Validation Loss: 0.199658\n",
            "Epoch 7/200 - GRUModel Training Loss: 0.045586, Validation Loss: 0.207765\n",
            "Epoch 8/200 - GRUModel Training Loss: 0.043938, Validation Loss: 0.196719\n",
            "Epoch 9/200 - GRUModel Training Loss: 0.041897, Validation Loss: 0.186038\n"
          ]
        },
        {
          "output_type": "stream",
          "name": "stderr",
          "text": [
            "\rTraining GRUModel:   6%|▌         | 11/200 [00:00<00:03, 49.67it/s]"
          ]
        },
        {
          "output_type": "stream",
          "name": "stdout",
          "text": [
            "Epoch 10/200 - GRUModel Training Loss: 0.040092, Validation Loss: 0.182562\n",
            "Epoch 11/200 - GRUModel Training Loss: 0.037107, Validation Loss: 0.170784\n",
            "Epoch 12/200 - GRUModel Training Loss: 0.033178, Validation Loss: 0.151720\n",
            "Epoch 13/200 - GRUModel Training Loss: 0.029980, Validation Loss: 0.135694\n",
            "Epoch 14/200 - GRUModel Training Loss: 0.025431, Validation Loss: 0.117724\n"
          ]
        },
        {
          "output_type": "stream",
          "name": "stderr",
          "text": [
            "\rTraining GRUModel:   8%|▊         | 16/200 [00:00<00:03, 48.73it/s]"
          ]
        },
        {
          "output_type": "stream",
          "name": "stdout",
          "text": [
            "Epoch 15/200 - GRUModel Training Loss: 0.021212, Validation Loss: 0.093050\n",
            "Epoch 16/200 - GRUModel Training Loss: 0.018405, Validation Loss: 0.077218\n",
            "Epoch 17/200 - GRUModel Training Loss: 0.016665, Validation Loss: 0.066793\n",
            "Epoch 18/200 - GRUModel Training Loss: 0.014878, Validation Loss: 0.053459\n",
            "Epoch 19/200 - GRUModel Training Loss: 0.015503, Validation Loss: 0.053160\n"
          ]
        },
        {
          "output_type": "stream",
          "name": "stderr",
          "text": [
            "\rTraining GRUModel:  10%|█         | 21/200 [00:00<00:03, 48.79it/s]"
          ]
        },
        {
          "output_type": "stream",
          "name": "stdout",
          "text": [
            "Epoch 20/200 - GRUModel Training Loss: 0.013958, Validation Loss: 0.044649\n",
            "Epoch 21/200 - GRUModel Training Loss: 0.012769, Validation Loss: 0.044281\n",
            "Epoch 22/200 - GRUModel Training Loss: 0.012925, Validation Loss: 0.040805\n",
            "Epoch 23/200 - GRUModel Training Loss: 0.011839, Validation Loss: 0.038019\n",
            "Epoch 24/200 - GRUModel Training Loss: 0.011774, Validation Loss: 0.038928\n"
          ]
        },
        {
          "output_type": "stream",
          "name": "stderr",
          "text": [
            "\rTraining GRUModel:  13%|█▎        | 26/200 [00:00<00:03, 48.30it/s]"
          ]
        },
        {
          "output_type": "stream",
          "name": "stdout",
          "text": [
            "Epoch 25/200 - GRUModel Training Loss: 0.011338, Validation Loss: 0.034238\n",
            "Epoch 26/200 - GRUModel Training Loss: 0.010963, Validation Loss: 0.035211\n",
            "Epoch 27/200 - GRUModel Training Loss: 0.010799, Validation Loss: 0.032659\n",
            "Epoch 28/200 - GRUModel Training Loss: 0.010758, Validation Loss: 0.031369\n",
            "Epoch 29/200 - GRUModel Training Loss: 0.010449, Validation Loss: 0.029463\n"
          ]
        },
        {
          "output_type": "stream",
          "name": "stderr",
          "text": [
            "\rTraining GRUModel:  16%|█▌        | 31/200 [00:00<00:03, 48.35it/s]"
          ]
        },
        {
          "output_type": "stream",
          "name": "stdout",
          "text": [
            "Epoch 30/200 - GRUModel Training Loss: 0.009717, Validation Loss: 0.030875\n",
            "Epoch 31/200 - GRUModel Training Loss: 0.009400, Validation Loss: 0.026973\n",
            "Epoch 32/200 - GRUModel Training Loss: 0.009527, Validation Loss: 0.028676\n",
            "Epoch 33/200 - GRUModel Training Loss: 0.009851, Validation Loss: 0.026045\n",
            "Epoch 34/200 - GRUModel Training Loss: 0.009340, Validation Loss: 0.028053\n"
          ]
        },
        {
          "output_type": "stream",
          "name": "stderr",
          "text": [
            "\rTraining GRUModel:  18%|█▊        | 36/200 [00:00<00:03, 48.63it/s]"
          ]
        },
        {
          "output_type": "stream",
          "name": "stdout",
          "text": [
            "Epoch 35/200 - GRUModel Training Loss: 0.008924, Validation Loss: 0.024721\n",
            "Epoch 36/200 - GRUModel Training Loss: 0.008995, Validation Loss: 0.025840\n",
            "Epoch 37/200 - GRUModel Training Loss: 0.008367, Validation Loss: 0.025160\n",
            "Epoch 38/200 - GRUModel Training Loss: 0.008105, Validation Loss: 0.025460\n",
            "Epoch 39/200 - GRUModel Training Loss: 0.008158, Validation Loss: 0.024672\n",
            "Epoch 40/200 - GRUModel Training Loss: 0.007273, Validation Loss: 0.025373\n"
          ]
        },
        {
          "output_type": "stream",
          "name": "stderr",
          "text": [
            "\rTraining GRUModel:  21%|██        | 42/200 [00:00<00:03, 49.30it/s]"
          ]
        },
        {
          "output_type": "stream",
          "name": "stdout",
          "text": [
            "Epoch 41/200 - GRUModel Training Loss: 0.007413, Validation Loss: 0.024093\n",
            "Epoch 42/200 - GRUModel Training Loss: 0.007799, Validation Loss: 0.025726\n",
            "Epoch 43/200 - GRUModel Training Loss: 0.007418, Validation Loss: 0.026301\n",
            "Epoch 44/200 - GRUModel Training Loss: 0.007529, Validation Loss: 0.026962\n"
          ]
        },
        {
          "output_type": "stream",
          "name": "stderr",
          "text": [
            "\rTraining GRUModel:  24%|██▎       | 47/200 [00:00<00:03, 47.70it/s]"
          ]
        },
        {
          "output_type": "stream",
          "name": "stdout",
          "text": [
            "Epoch 45/200 - GRUModel Training Loss: 0.007363, Validation Loss: 0.024399\n",
            "Epoch 46/200 - GRUModel Training Loss: 0.007001, Validation Loss: 0.024771\n",
            "Epoch 47/200 - GRUModel Training Loss: 0.007592, Validation Loss: 0.025225\n",
            "Epoch 48/200 - GRUModel Training Loss: 0.007081, Validation Loss: 0.026440\n",
            "Epoch 49/200 - GRUModel Training Loss: 0.007474, Validation Loss: 0.025770\n",
            "Epoch 50/200 - GRUModel Training Loss: 0.007272, Validation Loss: 0.025732\n",
            "Epoch 51/200 - GRUModel Training Loss: 0.007270, Validation Loss: 0.026332\n"
          ]
        },
        {
          "output_type": "stream",
          "name": "stderr",
          "text": [
            "\rTraining GRUModel:  26%|██▌       | 52/200 [00:01<00:03, 46.50it/s]"
          ]
        },
        {
          "output_type": "stream",
          "name": "stdout",
          "text": [
            "Epoch 52/200 - GRUModel Training Loss: 0.007031, Validation Loss: 0.027623\n",
            "Epoch 53/200 - GRUModel Training Loss: 0.006904, Validation Loss: 0.024752\n"
          ]
        },
        {
          "output_type": "stream",
          "name": "stderr",
          "text": [
            "\rTraining GRUModel:  28%|██▊       | 57/200 [00:01<00:03, 46.38it/s]"
          ]
        },
        {
          "output_type": "stream",
          "name": "stdout",
          "text": [
            "Epoch 54/200 - GRUModel Training Loss: 0.007340, Validation Loss: 0.025234\n",
            "Epoch 55/200 - GRUModel Training Loss: 0.006888, Validation Loss: 0.027048\n",
            "Epoch 56/200 - GRUModel Training Loss: 0.006664, Validation Loss: 0.027409\n",
            "Epoch 57/200 - GRUModel Training Loss: 0.007052, Validation Loss: 0.027275\n",
            "Epoch 58/200 - GRUModel Training Loss: 0.006460, Validation Loss: 0.026520\n",
            "Epoch 59/200 - GRUModel Training Loss: 0.007474, Validation Loss: 0.027797\n",
            "Epoch 60/200 - GRUModel Training Loss: 0.006894, Validation Loss: 0.027265\n"
          ]
        },
        {
          "output_type": "stream",
          "name": "stderr",
          "text": [
            "\rTraining GRUModel:  30%|███       | 60/200 [00:01<00:02, 47.16it/s]"
          ]
        },
        {
          "output_type": "stream",
          "name": "stdout",
          "text": [
            "Early stopping triggered for GRUModel at epoch 61\n"
          ]
        },
        {
          "output_type": "stream",
          "name": "stderr",
          "text": [
            "\n"
          ]
        }
      ]
    },
    {
      "cell_type": "markdown",
      "source": [
        "# Model Evaluation"
      ],
      "metadata": {
        "id": "l8_S-HK78fbf"
      }
    },
    {
      "cell_type": "code",
      "source": [
        "def evaluate_model_performance(model, test_loader, scaler, device):\n",
        "    \"\"\"\n",
        "    Evaluates the model on the test set and computes performance metrics.\n",
        "\n",
        "    Args:\n",
        "        model (nn.Module): Trained model.\n",
        "        test_loader (DataLoader): DataLoader for test data.\n",
        "        scaler (MinMaxScaler): Scaler used for data normalization.\n",
        "        device (torch.device): Device to run the evaluation on.\n",
        "\n",
        "    Returns:\n",
        "        rmse (float): Root Mean Squared Error.\n",
        "        mae (float): Mean Absolute Error.\n",
        "        mape (float): Mean Absolute Percentage Error.\n",
        "        actuals (np.ndarray): Actual target values.\n",
        "        predictions (np.ndarray): Predicted target values.\n",
        "    \"\"\"\n",
        "    model.eval()\n",
        "    predictions = []\n",
        "    actuals = []\n",
        "\n",
        "    with torch.no_grad():\n",
        "        for X_batch, y_batch in test_loader:\n",
        "            X_batch = X_batch.to(device)\n",
        "            outputs = model(X_batch)\n",
        "            predictions.extend(outputs.squeeze().cpu().numpy())\n",
        "            actuals.extend(y_batch.cpu().numpy())\n",
        "\n",
        "    # Inverse transform to original scale\n",
        "    predictions = scaler.inverse_transform(np.array(predictions).reshape(-1, 1)).flatten()\n",
        "    actuals = scaler.inverse_transform(np.array(actuals).reshape(-1,1)).flatten()\n",
        "\n",
        "    # Calculate metrics\n",
        "    rmse = np.sqrt(mean_squared_error(actuals, predictions))\n",
        "    mae = mean_absolute_error(actuals, predictions)\n",
        "    mape = np.mean(np.abs((actuals - predictions) / actuals)) * 100\n",
        "\n",
        "    return rmse, mae, mape, actuals, predictions"
      ],
      "metadata": {
        "id": "eqi8SgQ88ihA"
      },
      "execution_count": 37,
      "outputs": []
    },
    {
      "cell_type": "code",
      "source": [
        "def compile_metrics(performance):\n",
        "    \"\"\"\n",
        "    Compiles performance metrics into a pandas DataFrame.\n",
        "\n",
        "    Args:\n",
        "        performance (dict): Dictionary containing performance metrics for each model.\n",
        "\n",
        "    Returns:\n",
        "        pd.DataFrame: DataFrame with metrics for each model.\n",
        "    \"\"\"\n",
        "    records = []\n",
        "    for name, metric in performance.items():\n",
        "        records.append({\n",
        "            'Model': name,\n",
        "            'RMSE': metric['RMSE'],\n",
        "            'MAE': metric['MAE'],\n",
        "            'MAPE': metric['MAPE']\n",
        "        })\n",
        "    metrics_df = pd.DataFrame(records)\n",
        "    return metrics_df"
      ],
      "metadata": {
        "id": "PDx8oGcQ8i1z"
      },
      "execution_count": 38,
      "outputs": []
    },
    {
      "cell_type": "code",
      "source": [
        "def plot_performance_metrics(metrics_df):\n",
        "    \"\"\"\n",
        "    Plots a grouped bar chart of performance metrics with values on top of the bars.\n",
        "\n",
        "    Args:\n",
        "        metrics_df (pd.DataFrame): DataFrame containing RMSE, MAE, and MAPE for each model.\n",
        "    \"\"\"\n",
        "    sns.set(style=\"whitegrid\")\n",
        "\n",
        "    # Melt the dataframe for seaborn\n",
        "    metrics_melted = metrics_df.melt(id_vars='Model', value_vars=['RMSE', 'MAE', 'MAPE'], var_name='Metric', value_name='Value')\n",
        "\n",
        "    plt.figure(figsize=(14, 7))\n",
        "    ax = sns.barplot(x='Model', y='Value', hue='Metric', data=metrics_melted)\n",
        "\n",
        "    plt.title('Performance Metrics Comparison')\n",
        "    plt.ylabel('Metric Value')\n",
        "    plt.xlabel('Model')\n",
        "    plt.legend(title='Metric')\n",
        "    plt.xticks(rotation=45)\n",
        "\n",
        "    # Add value labels on top of each bar\n",
        "    for p in ax.patches:\n",
        "        if p.get_height() > 0:\n",
        "            height = p.get_height()\n",
        "            ax.annotate(f'{height:.2f}',\n",
        "                        (p.get_x() + p.get_width() / 2., height),\n",
        "                        ha='center', va='bottom',\n",
        "                        fontsize=9, color='black', xytext=(0, 5),\n",
        "                        textcoords='offset points')\n",
        "\n",
        "    plt.show()"
      ],
      "metadata": {
        "id": "0tvl7LzX8mPD"
      },
      "execution_count": 39,
      "outputs": []
    },
    {
      "cell_type": "code",
      "source": [
        "def plot_predictions(performance, colors=None):\n",
        "    \"\"\"\n",
        "    Plots individual subplots for each model's predictions versus actual values.\n",
        "\n",
        "    Args:\n",
        "        performance (dict): Dictionary containing 'Actual' and 'Predicted' values for each model.\n",
        "            Example structure:\n",
        "                {\n",
        "                    'ModelA': {\n",
        "                        'Actual': np.array([...]),\n",
        "                        'Predicted': np.array([...])\n",
        "                    },\n",
        "                    'ModelB': {\n",
        "                        'Actual': np.array([...]),\n",
        "                        'Predicted': np.array([...])\n",
        "                    },\n",
        "                    ...\n",
        "                }\n",
        "        colors (list, optional): List of colors for each model's predictions. Defaults to a predefined list.\n",
        "\n",
        "    Returns:\n",
        "        None: Displays the plot.\n",
        "    \"\"\"\n",
        "    if colors is None:\n",
        "        # Define a default color palette\n",
        "        colors = ['blue', 'green', 'red', 'purple', 'orange', 'brown', 'cyan', 'magenta']\n",
        "\n",
        "    n_models = len(performance)\n",
        "\n",
        "    # Determine the number of rows and columns for subplots\n",
        "    # Aim for a nearly square grid\n",
        "    cols = math.ceil(math.sqrt(n_models))\n",
        "    rows = math.ceil(n_models / cols)\n",
        "\n",
        "    # Initialize the matplotlib figure\n",
        "    fig, axes = plt.subplots(rows, cols, figsize=(cols*5, rows*4), sharex=True, sharey=True)\n",
        "    axes = axes.flatten()  # Flatten in case of a single row or column\n",
        "\n",
        "    for i, (name, metric) in enumerate(performance.items()):\n",
        "        ax = axes[i]\n",
        "        sns.set_style(\"whitegrid\")\n",
        "\n",
        "        # Plot Actual values\n",
        "        ax.plot(metric['Actual'], label='Actual', color='black', linestyle='dashed')\n",
        "\n",
        "        # Plot Predicted values\n",
        "        ax.plot(metric['Predicted'], label=name, color=colors[i % len(colors)])\n",
        "\n",
        "        # Set title and labels\n",
        "        ax.set_title(name)\n",
        "        ax.set_xlabel('Time Steps')\n",
        "        ax.set_ylabel('Number of Sunspots')\n",
        "\n",
        "        # Add legend\n",
        "        ax.legend()\n",
        "\n",
        "        # Add grid\n",
        "        ax.grid(True)\n",
        "\n",
        "    # Remove any unused subplots\n",
        "    for j in range(i + 1, len(axes)):\n",
        "        fig.delaxes(axes[j])\n",
        "\n",
        "    plt.tight_layout()\n",
        "    plt.show()"
      ],
      "metadata": {
        "id": "WanxBFOZ8njK"
      },
      "execution_count": 40,
      "outputs": []
    },
    {
      "cell_type": "code",
      "source": [
        "print(\"--- Evaluating All Models ---\")\n",
        "performance = {}\n",
        "\n",
        "for name, config in model_configs.items():\n",
        "    print(f\"\\n--- Evaluating {name} ---\")\n",
        "    model = config['model']\n",
        "    # Load the best model\n",
        "    load_model(model, early_stopping_configs[name].path, device)\n",
        "    # Evaluate\n",
        "    rmse, mae, mape, actuals, predictions = evaluate_model_performance(\n",
        "        model=model,\n",
        "        test_loader=test_loader,\n",
        "        scaler=scaler,\n",
        "        device=device\n",
        "    )\n",
        "    print(f\"{name} Performance:\")\n",
        "    print(f\"RMSE: {rmse:.4f}\")\n",
        "    print(f\"MAE: {mae:.4f}\")\n",
        "    print(f\"MAPE: {mape:.4f}%\")\n",
        "    # Store performance\n",
        "    performance[name] = {\n",
        "        'RMSE': rmse,\n",
        "        'MAE': mae,\n",
        "        'MAPE': mape,\n",
        "        'Actual': actuals,\n",
        "        'Predicted': predictions\n",
        "    }"
      ],
      "metadata": {
        "colab": {
          "base_uri": "https://localhost:8080/"
        },
        "id": "tmMR_kVr8vOR",
        "outputId": "3482b9f6-f32e-4ba3-c9fa-ad1d4a39b753"
      },
      "execution_count": 41,
      "outputs": [
        {
          "output_type": "stream",
          "name": "stdout",
          "text": [
            "--- Evaluating All Models ---\n",
            "\n",
            "--- Evaluating MLPModel ---\n",
            "Model loaded from best_model_MLPModel.pt\n",
            "MLPModel Performance:\n",
            "RMSE: 17.8970\n",
            "MAE: 14.1122\n",
            "MAPE: 62.7502%\n",
            "\n",
            "--- Evaluating FANModel ---\n",
            "Model loaded from best_model_FANModel.pt\n",
            "FANModel Performance:\n",
            "RMSE: 22.4757\n",
            "MAE: 18.5157\n",
            "MAPE: 59.8396%\n",
            "\n",
            "--- Evaluating GFANModel ---\n",
            "Model loaded from best_model_GFANModel.pt\n",
            "GFANModel Performance:\n",
            "RMSE: 17.2692\n",
            "MAE: 13.5683\n",
            "MAPE: 40.2074%\n",
            "\n",
            "--- Evaluating TransformerModel ---\n",
            "Model loaded from best_model_TransformerModel.pt\n",
            "TransformerModel Performance:\n",
            "RMSE: 16.1302\n",
            "MAE: 11.4429\n",
            "MAPE: 45.5647%\n",
            "\n",
            "--- Evaluating TransformerWithFANModel ---\n",
            "Model loaded from best_model_TransformerWithFANModel.pt\n",
            "TransformerWithFANModel Performance:\n",
            "RMSE: 16.9258\n",
            "MAE: 11.8968\n",
            "MAPE: 52.1122%\n",
            "\n",
            "--- Evaluating TransformerWithGFANModel ---\n",
            "Model loaded from best_model_TransformerWithGFANModel.pt\n",
            "TransformerWithGFANModel Performance:\n",
            "RMSE: 16.4851\n",
            "MAE: 11.6979\n",
            "MAPE: 49.5841%\n",
            "\n",
            "--- Evaluating LSTMModel ---\n",
            "Model loaded from best_model_LSTMModel.pt\n",
            "LSTMModel Performance:\n",
            "RMSE: 19.4266\n",
            "MAE: 14.6740\n",
            "MAPE: 44.3910%\n",
            "\n",
            "--- Evaluating GRUModel ---\n",
            "Model loaded from best_model_GRUModel.pt\n",
            "GRUModel Performance:\n",
            "RMSE: 17.9825\n",
            "MAE: 13.9602\n",
            "MAPE: 43.6184%\n"
          ]
        }
      ]
    },
    {
      "cell_type": "code",
      "source": [
        "# Compile performance metrics into a DataFrame\n",
        "metrics_df = compile_metrics(performance)\n",
        "\n",
        "# Rename models\n",
        "metrics_df['Model'] = metrics_df['Model'].replace({\n",
        "    'MLPModel': 'MLP',\n",
        "    'FANModel': 'FAN',\n",
        "    'GFANModel': 'GFAN',\n",
        "    'TransformerModel': 'TF',\n",
        "    'TransformerWithFANModel': 'TF-FAN',\n",
        "    'TransformerWithGFANModel': 'TF-GFAN',\n",
        "    'LSTMModel': 'LSTM',\n",
        "    'GRUModel': 'GRU'\n",
        "})\n",
        "\n",
        "# Display performance metrics\n",
        "print(\"Performance Metrics:\")\n",
        "display(metrics_df)"
      ],
      "metadata": {
        "colab": {
          "base_uri": "https://localhost:8080/",
          "height": 318
        },
        "id": "vZPwXYJkAGw0",
        "outputId": "7a858ce6-bc67-432d-a68f-a9976e16daa2"
      },
      "execution_count": 42,
      "outputs": [
        {
          "output_type": "stream",
          "name": "stdout",
          "text": [
            "Performance Metrics:\n"
          ]
        },
        {
          "output_type": "display_data",
          "data": {
            "text/plain": [
              "     Model       RMSE        MAE       MAPE\n",
              "0      MLP  17.897033  14.112183  62.750196\n",
              "1      FAN  22.475682  18.515722  59.839571\n",
              "2     GFAN  17.269169  13.568264  40.207386\n",
              "3       TF  16.130177  11.442931  45.564702\n",
              "4   TF-FAN  16.925829  11.896784  52.112204\n",
              "5  TF-GFAN  16.485053  11.697910  49.584106\n",
              "6     LSTM  19.426628  14.673964  44.391009\n",
              "7      GRU  17.982505  13.960211  43.618444"
            ],
            "text/html": [
              "\n",
              "  <div id=\"df-dfdbe531-504d-4887-8b2f-81a28932ac41\" class=\"colab-df-container\">\n",
              "    <div>\n",
              "<style scoped>\n",
              "    .dataframe tbody tr th:only-of-type {\n",
              "        vertical-align: middle;\n",
              "    }\n",
              "\n",
              "    .dataframe tbody tr th {\n",
              "        vertical-align: top;\n",
              "    }\n",
              "\n",
              "    .dataframe thead th {\n",
              "        text-align: right;\n",
              "    }\n",
              "</style>\n",
              "<table border=\"1\" class=\"dataframe\">\n",
              "  <thead>\n",
              "    <tr style=\"text-align: right;\">\n",
              "      <th></th>\n",
              "      <th>Model</th>\n",
              "      <th>RMSE</th>\n",
              "      <th>MAE</th>\n",
              "      <th>MAPE</th>\n",
              "    </tr>\n",
              "  </thead>\n",
              "  <tbody>\n",
              "    <tr>\n",
              "      <th>0</th>\n",
              "      <td>MLP</td>\n",
              "      <td>17.897033</td>\n",
              "      <td>14.112183</td>\n",
              "      <td>62.750196</td>\n",
              "    </tr>\n",
              "    <tr>\n",
              "      <th>1</th>\n",
              "      <td>FAN</td>\n",
              "      <td>22.475682</td>\n",
              "      <td>18.515722</td>\n",
              "      <td>59.839571</td>\n",
              "    </tr>\n",
              "    <tr>\n",
              "      <th>2</th>\n",
              "      <td>GFAN</td>\n",
              "      <td>17.269169</td>\n",
              "      <td>13.568264</td>\n",
              "      <td>40.207386</td>\n",
              "    </tr>\n",
              "    <tr>\n",
              "      <th>3</th>\n",
              "      <td>TF</td>\n",
              "      <td>16.130177</td>\n",
              "      <td>11.442931</td>\n",
              "      <td>45.564702</td>\n",
              "    </tr>\n",
              "    <tr>\n",
              "      <th>4</th>\n",
              "      <td>TF-FAN</td>\n",
              "      <td>16.925829</td>\n",
              "      <td>11.896784</td>\n",
              "      <td>52.112204</td>\n",
              "    </tr>\n",
              "    <tr>\n",
              "      <th>5</th>\n",
              "      <td>TF-GFAN</td>\n",
              "      <td>16.485053</td>\n",
              "      <td>11.697910</td>\n",
              "      <td>49.584106</td>\n",
              "    </tr>\n",
              "    <tr>\n",
              "      <th>6</th>\n",
              "      <td>LSTM</td>\n",
              "      <td>19.426628</td>\n",
              "      <td>14.673964</td>\n",
              "      <td>44.391009</td>\n",
              "    </tr>\n",
              "    <tr>\n",
              "      <th>7</th>\n",
              "      <td>GRU</td>\n",
              "      <td>17.982505</td>\n",
              "      <td>13.960211</td>\n",
              "      <td>43.618444</td>\n",
              "    </tr>\n",
              "  </tbody>\n",
              "</table>\n",
              "</div>\n",
              "    <div class=\"colab-df-buttons\">\n",
              "\n",
              "  <div class=\"colab-df-container\">\n",
              "    <button class=\"colab-df-convert\" onclick=\"convertToInteractive('df-dfdbe531-504d-4887-8b2f-81a28932ac41')\"\n",
              "            title=\"Convert this dataframe to an interactive table.\"\n",
              "            style=\"display:none;\">\n",
              "\n",
              "  <svg xmlns=\"http://www.w3.org/2000/svg\" height=\"24px\" viewBox=\"0 -960 960 960\">\n",
              "    <path d=\"M120-120v-720h720v720H120Zm60-500h600v-160H180v160Zm220 220h160v-160H400v160Zm0 220h160v-160H400v160ZM180-400h160v-160H180v160Zm440 0h160v-160H620v160ZM180-180h160v-160H180v160Zm440 0h160v-160H620v160Z\"/>\n",
              "  </svg>\n",
              "    </button>\n",
              "\n",
              "  <style>\n",
              "    .colab-df-container {\n",
              "      display:flex;\n",
              "      gap: 12px;\n",
              "    }\n",
              "\n",
              "    .colab-df-convert {\n",
              "      background-color: #E8F0FE;\n",
              "      border: none;\n",
              "      border-radius: 50%;\n",
              "      cursor: pointer;\n",
              "      display: none;\n",
              "      fill: #1967D2;\n",
              "      height: 32px;\n",
              "      padding: 0 0 0 0;\n",
              "      width: 32px;\n",
              "    }\n",
              "\n",
              "    .colab-df-convert:hover {\n",
              "      background-color: #E2EBFA;\n",
              "      box-shadow: 0px 1px 2px rgba(60, 64, 67, 0.3), 0px 1px 3px 1px rgba(60, 64, 67, 0.15);\n",
              "      fill: #174EA6;\n",
              "    }\n",
              "\n",
              "    .colab-df-buttons div {\n",
              "      margin-bottom: 4px;\n",
              "    }\n",
              "\n",
              "    [theme=dark] .colab-df-convert {\n",
              "      background-color: #3B4455;\n",
              "      fill: #D2E3FC;\n",
              "    }\n",
              "\n",
              "    [theme=dark] .colab-df-convert:hover {\n",
              "      background-color: #434B5C;\n",
              "      box-shadow: 0px 1px 3px 1px rgba(0, 0, 0, 0.15);\n",
              "      filter: drop-shadow(0px 1px 2px rgba(0, 0, 0, 0.3));\n",
              "      fill: #FFFFFF;\n",
              "    }\n",
              "  </style>\n",
              "\n",
              "    <script>\n",
              "      const buttonEl =\n",
              "        document.querySelector('#df-dfdbe531-504d-4887-8b2f-81a28932ac41 button.colab-df-convert');\n",
              "      buttonEl.style.display =\n",
              "        google.colab.kernel.accessAllowed ? 'block' : 'none';\n",
              "\n",
              "      async function convertToInteractive(key) {\n",
              "        const element = document.querySelector('#df-dfdbe531-504d-4887-8b2f-81a28932ac41');\n",
              "        const dataTable =\n",
              "          await google.colab.kernel.invokeFunction('convertToInteractive',\n",
              "                                                    [key], {});\n",
              "        if (!dataTable) return;\n",
              "\n",
              "        const docLinkHtml = 'Like what you see? Visit the ' +\n",
              "          '<a target=\"_blank\" href=https://colab.research.google.com/notebooks/data_table.ipynb>data table notebook</a>'\n",
              "          + ' to learn more about interactive tables.';\n",
              "        element.innerHTML = '';\n",
              "        dataTable['output_type'] = 'display_data';\n",
              "        await google.colab.output.renderOutput(dataTable, element);\n",
              "        const docLink = document.createElement('div');\n",
              "        docLink.innerHTML = docLinkHtml;\n",
              "        element.appendChild(docLink);\n",
              "      }\n",
              "    </script>\n",
              "  </div>\n",
              "\n",
              "\n",
              "<div id=\"df-06c64190-2a42-4053-9c08-a49d9f6e9e86\">\n",
              "  <button class=\"colab-df-quickchart\" onclick=\"quickchart('df-06c64190-2a42-4053-9c08-a49d9f6e9e86')\"\n",
              "            title=\"Suggest charts\"\n",
              "            style=\"display:none;\">\n",
              "\n",
              "<svg xmlns=\"http://www.w3.org/2000/svg\" height=\"24px\"viewBox=\"0 0 24 24\"\n",
              "     width=\"24px\">\n",
              "    <g>\n",
              "        <path d=\"M19 3H5c-1.1 0-2 .9-2 2v14c0 1.1.9 2 2 2h14c1.1 0 2-.9 2-2V5c0-1.1-.9-2-2-2zM9 17H7v-7h2v7zm4 0h-2V7h2v10zm4 0h-2v-4h2v4z\"/>\n",
              "    </g>\n",
              "</svg>\n",
              "  </button>\n",
              "\n",
              "<style>\n",
              "  .colab-df-quickchart {\n",
              "      --bg-color: #E8F0FE;\n",
              "      --fill-color: #1967D2;\n",
              "      --hover-bg-color: #E2EBFA;\n",
              "      --hover-fill-color: #174EA6;\n",
              "      --disabled-fill-color: #AAA;\n",
              "      --disabled-bg-color: #DDD;\n",
              "  }\n",
              "\n",
              "  [theme=dark] .colab-df-quickchart {\n",
              "      --bg-color: #3B4455;\n",
              "      --fill-color: #D2E3FC;\n",
              "      --hover-bg-color: #434B5C;\n",
              "      --hover-fill-color: #FFFFFF;\n",
              "      --disabled-bg-color: #3B4455;\n",
              "      --disabled-fill-color: #666;\n",
              "  }\n",
              "\n",
              "  .colab-df-quickchart {\n",
              "    background-color: var(--bg-color);\n",
              "    border: none;\n",
              "    border-radius: 50%;\n",
              "    cursor: pointer;\n",
              "    display: none;\n",
              "    fill: var(--fill-color);\n",
              "    height: 32px;\n",
              "    padding: 0;\n",
              "    width: 32px;\n",
              "  }\n",
              "\n",
              "  .colab-df-quickchart:hover {\n",
              "    background-color: var(--hover-bg-color);\n",
              "    box-shadow: 0 1px 2px rgba(60, 64, 67, 0.3), 0 1px 3px 1px rgba(60, 64, 67, 0.15);\n",
              "    fill: var(--button-hover-fill-color);\n",
              "  }\n",
              "\n",
              "  .colab-df-quickchart-complete:disabled,\n",
              "  .colab-df-quickchart-complete:disabled:hover {\n",
              "    background-color: var(--disabled-bg-color);\n",
              "    fill: var(--disabled-fill-color);\n",
              "    box-shadow: none;\n",
              "  }\n",
              "\n",
              "  .colab-df-spinner {\n",
              "    border: 2px solid var(--fill-color);\n",
              "    border-color: transparent;\n",
              "    border-bottom-color: var(--fill-color);\n",
              "    animation:\n",
              "      spin 1s steps(1) infinite;\n",
              "  }\n",
              "\n",
              "  @keyframes spin {\n",
              "    0% {\n",
              "      border-color: transparent;\n",
              "      border-bottom-color: var(--fill-color);\n",
              "      border-left-color: var(--fill-color);\n",
              "    }\n",
              "    20% {\n",
              "      border-color: transparent;\n",
              "      border-left-color: var(--fill-color);\n",
              "      border-top-color: var(--fill-color);\n",
              "    }\n",
              "    30% {\n",
              "      border-color: transparent;\n",
              "      border-left-color: var(--fill-color);\n",
              "      border-top-color: var(--fill-color);\n",
              "      border-right-color: var(--fill-color);\n",
              "    }\n",
              "    40% {\n",
              "      border-color: transparent;\n",
              "      border-right-color: var(--fill-color);\n",
              "      border-top-color: var(--fill-color);\n",
              "    }\n",
              "    60% {\n",
              "      border-color: transparent;\n",
              "      border-right-color: var(--fill-color);\n",
              "    }\n",
              "    80% {\n",
              "      border-color: transparent;\n",
              "      border-right-color: var(--fill-color);\n",
              "      border-bottom-color: var(--fill-color);\n",
              "    }\n",
              "    90% {\n",
              "      border-color: transparent;\n",
              "      border-bottom-color: var(--fill-color);\n",
              "    }\n",
              "  }\n",
              "</style>\n",
              "\n",
              "  <script>\n",
              "    async function quickchart(key) {\n",
              "      const quickchartButtonEl =\n",
              "        document.querySelector('#' + key + ' button');\n",
              "      quickchartButtonEl.disabled = true;  // To prevent multiple clicks.\n",
              "      quickchartButtonEl.classList.add('colab-df-spinner');\n",
              "      try {\n",
              "        const charts = await google.colab.kernel.invokeFunction(\n",
              "            'suggestCharts', [key], {});\n",
              "      } catch (error) {\n",
              "        console.error('Error during call to suggestCharts:', error);\n",
              "      }\n",
              "      quickchartButtonEl.classList.remove('colab-df-spinner');\n",
              "      quickchartButtonEl.classList.add('colab-df-quickchart-complete');\n",
              "    }\n",
              "    (() => {\n",
              "      let quickchartButtonEl =\n",
              "        document.querySelector('#df-06c64190-2a42-4053-9c08-a49d9f6e9e86 button');\n",
              "      quickchartButtonEl.style.display =\n",
              "        google.colab.kernel.accessAllowed ? 'block' : 'none';\n",
              "    })();\n",
              "  </script>\n",
              "</div>\n",
              "\n",
              "  <div id=\"id_40636a4c-9909-4d3e-ac7f-3fe47e0f2ef5\">\n",
              "    <style>\n",
              "      .colab-df-generate {\n",
              "        background-color: #E8F0FE;\n",
              "        border: none;\n",
              "        border-radius: 50%;\n",
              "        cursor: pointer;\n",
              "        display: none;\n",
              "        fill: #1967D2;\n",
              "        height: 32px;\n",
              "        padding: 0 0 0 0;\n",
              "        width: 32px;\n",
              "      }\n",
              "\n",
              "      .colab-df-generate:hover {\n",
              "        background-color: #E2EBFA;\n",
              "        box-shadow: 0px 1px 2px rgba(60, 64, 67, 0.3), 0px 1px 3px 1px rgba(60, 64, 67, 0.15);\n",
              "        fill: #174EA6;\n",
              "      }\n",
              "\n",
              "      [theme=dark] .colab-df-generate {\n",
              "        background-color: #3B4455;\n",
              "        fill: #D2E3FC;\n",
              "      }\n",
              "\n",
              "      [theme=dark] .colab-df-generate:hover {\n",
              "        background-color: #434B5C;\n",
              "        box-shadow: 0px 1px 3px 1px rgba(0, 0, 0, 0.15);\n",
              "        filter: drop-shadow(0px 1px 2px rgba(0, 0, 0, 0.3));\n",
              "        fill: #FFFFFF;\n",
              "      }\n",
              "    </style>\n",
              "    <button class=\"colab-df-generate\" onclick=\"generateWithVariable('metrics_df')\"\n",
              "            title=\"Generate code using this dataframe.\"\n",
              "            style=\"display:none;\">\n",
              "\n",
              "  <svg xmlns=\"http://www.w3.org/2000/svg\" height=\"24px\"viewBox=\"0 0 24 24\"\n",
              "       width=\"24px\">\n",
              "    <path d=\"M7,19H8.4L18.45,9,17,7.55,7,17.6ZM5,21V16.75L18.45,3.32a2,2,0,0,1,2.83,0l1.4,1.43a1.91,1.91,0,0,1,.58,1.4,1.91,1.91,0,0,1-.58,1.4L9.25,21ZM18.45,9,17,7.55Zm-12,3A5.31,5.31,0,0,0,4.9,8.1,5.31,5.31,0,0,0,1,6.5,5.31,5.31,0,0,0,4.9,4.9,5.31,5.31,0,0,0,6.5,1,5.31,5.31,0,0,0,8.1,4.9,5.31,5.31,0,0,0,12,6.5,5.46,5.46,0,0,0,6.5,12Z\"/>\n",
              "  </svg>\n",
              "    </button>\n",
              "    <script>\n",
              "      (() => {\n",
              "      const buttonEl =\n",
              "        document.querySelector('#id_40636a4c-9909-4d3e-ac7f-3fe47e0f2ef5 button.colab-df-generate');\n",
              "      buttonEl.style.display =\n",
              "        google.colab.kernel.accessAllowed ? 'block' : 'none';\n",
              "\n",
              "      buttonEl.onclick = () => {\n",
              "        google.colab.notebook.generateWithVariable('metrics_df');\n",
              "      }\n",
              "      })();\n",
              "    </script>\n",
              "  </div>\n",
              "\n",
              "    </div>\n",
              "  </div>\n"
            ],
            "application/vnd.google.colaboratory.intrinsic+json": {
              "type": "dataframe",
              "variable_name": "metrics_df",
              "summary": "{\n  \"name\": \"metrics_df\",\n  \"rows\": 8,\n  \"fields\": [\n    {\n      \"column\": \"Model\",\n      \"properties\": {\n        \"dtype\": \"string\",\n        \"num_unique_values\": 8,\n        \"samples\": [\n          \"FAN\",\n          \"TF-GFAN\",\n          \"MLP\"\n        ],\n        \"semantic_type\": \"\",\n        \"description\": \"\"\n      }\n    },\n    {\n      \"column\": \"RMSE\",\n      \"properties\": {\n        \"dtype\": \"number\",\n        \"std\": 2.0533369068840717,\n        \"min\": 16.1301772212056,\n        \"max\": 22.475681981145268,\n        \"num_unique_values\": 8,\n        \"samples\": [\n          22.475681981145268,\n          16.48505256308916,\n          17.897033343273247\n        ],\n        \"semantic_type\": \"\",\n        \"description\": \"\"\n      }\n    },\n    {\n      \"column\": \"MAE\",\n      \"properties\": {\n        \"dtype\": \"number\",\n        \"std\": 2.2909785818750343,\n        \"min\": 11.442931175231934,\n        \"max\": 18.515722274780273,\n        \"num_unique_values\": 8,\n        \"samples\": [\n          18.515722274780273,\n          11.69791030883789,\n          14.1121826171875\n        ],\n        \"semantic_type\": \"\",\n        \"description\": \"\"\n      }\n    },\n    {\n      \"column\": \"MAPE\",\n      \"properties\": {\n        \"dtype\": \"number\",\n        \"std\": 8.02944993130381,\n        \"min\": 40.2073860168457,\n        \"max\": 62.75019645690918,\n        \"num_unique_values\": 8,\n        \"samples\": [\n          59.83957052230835,\n          49.58410561084747,\n          62.75019645690918\n        ],\n        \"semantic_type\": \"\",\n        \"description\": \"\"\n      }\n    }\n  ]\n}"
            }
          },
          "metadata": {}
        }
      ]
    },
    {
      "cell_type": "code",
      "source": [
        "# Function to highlight the minimum in each column\n",
        "def highlight_min(s):\n",
        "    is_min = s == s.min()\n",
        "    return ['background-color: lightgreen' if v else '' for v in is_min]\n",
        "\n",
        "# Apply the styling\n",
        "styled_df = metrics_df.style.apply(highlight_min, subset=['RMSE', 'MAE', 'MAPE'])\n",
        "\n",
        "# Display the styled DataFrame\n",
        "styled_df"
      ],
      "metadata": {
        "colab": {
          "base_uri": "https://localhost:8080/",
          "height": 300
        },
        "id": "VjaM-qc5ZJIK",
        "outputId": "6ef3c3a1-bdb3-4d66-9910-c97dbf9b3b65"
      },
      "execution_count": 43,
      "outputs": [
        {
          "output_type": "execute_result",
          "data": {
            "text/plain": [
              "<pandas.io.formats.style.Styler at 0x7ec4f3b956c0>"
            ],
            "text/html": [
              "<style type=\"text/css\">\n",
              "#T_38d8d_row2_col3, #T_38d8d_row3_col1, #T_38d8d_row3_col2 {\n",
              "  background-color: lightgreen;\n",
              "}\n",
              "</style>\n",
              "<table id=\"T_38d8d\" class=\"dataframe\">\n",
              "  <thead>\n",
              "    <tr>\n",
              "      <th class=\"blank level0\" >&nbsp;</th>\n",
              "      <th id=\"T_38d8d_level0_col0\" class=\"col_heading level0 col0\" >Model</th>\n",
              "      <th id=\"T_38d8d_level0_col1\" class=\"col_heading level0 col1\" >RMSE</th>\n",
              "      <th id=\"T_38d8d_level0_col2\" class=\"col_heading level0 col2\" >MAE</th>\n",
              "      <th id=\"T_38d8d_level0_col3\" class=\"col_heading level0 col3\" >MAPE</th>\n",
              "    </tr>\n",
              "  </thead>\n",
              "  <tbody>\n",
              "    <tr>\n",
              "      <th id=\"T_38d8d_level0_row0\" class=\"row_heading level0 row0\" >0</th>\n",
              "      <td id=\"T_38d8d_row0_col0\" class=\"data row0 col0\" >MLP</td>\n",
              "      <td id=\"T_38d8d_row0_col1\" class=\"data row0 col1\" >17.897033</td>\n",
              "      <td id=\"T_38d8d_row0_col2\" class=\"data row0 col2\" >14.112183</td>\n",
              "      <td id=\"T_38d8d_row0_col3\" class=\"data row0 col3\" >62.750196</td>\n",
              "    </tr>\n",
              "    <tr>\n",
              "      <th id=\"T_38d8d_level0_row1\" class=\"row_heading level0 row1\" >1</th>\n",
              "      <td id=\"T_38d8d_row1_col0\" class=\"data row1 col0\" >FAN</td>\n",
              "      <td id=\"T_38d8d_row1_col1\" class=\"data row1 col1\" >22.475682</td>\n",
              "      <td id=\"T_38d8d_row1_col2\" class=\"data row1 col2\" >18.515722</td>\n",
              "      <td id=\"T_38d8d_row1_col3\" class=\"data row1 col3\" >59.839571</td>\n",
              "    </tr>\n",
              "    <tr>\n",
              "      <th id=\"T_38d8d_level0_row2\" class=\"row_heading level0 row2\" >2</th>\n",
              "      <td id=\"T_38d8d_row2_col0\" class=\"data row2 col0\" >GFAN</td>\n",
              "      <td id=\"T_38d8d_row2_col1\" class=\"data row2 col1\" >17.269169</td>\n",
              "      <td id=\"T_38d8d_row2_col2\" class=\"data row2 col2\" >13.568264</td>\n",
              "      <td id=\"T_38d8d_row2_col3\" class=\"data row2 col3\" >40.207386</td>\n",
              "    </tr>\n",
              "    <tr>\n",
              "      <th id=\"T_38d8d_level0_row3\" class=\"row_heading level0 row3\" >3</th>\n",
              "      <td id=\"T_38d8d_row3_col0\" class=\"data row3 col0\" >TF</td>\n",
              "      <td id=\"T_38d8d_row3_col1\" class=\"data row3 col1\" >16.130177</td>\n",
              "      <td id=\"T_38d8d_row3_col2\" class=\"data row3 col2\" >11.442931</td>\n",
              "      <td id=\"T_38d8d_row3_col3\" class=\"data row3 col3\" >45.564702</td>\n",
              "    </tr>\n",
              "    <tr>\n",
              "      <th id=\"T_38d8d_level0_row4\" class=\"row_heading level0 row4\" >4</th>\n",
              "      <td id=\"T_38d8d_row4_col0\" class=\"data row4 col0\" >TF-FAN</td>\n",
              "      <td id=\"T_38d8d_row4_col1\" class=\"data row4 col1\" >16.925829</td>\n",
              "      <td id=\"T_38d8d_row4_col2\" class=\"data row4 col2\" >11.896784</td>\n",
              "      <td id=\"T_38d8d_row4_col3\" class=\"data row4 col3\" >52.112204</td>\n",
              "    </tr>\n",
              "    <tr>\n",
              "      <th id=\"T_38d8d_level0_row5\" class=\"row_heading level0 row5\" >5</th>\n",
              "      <td id=\"T_38d8d_row5_col0\" class=\"data row5 col0\" >TF-GFAN</td>\n",
              "      <td id=\"T_38d8d_row5_col1\" class=\"data row5 col1\" >16.485053</td>\n",
              "      <td id=\"T_38d8d_row5_col2\" class=\"data row5 col2\" >11.697910</td>\n",
              "      <td id=\"T_38d8d_row5_col3\" class=\"data row5 col3\" >49.584106</td>\n",
              "    </tr>\n",
              "    <tr>\n",
              "      <th id=\"T_38d8d_level0_row6\" class=\"row_heading level0 row6\" >6</th>\n",
              "      <td id=\"T_38d8d_row6_col0\" class=\"data row6 col0\" >LSTM</td>\n",
              "      <td id=\"T_38d8d_row6_col1\" class=\"data row6 col1\" >19.426628</td>\n",
              "      <td id=\"T_38d8d_row6_col2\" class=\"data row6 col2\" >14.673964</td>\n",
              "      <td id=\"T_38d8d_row6_col3\" class=\"data row6 col3\" >44.391009</td>\n",
              "    </tr>\n",
              "    <tr>\n",
              "      <th id=\"T_38d8d_level0_row7\" class=\"row_heading level0 row7\" >7</th>\n",
              "      <td id=\"T_38d8d_row7_col0\" class=\"data row7 col0\" >GRU</td>\n",
              "      <td id=\"T_38d8d_row7_col1\" class=\"data row7 col1\" >17.982505</td>\n",
              "      <td id=\"T_38d8d_row7_col2\" class=\"data row7 col2\" >13.960211</td>\n",
              "      <td id=\"T_38d8d_row7_col3\" class=\"data row7 col3\" >43.618444</td>\n",
              "    </tr>\n",
              "  </tbody>\n",
              "</table>\n"
            ]
          },
          "metadata": {},
          "execution_count": 43
        }
      ]
    },
    {
      "cell_type": "code",
      "source": [
        "!pip install -q dataframe-image selenium"
      ],
      "metadata": {
        "id": "eI0Bop7rdhRa"
      },
      "execution_count": 44,
      "outputs": []
    },
    {
      "cell_type": "code",
      "source": [
        "import dataframe_image as dfi\n",
        "from IPython.display import Image\n",
        "from typing import Optional\n",
        "from io import BytesIO"
      ],
      "metadata": {
        "id": "waSESefTdhEH"
      },
      "execution_count": 45,
      "outputs": []
    },
    {
      "cell_type": "code",
      "source": [
        "def export_styled_dataframe(\n",
        "    styled_df: pd.io.formats.style.Styler,\n",
        "    filename: str = 'styled_dataframe.png',\n",
        "    show_image: bool = True,\n",
        "    table_conversion: str = 'selenium'\n",
        ") -> Optional[bytes]:\n",
        "    \"\"\"\n",
        "    Export a styled pandas DataFrame to an image file and optionally display it within the notebook.\n",
        "\n",
        "    Converts a styled pandas DataFrame into an image using the specified conversion method,\n",
        "    saves the image to the designated filename, and displays the image if requested.\n",
        "\n",
        "    Args:\n",
        "        styled_df (pd.io.formats.style.Styler): The styled pandas DataFrame to export as an image.\n",
        "        filename (str, optional): The name of the output image file. Defaults to 'styled_dataframe.png'.\n",
        "        show_image (bool, optional):\n",
        "            Flag to determine whether to display the exported image in the notebook.\n",
        "            If set to `True`, the image will be displayed after export. Defaults to `True`.\n",
        "        table_conversion (str, optional):\n",
        "            The method used to convert the DataFrame to an image. Defaults to 'selenium'.\n",
        "\n",
        "    Returns:\n",
        "        Optional[bytes]:\n",
        "            The binary image data of the exported DataFrame if the export is successful.\n",
        "            Returns `None` if an error occurs during the export process.\n",
        "\n",
        "    Raises:\n",
        "        Exception:\n",
        "            For any other exceptions that occur during the export process.\n",
        "    \"\"\"\n",
        "    try:\n",
        "        # Create a BytesIO object to hold the image data\n",
        "        bio = BytesIO()\n",
        "\n",
        "        # Export the styled DataFrame as an image using the specified conversion method\n",
        "        dfi.export(\n",
        "            styled_df,\n",
        "            bio,\n",
        "            table_conversion=table_conversion\n",
        "        )\n",
        "\n",
        "        # Read the image data from BytesIO\n",
        "        image_data = bio.getvalue()\n",
        "\n",
        "        # Save the image data to a file\n",
        "        with open(filename, 'wb') as f:\n",
        "            f.write(image_data)\n",
        "\n",
        "        print(f\"Styled DataFrame exported as {filename}\\n\")\n",
        "\n",
        "        # Display the image from the saved file if requested\n",
        "        if show_image:\n",
        "            display(Image(filename))\n",
        "\n",
        "        return image_data\n",
        "\n",
        "    except Exception as e:\n",
        "        print(f\"An error occurred while exporting the DataFrame: {e}\")\n",
        "        return None"
      ],
      "metadata": {
        "id": "evEptobKdD22"
      },
      "execution_count": 46,
      "outputs": []
    },
    {
      "cell_type": "code",
      "source": [
        "# Exporting and displaying the styled DataFrame\n",
        "image_data = export_styled_dataframe(\n",
        "    styled_df=styled_df,\n",
        "    filename='styled_df.png',\n",
        "    show_image=True,\n",
        "    table_conversion='selenium'\n",
        ")"
      ],
      "metadata": {
        "colab": {
          "base_uri": "https://localhost:8080/",
          "height": 322
        },
        "id": "e25RLdB5dDwH",
        "outputId": "820d65ab-6b26-47c8-ff43-8f4a8d03db76"
      },
      "execution_count": 47,
      "outputs": [
        {
          "output_type": "stream",
          "name": "stdout",
          "text": [
            "Styled DataFrame exported as styled_df.png\n",
            "\n"
          ]
        },
        {
          "output_type": "display_data",
          "data": {
            "image/png": "[encoded data removed]",
            "text/plain": [
              "<IPython.core.display.Image object>"
            ]
          },
          "metadata": {}
        }
      ]
    },
    {
      "cell_type": "code",
      "source": [
        "# Plot Performance Metrics\n",
        "plot_performance_metrics(metrics_df)"
      ],
      "metadata": {
        "colab": {
          "base_uri": "https://localhost:8080/",
          "height": 606
        },
        "id": "nFwu7TTkAJMQ",
        "outputId": "d656e962-ed8d-430b-894c-53aca3c40c19"
      },
      "execution_count": 48,
      "outputs": [
        {
          "output_type": "display_data",
          "data": {
            "text/plain": [
              "<Figure size 1400x700 with 1 Axes>"
            ],
            "image/png": "[encoded data removed]"
          },
          "metadata": {}
        }
      ]
    },
    {
      "cell_type": "code",
      "source": [
        "# Plot Predictions vs. Actuals\n",
        "plot_predictions(performance)"
      ],
      "metadata": {
        "colab": {
          "base_uri": "https://localhost:8080/",
          "height": 826
        },
        "id": "y3KHWi0HAJKc",
        "outputId": "886a1518-b5d5-49f3-be32-c0a2aa72a563"
      },
      "execution_count": 49,
      "outputs": [
        {
          "output_type": "display_data",
          "data": {
            "text/plain": [
              "<Figure size 1500x1200 with 8 Axes>"
            ],
            "image/png": "[encoded data removed]"
          },
          "metadata": {}
        }
      ]
    }
  ]
}